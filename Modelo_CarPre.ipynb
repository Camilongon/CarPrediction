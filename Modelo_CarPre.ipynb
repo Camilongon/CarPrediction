{
 "cells": [
  {
   "cell_type": "code",
   "execution_count": 1,
   "metadata": {},
   "outputs": [],
   "source": [
    "import pandas as pd\n",
    "import numpy as np\n",
    "import matplotlib.pyplot as plt\n",
    "import re\n",
    "from datetime import datetime\n",
    "import seaborn as sns\n",
    "from sklearn.preprocessing import OrdinalEncoder, OneHotEncoder, StandardScaler"
   ]
  },
  {
   "cell_type": "code",
   "execution_count": 2,
   "metadata": {},
   "outputs": [
    {
     "data": {
      "text/html": [
       "<div>\n",
       "<style scoped>\n",
       "    .dataframe tbody tr th:only-of-type {\n",
       "        vertical-align: middle;\n",
       "    }\n",
       "\n",
       "    .dataframe tbody tr th {\n",
       "        vertical-align: top;\n",
       "    }\n",
       "\n",
       "    .dataframe thead th {\n",
       "        text-align: right;\n",
       "    }\n",
       "</style>\n",
       "<table border=\"1\" class=\"dataframe\">\n",
       "  <thead>\n",
       "    <tr style=\"text-align: right;\">\n",
       "      <th></th>\n",
       "      <th>name</th>\n",
       "      <th>year</th>\n",
       "      <th>selling_price</th>\n",
       "      <th>km_driven</th>\n",
       "      <th>fuel</th>\n",
       "      <th>seller_type</th>\n",
       "      <th>transmission</th>\n",
       "      <th>owner</th>\n",
       "      <th>mileage</th>\n",
       "      <th>engine</th>\n",
       "      <th>max_power</th>\n",
       "      <th>torque</th>\n",
       "      <th>seats</th>\n",
       "    </tr>\n",
       "  </thead>\n",
       "  <tbody>\n",
       "    <tr>\n",
       "      <th>0</th>\n",
       "      <td>Maruti Swift Dzire VDI</td>\n",
       "      <td>2014</td>\n",
       "      <td>450000</td>\n",
       "      <td>145500</td>\n",
       "      <td>Diesel</td>\n",
       "      <td>Individual</td>\n",
       "      <td>Manual</td>\n",
       "      <td>First Owner</td>\n",
       "      <td>23.4 kmpl</td>\n",
       "      <td>1248 CC</td>\n",
       "      <td>74 bhp</td>\n",
       "      <td>190Nm@ 2000rpm</td>\n",
       "      <td>5.0</td>\n",
       "    </tr>\n",
       "    <tr>\n",
       "      <th>1</th>\n",
       "      <td>Skoda Rapid 1.5 TDI Ambition</td>\n",
       "      <td>2014</td>\n",
       "      <td>370000</td>\n",
       "      <td>120000</td>\n",
       "      <td>Diesel</td>\n",
       "      <td>Individual</td>\n",
       "      <td>Manual</td>\n",
       "      <td>Second Owner</td>\n",
       "      <td>21.14 kmpl</td>\n",
       "      <td>1498 CC</td>\n",
       "      <td>103.52 bhp</td>\n",
       "      <td>250Nm@ 1500-2500rpm</td>\n",
       "      <td>5.0</td>\n",
       "    </tr>\n",
       "    <tr>\n",
       "      <th>2</th>\n",
       "      <td>Honda City 2017-2020 EXi</td>\n",
       "      <td>2006</td>\n",
       "      <td>158000</td>\n",
       "      <td>140000</td>\n",
       "      <td>Petrol</td>\n",
       "      <td>Individual</td>\n",
       "      <td>Manual</td>\n",
       "      <td>Third Owner</td>\n",
       "      <td>17.7 kmpl</td>\n",
       "      <td>1497 CC</td>\n",
       "      <td>78 bhp</td>\n",
       "      <td>12.7@ 2,700(kgm@ rpm)</td>\n",
       "      <td>5.0</td>\n",
       "    </tr>\n",
       "    <tr>\n",
       "      <th>3</th>\n",
       "      <td>Hyundai i20 Sportz Diesel</td>\n",
       "      <td>2010</td>\n",
       "      <td>225000</td>\n",
       "      <td>127000</td>\n",
       "      <td>Diesel</td>\n",
       "      <td>Individual</td>\n",
       "      <td>Manual</td>\n",
       "      <td>First Owner</td>\n",
       "      <td>23.0 kmpl</td>\n",
       "      <td>1396 CC</td>\n",
       "      <td>90 bhp</td>\n",
       "      <td>22.4 kgm at 1750-2750rpm</td>\n",
       "      <td>5.0</td>\n",
       "    </tr>\n",
       "    <tr>\n",
       "      <th>4</th>\n",
       "      <td>Maruti Swift VXI BSIII</td>\n",
       "      <td>2007</td>\n",
       "      <td>130000</td>\n",
       "      <td>120000</td>\n",
       "      <td>Petrol</td>\n",
       "      <td>Individual</td>\n",
       "      <td>Manual</td>\n",
       "      <td>First Owner</td>\n",
       "      <td>16.1 kmpl</td>\n",
       "      <td>1298 CC</td>\n",
       "      <td>88.2 bhp</td>\n",
       "      <td>11.5@ 4,500(kgm@ rpm)</td>\n",
       "      <td>5.0</td>\n",
       "    </tr>\n",
       "    <tr>\n",
       "      <th>5</th>\n",
       "      <td>Hyundai Xcent 1.2 VTVT E Plus</td>\n",
       "      <td>2017</td>\n",
       "      <td>440000</td>\n",
       "      <td>45000</td>\n",
       "      <td>Petrol</td>\n",
       "      <td>Individual</td>\n",
       "      <td>Manual</td>\n",
       "      <td>First Owner</td>\n",
       "      <td>20.14 kmpl</td>\n",
       "      <td>1197 CC</td>\n",
       "      <td>81.86 bhp</td>\n",
       "      <td>113.75nm@ 4000rpm</td>\n",
       "      <td>5.0</td>\n",
       "    </tr>\n",
       "    <tr>\n",
       "      <th>6</th>\n",
       "      <td>Maruti Wagon R LXI DUO BSIII</td>\n",
       "      <td>2007</td>\n",
       "      <td>96000</td>\n",
       "      <td>175000</td>\n",
       "      <td>LPG</td>\n",
       "      <td>Individual</td>\n",
       "      <td>Manual</td>\n",
       "      <td>First Owner</td>\n",
       "      <td>17.3 km/kg</td>\n",
       "      <td>1061 CC</td>\n",
       "      <td>57.5 bhp</td>\n",
       "      <td>7.8@ 4,500(kgm@ rpm)</td>\n",
       "      <td>5.0</td>\n",
       "    </tr>\n",
       "    <tr>\n",
       "      <th>7</th>\n",
       "      <td>Maruti 800 DX BSII</td>\n",
       "      <td>2001</td>\n",
       "      <td>45000</td>\n",
       "      <td>5000</td>\n",
       "      <td>Petrol</td>\n",
       "      <td>Individual</td>\n",
       "      <td>Manual</td>\n",
       "      <td>Second Owner</td>\n",
       "      <td>16.1 kmpl</td>\n",
       "      <td>796 CC</td>\n",
       "      <td>37 bhp</td>\n",
       "      <td>59Nm@ 2500rpm</td>\n",
       "      <td>4.0</td>\n",
       "    </tr>\n",
       "    <tr>\n",
       "      <th>8</th>\n",
       "      <td>Toyota Etios VXD</td>\n",
       "      <td>2011</td>\n",
       "      <td>350000</td>\n",
       "      <td>90000</td>\n",
       "      <td>Diesel</td>\n",
       "      <td>Individual</td>\n",
       "      <td>Manual</td>\n",
       "      <td>First Owner</td>\n",
       "      <td>23.59 kmpl</td>\n",
       "      <td>1364 CC</td>\n",
       "      <td>67.1 bhp</td>\n",
       "      <td>170Nm@ 1800-2400rpm</td>\n",
       "      <td>5.0</td>\n",
       "    </tr>\n",
       "    <tr>\n",
       "      <th>9</th>\n",
       "      <td>Ford Figo Diesel Celebration Edition</td>\n",
       "      <td>2013</td>\n",
       "      <td>200000</td>\n",
       "      <td>169000</td>\n",
       "      <td>Diesel</td>\n",
       "      <td>Individual</td>\n",
       "      <td>Manual</td>\n",
       "      <td>First Owner</td>\n",
       "      <td>20.0 kmpl</td>\n",
       "      <td>1399 CC</td>\n",
       "      <td>68.1 bhp</td>\n",
       "      <td>160Nm@ 2000rpm</td>\n",
       "      <td>5.0</td>\n",
       "    </tr>\n",
       "  </tbody>\n",
       "</table>\n",
       "</div>"
      ],
      "text/plain": [
       "                                   name  year  selling_price  km_driven  \\\n",
       "0                Maruti Swift Dzire VDI  2014         450000     145500   \n",
       "1          Skoda Rapid 1.5 TDI Ambition  2014         370000     120000   \n",
       "2              Honda City 2017-2020 EXi  2006         158000     140000   \n",
       "3             Hyundai i20 Sportz Diesel  2010         225000     127000   \n",
       "4                Maruti Swift VXI BSIII  2007         130000     120000   \n",
       "5         Hyundai Xcent 1.2 VTVT E Plus  2017         440000      45000   \n",
       "6          Maruti Wagon R LXI DUO BSIII  2007          96000     175000   \n",
       "7                    Maruti 800 DX BSII  2001          45000       5000   \n",
       "8                      Toyota Etios VXD  2011         350000      90000   \n",
       "9  Ford Figo Diesel Celebration Edition  2013         200000     169000   \n",
       "\n",
       "     fuel seller_type transmission         owner     mileage   engine  \\\n",
       "0  Diesel  Individual       Manual   First Owner   23.4 kmpl  1248 CC   \n",
       "1  Diesel  Individual       Manual  Second Owner  21.14 kmpl  1498 CC   \n",
       "2  Petrol  Individual       Manual   Third Owner   17.7 kmpl  1497 CC   \n",
       "3  Diesel  Individual       Manual   First Owner   23.0 kmpl  1396 CC   \n",
       "4  Petrol  Individual       Manual   First Owner   16.1 kmpl  1298 CC   \n",
       "5  Petrol  Individual       Manual   First Owner  20.14 kmpl  1197 CC   \n",
       "6     LPG  Individual       Manual   First Owner  17.3 km/kg  1061 CC   \n",
       "7  Petrol  Individual       Manual  Second Owner   16.1 kmpl   796 CC   \n",
       "8  Diesel  Individual       Manual   First Owner  23.59 kmpl  1364 CC   \n",
       "9  Diesel  Individual       Manual   First Owner   20.0 kmpl  1399 CC   \n",
       "\n",
       "    max_power                    torque  seats  \n",
       "0      74 bhp            190Nm@ 2000rpm    5.0  \n",
       "1  103.52 bhp       250Nm@ 1500-2500rpm    5.0  \n",
       "2      78 bhp     12.7@ 2,700(kgm@ rpm)    5.0  \n",
       "3      90 bhp  22.4 kgm at 1750-2750rpm    5.0  \n",
       "4    88.2 bhp     11.5@ 4,500(kgm@ rpm)    5.0  \n",
       "5   81.86 bhp         113.75nm@ 4000rpm    5.0  \n",
       "6    57.5 bhp      7.8@ 4,500(kgm@ rpm)    5.0  \n",
       "7      37 bhp             59Nm@ 2500rpm    4.0  \n",
       "8    67.1 bhp       170Nm@ 1800-2400rpm    5.0  \n",
       "9    68.1 bhp            160Nm@ 2000rpm    5.0  "
      ]
     },
     "execution_count": 2,
     "metadata": {},
     "output_type": "execute_result"
    }
   ],
   "source": [
    "df = pd.read_csv(\"Car details v3.csv\")\n",
    "df.head(10)"
   ]
  },
  {
   "cell_type": "code",
   "execution_count": 3,
   "metadata": {},
   "outputs": [
    {
     "name": "stdout",
     "output_type": "stream",
     "text": [
      "['Diesel' 'Petrol' 'LPG' 'CNG']\n",
      "['Individual' 'Dealer' 'Trustmark Dealer']\n",
      "['Manual' 'Automatic']\n"
     ]
    }
   ],
   "source": [
    "for cat in df.columns[4:7]:\n",
    "    print(df[cat].unique())"
   ]
  },
  {
   "cell_type": "code",
   "execution_count": 4,
   "metadata": {},
   "outputs": [
    {
     "data": {
      "text/plain": [
       "name               0\n",
       "year               0\n",
       "selling_price      0\n",
       "km_driven          0\n",
       "fuel               0\n",
       "seller_type        0\n",
       "transmission       0\n",
       "owner              0\n",
       "mileage          221\n",
       "engine           221\n",
       "max_power        215\n",
       "torque           222\n",
       "seats            221\n",
       "dtype: int64"
      ]
     },
     "execution_count": 4,
     "metadata": {},
     "output_type": "execute_result"
    }
   ],
   "source": [
    "df.isnull().sum()"
   ]
  },
  {
   "cell_type": "code",
   "execution_count": 83,
   "metadata": {},
   "outputs": [
    {
     "data": {
      "text/html": [
       "<div>\n",
       "<style scoped>\n",
       "    .dataframe tbody tr th:only-of-type {\n",
       "        vertical-align: middle;\n",
       "    }\n",
       "\n",
       "    .dataframe tbody tr th {\n",
       "        vertical-align: top;\n",
       "    }\n",
       "\n",
       "    .dataframe thead th {\n",
       "        text-align: right;\n",
       "    }\n",
       "</style>\n",
       "<table border=\"1\" class=\"dataframe\">\n",
       "  <thead>\n",
       "    <tr style=\"text-align: right;\">\n",
       "      <th></th>\n",
       "      <th>name</th>\n",
       "      <th>year</th>\n",
       "      <th>selling_price</th>\n",
       "      <th>km_driven</th>\n",
       "      <th>fuel</th>\n",
       "      <th>seller_type</th>\n",
       "      <th>transmission</th>\n",
       "      <th>owner</th>\n",
       "      <th>mileage</th>\n",
       "      <th>engine</th>\n",
       "      <th>max_power</th>\n",
       "      <th>torque</th>\n",
       "      <th>seats</th>\n",
       "    </tr>\n",
       "  </thead>\n",
       "  <tbody>\n",
       "    <tr>\n",
       "      <th>0</th>\n",
       "      <td>NaN</td>\n",
       "      <td>NaN</td>\n",
       "      <td>NaN</td>\n",
       "      <td>NaN</td>\n",
       "      <td>NaN</td>\n",
       "      <td>NaN</td>\n",
       "      <td>NaN</td>\n",
       "      <td>NaN</td>\n",
       "      <td>NaN</td>\n",
       "      <td>NaN</td>\n",
       "      <td>NaN</td>\n",
       "      <td>NaN</td>\n",
       "      <td>NaN</td>\n",
       "    </tr>\n",
       "    <tr>\n",
       "      <th>1</th>\n",
       "      <td>NaN</td>\n",
       "      <td>NaN</td>\n",
       "      <td>NaN</td>\n",
       "      <td>NaN</td>\n",
       "      <td>NaN</td>\n",
       "      <td>NaN</td>\n",
       "      <td>NaN</td>\n",
       "      <td>NaN</td>\n",
       "      <td>NaN</td>\n",
       "      <td>NaN</td>\n",
       "      <td>NaN</td>\n",
       "      <td>NaN</td>\n",
       "      <td>NaN</td>\n",
       "    </tr>\n",
       "    <tr>\n",
       "      <th>2</th>\n",
       "      <td>NaN</td>\n",
       "      <td>NaN</td>\n",
       "      <td>NaN</td>\n",
       "      <td>NaN</td>\n",
       "      <td>NaN</td>\n",
       "      <td>NaN</td>\n",
       "      <td>NaN</td>\n",
       "      <td>NaN</td>\n",
       "      <td>NaN</td>\n",
       "      <td>NaN</td>\n",
       "      <td>NaN</td>\n",
       "      <td>NaN</td>\n",
       "      <td>NaN</td>\n",
       "    </tr>\n",
       "    <tr>\n",
       "      <th>3</th>\n",
       "      <td>NaN</td>\n",
       "      <td>NaN</td>\n",
       "      <td>NaN</td>\n",
       "      <td>NaN</td>\n",
       "      <td>NaN</td>\n",
       "      <td>NaN</td>\n",
       "      <td>NaN</td>\n",
       "      <td>NaN</td>\n",
       "      <td>NaN</td>\n",
       "      <td>NaN</td>\n",
       "      <td>NaN</td>\n",
       "      <td>NaN</td>\n",
       "      <td>NaN</td>\n",
       "    </tr>\n",
       "    <tr>\n",
       "      <th>4</th>\n",
       "      <td>NaN</td>\n",
       "      <td>NaN</td>\n",
       "      <td>NaN</td>\n",
       "      <td>NaN</td>\n",
       "      <td>NaN</td>\n",
       "      <td>NaN</td>\n",
       "      <td>NaN</td>\n",
       "      <td>NaN</td>\n",
       "      <td>NaN</td>\n",
       "      <td>NaN</td>\n",
       "      <td>NaN</td>\n",
       "      <td>NaN</td>\n",
       "      <td>NaN</td>\n",
       "    </tr>\n",
       "    <tr>\n",
       "      <th>...</th>\n",
       "      <td>...</td>\n",
       "      <td>...</td>\n",
       "      <td>...</td>\n",
       "      <td>...</td>\n",
       "      <td>...</td>\n",
       "      <td>...</td>\n",
       "      <td>...</td>\n",
       "      <td>...</td>\n",
       "      <td>...</td>\n",
       "      <td>...</td>\n",
       "      <td>...</td>\n",
       "      <td>...</td>\n",
       "      <td>...</td>\n",
       "    </tr>\n",
       "    <tr>\n",
       "      <th>8123</th>\n",
       "      <td>NaN</td>\n",
       "      <td>NaN</td>\n",
       "      <td>NaN</td>\n",
       "      <td>NaN</td>\n",
       "      <td>NaN</td>\n",
       "      <td>NaN</td>\n",
       "      <td>NaN</td>\n",
       "      <td>NaN</td>\n",
       "      <td>NaN</td>\n",
       "      <td>NaN</td>\n",
       "      <td>NaN</td>\n",
       "      <td>NaN</td>\n",
       "      <td>NaN</td>\n",
       "    </tr>\n",
       "    <tr>\n",
       "      <th>8124</th>\n",
       "      <td>NaN</td>\n",
       "      <td>NaN</td>\n",
       "      <td>NaN</td>\n",
       "      <td>NaN</td>\n",
       "      <td>NaN</td>\n",
       "      <td>NaN</td>\n",
       "      <td>NaN</td>\n",
       "      <td>NaN</td>\n",
       "      <td>NaN</td>\n",
       "      <td>NaN</td>\n",
       "      <td>NaN</td>\n",
       "      <td>NaN</td>\n",
       "      <td>NaN</td>\n",
       "    </tr>\n",
       "    <tr>\n",
       "      <th>8125</th>\n",
       "      <td>NaN</td>\n",
       "      <td>NaN</td>\n",
       "      <td>NaN</td>\n",
       "      <td>NaN</td>\n",
       "      <td>NaN</td>\n",
       "      <td>NaN</td>\n",
       "      <td>NaN</td>\n",
       "      <td>NaN</td>\n",
       "      <td>NaN</td>\n",
       "      <td>NaN</td>\n",
       "      <td>NaN</td>\n",
       "      <td>NaN</td>\n",
       "      <td>NaN</td>\n",
       "    </tr>\n",
       "    <tr>\n",
       "      <th>8126</th>\n",
       "      <td>NaN</td>\n",
       "      <td>NaN</td>\n",
       "      <td>NaN</td>\n",
       "      <td>NaN</td>\n",
       "      <td>NaN</td>\n",
       "      <td>NaN</td>\n",
       "      <td>NaN</td>\n",
       "      <td>NaN</td>\n",
       "      <td>NaN</td>\n",
       "      <td>NaN</td>\n",
       "      <td>NaN</td>\n",
       "      <td>NaN</td>\n",
       "      <td>NaN</td>\n",
       "    </tr>\n",
       "    <tr>\n",
       "      <th>8127</th>\n",
       "      <td>NaN</td>\n",
       "      <td>NaN</td>\n",
       "      <td>NaN</td>\n",
       "      <td>NaN</td>\n",
       "      <td>NaN</td>\n",
       "      <td>NaN</td>\n",
       "      <td>NaN</td>\n",
       "      <td>NaN</td>\n",
       "      <td>NaN</td>\n",
       "      <td>NaN</td>\n",
       "      <td>NaN</td>\n",
       "      <td>NaN</td>\n",
       "      <td>NaN</td>\n",
       "    </tr>\n",
       "  </tbody>\n",
       "</table>\n",
       "<p>8128 rows × 13 columns</p>\n",
       "</div>"
      ],
      "text/plain": [
       "     name  year  selling_price  km_driven fuel seller_type transmission owner  \\\n",
       "0     NaN   NaN            NaN        NaN  NaN         NaN          NaN   NaN   \n",
       "1     NaN   NaN            NaN        NaN  NaN         NaN          NaN   NaN   \n",
       "2     NaN   NaN            NaN        NaN  NaN         NaN          NaN   NaN   \n",
       "3     NaN   NaN            NaN        NaN  NaN         NaN          NaN   NaN   \n",
       "4     NaN   NaN            NaN        NaN  NaN         NaN          NaN   NaN   \n",
       "...   ...   ...            ...        ...  ...         ...          ...   ...   \n",
       "8123  NaN   NaN            NaN        NaN  NaN         NaN          NaN   NaN   \n",
       "8124  NaN   NaN            NaN        NaN  NaN         NaN          NaN   NaN   \n",
       "8125  NaN   NaN            NaN        NaN  NaN         NaN          NaN   NaN   \n",
       "8126  NaN   NaN            NaN        NaN  NaN         NaN          NaN   NaN   \n",
       "8127  NaN   NaN            NaN        NaN  NaN         NaN          NaN   NaN   \n",
       "\n",
       "     mileage engine max_power torque  seats  \n",
       "0        NaN    NaN       NaN    NaN    NaN  \n",
       "1        NaN    NaN       NaN    NaN    NaN  \n",
       "2        NaN    NaN       NaN    NaN    NaN  \n",
       "3        NaN    NaN       NaN    NaN    NaN  \n",
       "4        NaN    NaN       NaN    NaN    NaN  \n",
       "...      ...    ...       ...    ...    ...  \n",
       "8123     NaN    NaN       NaN    NaN    NaN  \n",
       "8124     NaN    NaN       NaN    NaN    NaN  \n",
       "8125     NaN    NaN       NaN    NaN    NaN  \n",
       "8126     NaN    NaN       NaN    NaN    NaN  \n",
       "8127     NaN    NaN       NaN    NaN    NaN  \n",
       "\n",
       "[8128 rows x 13 columns]"
      ]
     },
     "execution_count": 83,
     "metadata": {},
     "output_type": "execute_result"
    }
   ],
   "source": [
    "df[df.isnull()]"
   ]
  },
  {
   "cell_type": "code",
   "execution_count": 3,
   "metadata": {},
   "outputs": [],
   "source": [
    "df = df.dropna(how='any')"
   ]
  },
  {
   "cell_type": "code",
   "execution_count": 85,
   "metadata": {},
   "outputs": [
    {
     "data": {
      "text/plain": [
       "(7906, 13)"
      ]
     },
     "metadata": {},
     "output_type": "display_data"
    },
    {
     "data": {
      "text/plain": [
       "name             0\n",
       "year             0\n",
       "selling_price    0\n",
       "km_driven        0\n",
       "fuel             0\n",
       "seller_type      0\n",
       "transmission     0\n",
       "owner            0\n",
       "mileage          0\n",
       "engine           0\n",
       "max_power        0\n",
       "torque           0\n",
       "seats            0\n",
       "dtype: int64"
      ]
     },
     "metadata": {},
     "output_type": "display_data"
    }
   ],
   "source": [
    "display(df.shape, df.isnull().sum())"
   ]
  },
  {
   "cell_type": "code",
   "execution_count": 86,
   "metadata": {},
   "outputs": [
    {
     "name": "stdout",
     "output_type": "stream",
     "text": [
      "<class 'pandas.core.frame.DataFrame'>\n",
      "Int64Index: 7906 entries, 0 to 8127\n",
      "Data columns (total 13 columns):\n",
      " #   Column         Non-Null Count  Dtype  \n",
      "---  ------         --------------  -----  \n",
      " 0   name           7906 non-null   object \n",
      " 1   year           7906 non-null   int64  \n",
      " 2   selling_price  7906 non-null   int64  \n",
      " 3   km_driven      7906 non-null   int64  \n",
      " 4   fuel           7906 non-null   object \n",
      " 5   seller_type    7906 non-null   object \n",
      " 6   transmission   7906 non-null   object \n",
      " 7   owner          7906 non-null   object \n",
      " 8   mileage        7906 non-null   object \n",
      " 9   engine         7906 non-null   object \n",
      " 10  max_power      7906 non-null   object \n",
      " 11  torque         7906 non-null   object \n",
      " 12  seats          7906 non-null   float64\n",
      "dtypes: float64(1), int64(3), object(9)\n",
      "memory usage: 864.7+ KB\n"
     ]
    }
   ],
   "source": [
    "df.info()"
   ]
  },
  {
   "cell_type": "markdown",
   "metadata": {},
   "source": [
    "### Primeros pasos de preprocessing\n",
    "* Para la variable 'name' deberiamos utilizar solo la primera palabra, que es la que denota la \"Marca\" del auto y considerarla como nueva variable en una columna llamada \"Marca\"~y otra con el modelo \"Model\".~\n",
    "* Verificar con cada una de las columnas con \"Mising values\" si estas tienen alguna correlacion importante con \"Selling_Price\" para utilizarlas como posibles variables, de no ser asi eliminar las que no tengan una correlacion importante, (Ademas de verificar si entre estas hay una correlacion mayor al 0.8 y eliminar una de ellas para evitar problemas de \"cruce\")\n",
    "* Suplantar la columna \"Year\" por una que especifique la antiguedad del vehiculo, es decir, Year-datetime.now.year.\n",
    "* Torque, evaluar dos posibilidades, utilizar las variables de Newton-meter(Nm) o RPM,__(1 newton metro ≈ 0.102 kilogramo metro.)__ para el caso de RPM no habria que hacer conversiones, pero Nm si. Aunque la relacion entre Nm y RPM resulta en Potencia/HP.\n",
    "> Considerancion: En el caso de los B.H.P. se tiene en cuenta la pérdida de potencia provocada por la fricción, aspecto que no se tiene en cuenta a la hora de medir la potencia utilizando la unidad de medida H.P.\n",
    "* Limpiar los valores de las columnas (Torque, max_power,engine, mileage) elimnando su variable y solo utilizar el valor numerico\n",
    "* _\\d+Nm(?=@)_ formula Regex para extraccion de numero en Newton-meter\n",
    "* _\\d+\\.*\\d(?=@)(?<!kgm)_ formula Regex para extraccion de numero para casos de Kgm"
   ]
  },
  {
   "cell_type": "code",
   "execution_count": 87,
   "metadata": {},
   "outputs": [
    {
     "data": {
      "image/png": "[encoded data removed]",
      "text/plain": [
       "<Figure size 576x360 with 1 Axes>"
      ]
     },
     "metadata": {
      "needs_background": "light"
     },
     "output_type": "display_data"
    }
   ],
   "source": [
    "%matplotlib inline\n",
    "spliting = [len(x) for x in df['torque'].str.split(' ')]\n",
    "\n",
    "figure= plt.figure(figsize=(8,5))\n",
    "pd.Series(spliting).value_counts().plot(kind='barh')\n",
    "plt.ylabel('Numero de divisiones por fila')\n",
    "plt.xlabel('Cantidad')\n",
    "\n",
    "plt.show()"
   ]
  },
  {
   "cell_type": "markdown",
   "metadata": {},
   "source": [
    "### Creacion de columna para RPM"
   ]
  },
  {
   "cell_type": "markdown",
   "metadata": {},
   "source": [
    "Dicho grafico explica como esta distribuido la variable torque, segun los difrentes modos en los que se ingresaron los datos. Lo ideal seria utilizar aquellos que estan compuestos de dos(2) elementos, pero en este caso, intentare recuperar la mayoria de muestras que pueda."
   ]
  },
  {
   "cell_type": "code",
   "execution_count": 88,
   "metadata": {},
   "outputs": [
    {
     "data": {
      "text/plain": [
       "7906"
      ]
     },
     "metadata": {},
     "output_type": "display_data"
    },
    {
     "data": {
      "text/plain": [
       "['2000rpm',\n",
       " '1500-2500rpm',\n",
       " '2,700(kgm@',\n",
       " '1750-2750rpm',\n",
       " '4,500(kgm@',\n",
       " '4000rpm',\n",
       " '4,500(kgm@',\n",
       " '2500rpm',\n",
       " '1800-2400rpm',\n",
       " '2000rpm',\n",
       " '2250rpm',\n",
       " '4500rpm',\n",
       " '2000rpm',\n",
       " '3500rpm',\n",
       " '3500-3600rpm',\n",
       " '1750rpm',\n",
       " '1750-2750rpm',\n",
       " '3000rpm',\n",
       " '1500-2750rpm',\n",
       " '2000rpm',\n",
       " '1750rpm',\n",
       " '2000rpm',\n",
       " '1750rpm',\n",
       " '3500rpm',\n",
       " '4000rpm',\n",
       " '3500rpm',\n",
       " '1750rpm',\n",
       " '3500rpm',\n",
       " '2500rpm',\n",
       " '1750rpm',\n",
       " '3000rpm',\n",
       " '4000rpm',\n",
       " '1750rpm',\n",
       " '3500rpm',\n",
       " '3500rpm',\n",
       " '4850rpm',\n",
       " '4000rpm',\n",
       " '1700-2700rpm',\n",
       " '2500rpm',\n",
       " '1750-2500rpm',\n",
       " '4600rpm',\n",
       " '4800rpm',\n",
       " '4000rpm',\n",
       " '1750rpm',\n",
       " '3500rpm',\n",
       " '1400-3400rpm',\n",
       " '1400-3400rpm',\n",
       " '1250-4000rpm',\n",
       " '1750rpm',\n",
       " '2000-2500rpm',\n",
       " '1750rpm',\n",
       " '4400rpm',\n",
       " '1750rpm',\n",
       " '1200-3400rpm',\n",
       " '1200-3600rpm',\n",
       " '1750-2500rpm',\n",
       " '4000rpm',\n",
       " '1750-3000rpm',\n",
       " '1400-2800rpm',\n",
       " '1750-3000rpm',\n",
       " '4000rpm',\n",
       " '1500-2750rpm',\n",
       " '2000rpm',\n",
       " '4000rpm',\n",
       " '4000rpm',\n",
       " '1500-3000rpm',\n",
       " '1750rpm',\n",
       " '3500rpm',\n",
       " '1500-3000rpm',\n",
       " '1750rpm',\n",
       " '1750rpm',\n",
       " '4000rpm',\n",
       " '2000rpm',\n",
       " '1400-3400rpm',\n",
       " '2000rpm',\n",
       " '4000rpm',\n",
       " '1500-2500rpm',\n",
       " '1200-3600rpm',\n",
       " '1750-3250rpm',\n",
       " '1350-4600rpm',\n",
       " '3500rpm',\n",
       " '4000rpm',\n",
       " '3500rpm',\n",
       " '3500rpm',\n",
       " '4500rpm',\n",
       " '3000rpm',\n",
       " '3500rpm',\n",
       " '3750rpm',\n",
       " '4500rpm',\n",
       " '3800rpm',\n",
       " '3500rpm',\n",
       " '4000rpm',\n",
       " '2000rpm',\n",
       " '4000rpm',\n",
       " '3000rpm',\n",
       " '1500-2750rpm',\n",
       " '3500rpm',\n",
       " '1750-3000rpm',\n",
       " '4200rpm',\n",
       " '3000rpm',\n",
       " '4000rpm',\n",
       " '1800-2800rpm',\n",
       " '4250rpm',\n",
       " '4850rpm',\n",
       " '1500~4500rpm',\n",
       " '3000',\n",
       " '1750-2800rpm',\n",
       " '2500rpm',\n",
       " '1900-2750rpm',\n",
       " '1500-2750rpm',\n",
       " '4000rpm',\n",
       " '3500rpm',\n",
       " '1750rpm',\n",
       " '4000rpm',\n",
       " '3500rpm',\n",
       " '1900rpm',\n",
       " '1900-2750rpm',\n",
       " '1750-3250rpm',\n",
       " '2000rpm',\n",
       " '4250rpm',\n",
       " '3500rpm',\n",
       " '3000rpm',\n",
       " '1750rpm',\n",
       " '3000rpm',\n",
       " '1750rpm',\n",
       " '4500rpm',\n",
       " '1750-3000rpm',\n",
       " '3600-5200rpm',\n",
       " '1750-2500rpm',\n",
       " '4300rpm',\n",
       " '1750-2250rpm',\n",
       " '1600-2400rpm',\n",
       " '1750-2500rpm',\n",
       " '1750-2500rpm',\n",
       " '1250-5000rpm',\n",
       " '1600-1800rpm',\n",
       " '1600-3600rpm',\n",
       " '4600rpm',\n",
       " '4000rpm',\n",
       " '400Nm',\n",
       " '1750-2750rpm',\n",
       " '1750rpm',\n",
       " '1600rpm',\n",
       " '2750',\n",
       " '4700rpm',\n",
       " '1750-2500rpm',\n",
       " '1750-4000rpm',\n",
       " '3800rpm',\n",
       " '4700rpm',\n",
       " '3800rpm',\n",
       " '1200-4000rpm',\n",
       " '4000rpm',\n",
       " '1200-1400rpm',\n",
       " '4800rpm',\n",
       " '4200rpm',\n",
       " '3500rpm',\n",
       " '4200rpm',\n",
       " '1200-3400rpm',\n",
       " '1500-2750rpm',\n",
       " '1750-2500rpm',\n",
       " '4500rpm',\n",
       " '1750-2500rpm',\n",
       " '4000rpm',\n",
       " '4000rpm',\n",
       " '1740rpm',\n",
       " '1500-2500rpm',\n",
       " '4000rpm',\n",
       " '2000rpm',\n",
       " '4200rpm',\n",
       " '3500rpm',\n",
       " '4000rpm',\n",
       " '2500rpm',\n",
       " '4500rpm',\n",
       " '4000rpm',\n",
       " '3000-4300rpm',\n",
       " '4000rpm',\n",
       " '4000rpm',\n",
       " '4000rpm',\n",
       " '4600rpm',\n",
       " '1800-2800rpm',\n",
       " '3500rpm',\n",
       " '1400-3400rpm',\n",
       " '3500-3600rpm',\n",
       " '1750-3000rpm',\n",
       " 'rpm',\n",
       " '4500rpm',\n",
       " '3500rpm',\n",
       " '3000',\n",
       " '4000rpm',\n",
       " '3200rpm',\n",
       " '4000rpm',\n",
       " '1750rpm',\n",
       " '3500rpm',\n",
       " '1750rpm',\n",
       " '4600rpm',\n",
       " '4500rpm',\n",
       " '3500rpm',\n",
       " '4000rpm',\n",
       " '4000rpm',\n",
       " '3500rpm',\n",
       " '4200rpm',\n",
       " '3500rpm',\n",
       " '4200rpm',\n",
       " '4200rpm',\n",
       " '1500-3000rpm',\n",
       " '4000rpm',\n",
       " '2000rpm',\n",
       " '3500rpm',\n",
       " '4000rpm',\n",
       " '4500rpm',\n",
       " '4000rpm',\n",
       " '1500-3000rpm',\n",
       " '3000rpm',\n",
       " '4386rpm',\n",
       " '4000rpm',\n",
       " '1750rpm',\n",
       " '4000rpm',\n",
       " '3500rpm',\n",
       " '4,000',\n",
       " '1500-4000rpm',\n",
       " '4000rpm',\n",
       " '4500rpm',\n",
       " '4000rpm',\n",
       " '3500rpm',\n",
       " '1800-3250rpm',\n",
       " '1600-2800rpm',\n",
       " '2000rpm',\n",
       " '1900-2750rpm',\n",
       " '4386rpm',\n",
       " '1750rpm',\n",
       " '1600-2800rpm',\n",
       " '3000rpm',\n",
       " '3000rpm',\n",
       " '3,500(kgm@',\n",
       " '1600-2800rpm',\n",
       " '1400-3400rpm',\n",
       " '2000rpm',\n",
       " '4800rpm',\n",
       " '4000rpm',\n",
       " '2000rpm',\n",
       " '1750rpm',\n",
       " '3,200(kgm@',\n",
       " '4,000',\n",
       " '4200rpm',\n",
       " '2500rpm',\n",
       " '1500-2750rpm',\n",
       " '2000rpm',\n",
       " '1750-2500rpm',\n",
       " '1750-2500rpm',\n",
       " '1900-2750rpm',\n",
       " '2000rpm',\n",
       " '2000rpm',\n",
       " '1750rpm',\n",
       " '2000rpm',\n",
       " '1750-2250rpm',\n",
       " '1400-3400rpm',\n",
       " '1800-3000rpm',\n",
       " '4000rpm',\n",
       " '4000rpm',\n",
       " '4000rpm',\n",
       " '1400-3400(kgm@',\n",
       " '1800-2000rpm',\n",
       " '2000rpm',\n",
       " '4200rpm',\n",
       " '4000rpm',\n",
       " '1500-2750rpm',\n",
       " '1800-2800rpm',\n",
       " '1600-2200rpm',\n",
       " '1800-3000rpm',\n",
       " '1500-4000rpm',\n",
       " '3,500(kgm@',\n",
       " '4500rpm',\n",
       " '4000rpm',\n",
       " '1750-3000rpm',\n",
       " '3000rpm',\n",
       " '1700-2700rpm',\n",
       " '1440-1500rpm',\n",
       " '1440-1500rpm',\n",
       " '1400-2800rpm',\n",
       " '2500rpm',\n",
       " '4000rpm',\n",
       " '4000rpm',\n",
       " '4000rpm',\n",
       " '4200rpm',\n",
       " '4000rpm',\n",
       " '4000rpm',\n",
       " '4000rpm',\n",
       " '1400-2200rpm',\n",
       " '4200rpm',\n",
       " '4000rpm',\n",
       " '4200rpm',\n",
       " '4,000',\n",
       " '3000rpm',\n",
       " '2000rpm',\n",
       " '4000rpm',\n",
       " '1500-2750rpm',\n",
       " '4000rpm',\n",
       " '4400rpm',\n",
       " '3500rpm',\n",
       " '2500rpm',\n",
       " '1750rpm',\n",
       " '1750rpm',\n",
       " '4000rpm',\n",
       " '2250rpm',\n",
       " '4600rpm',\n",
       " '4386rpm',\n",
       " '1200-3600rpm',\n",
       " '3500rpm',\n",
       " '1500-2750rpm',\n",
       " '3500rpm',\n",
       " '1750-2250rpm',\n",
       " '4000rpm',\n",
       " '4,500(kgm@',\n",
       " '4000rpm',\n",
       " '4200rpm',\n",
       " '4,000',\n",
       " '4500rpm',\n",
       " '3500rpm',\n",
       " '1400-3400(kgm@',\n",
       " '2000rpm',\n",
       " '2000rpm',\n",
       " '4500rpm',\n",
       " '4200rpm',\n",
       " '3500rpm',\n",
       " '3000rpm',\n",
       " '2000rpm',\n",
       " '3500rpm',\n",
       " '1750rpm',\n",
       " '2000rpm',\n",
       " '2000rpm',\n",
       " '3500rpm',\n",
       " '2000rpm',\n",
       " '2000-3500rpm',\n",
       " '1900-2750rpm',\n",
       " '4200rpm',\n",
       " '4000rpm',\n",
       " '4000rpm',\n",
       " '1400-2600rpm',\n",
       " '4386rpm',\n",
       " '4500rpm',\n",
       " '3750rpm',\n",
       " '4000rpm',\n",
       " '1800-2400rpm',\n",
       " '4000rpm',\n",
       " '1900rpm',\n",
       " '1600-2800rpm',\n",
       " '1400-3400(kgm@',\n",
       " '2700rpm',\n",
       " '4700rpm',\n",
       " '1400-2800rpm',\n",
       " '4000rpm',\n",
       " '2000rpm',\n",
       " '3500rpm',\n",
       " '2000rpm',\n",
       " '4000rpm',\n",
       " '4386rpm',\n",
       " '1250-5300rpm',\n",
       " '1750-2500rpm',\n",
       " '3600-5200rpm',\n",
       " '1750-2500rpm',\n",
       " '1500-3000rpm',\n",
       " '400Nm',\n",
       " '4500rpm',\n",
       " '3500rpm',\n",
       " '2000rpm',\n",
       " '4800rpm',\n",
       " '1200-3600rpm',\n",
       " '4200rpm',\n",
       " '3000rpm',\n",
       " '4200rpm',\n",
       " '1750-2250rpm',\n",
       " '1750-2500rpm',\n",
       " '1750-2500rpm',\n",
       " '4800rpm',\n",
       " '3800rpm',\n",
       " '1500-2750rpm',\n",
       " '4000rpm',\n",
       " '4200rpm',\n",
       " '2000rpm',\n",
       " '1900-2750rpm',\n",
       " '1400-3400(kgm@',\n",
       " '1750rpm',\n",
       " '3,000(kgm@',\n",
       " '1,900-2,750(kgm@',\n",
       " '3500rpm',\n",
       " '4600rpm',\n",
       " '2000rpm',\n",
       " '2,500(kgm@',\n",
       " '3000rpm',\n",
       " '3500rpm',\n",
       " '1600-2800rpm',\n",
       " '3500rpm',\n",
       " '4000rpm',\n",
       " '3500rpm',\n",
       " '3000rpm',\n",
       " '1750-2500rpm',\n",
       " '3600-5200rpm',\n",
       " '1750-2500rpm',\n",
       " '1500-3000rpm',\n",
       " '400Nm',\n",
       " '4500rpm',\n",
       " '3500rpm',\n",
       " '2000rpm',\n",
       " '4800rpm',\n",
       " '1200-3600rpm',\n",
       " '4200rpm',\n",
       " '3000rpm',\n",
       " '4200rpm',\n",
       " '1750-2250rpm',\n",
       " '1750-2500rpm',\n",
       " '1750-2500rpm',\n",
       " '4800rpm',\n",
       " '3800rpm',\n",
       " '1500-2750rpm',\n",
       " '1750rpm',\n",
       " '1500-2750rpm',\n",
       " '3000rpm',\n",
       " '1750-2500rpm',\n",
       " '1400-3400rpm',\n",
       " '1800-2400rpm',\n",
       " '2000rpm',\n",
       " '1400-3400(kgm@',\n",
       " '2000rpm',\n",
       " '2500rpm',\n",
       " '2000rpm',\n",
       " '1500-2500rpm',\n",
       " '2000rpm',\n",
       " '2500rpm',\n",
       " '2000rpm',\n",
       " '4000rpm',\n",
       " '2500rpm',\n",
       " '3500rpm',\n",
       " '2000rpm',\n",
       " '1700-2700rpm',\n",
       " '4000rpm',\n",
       " '3500rpm',\n",
       " '4850rpm',\n",
       " '4200rpm',\n",
       " '1750-2500rpm',\n",
       " '1750-3250rpm',\n",
       " '1500-2750rpm',\n",
       " '1500-2750rpm',\n",
       " '1750rpm',\n",
       " '1400-2200rpm',\n",
       " '1900rpm',\n",
       " '4000rpm',\n",
       " '4250rpm',\n",
       " '1400-3400rpm',\n",
       " '4000rpm',\n",
       " '1400-3400rpm',\n",
       " '2000rpm',\n",
       " '1750rpm',\n",
       " '1750rpm',\n",
       " '1750rpm',\n",
       " '1400-3200rpm',\n",
       " '2000rpm',\n",
       " '1400-3200rpm',\n",
       " '2000rpm',\n",
       " '2500',\n",
       " '4000rpm',\n",
       " '1900-2750',\n",
       " '1750-2250rpm',\n",
       " '4000rpm',\n",
       " '2000-2750rpm',\n",
       " '1,800-3,000(kgm@',\n",
       " '4500rpm',\n",
       " '3500rpm',\n",
       " '3500rpm',\n",
       " '1900-2750rpm',\n",
       " '1750rpm',\n",
       " '2000rpm',\n",
       " '4200rpm',\n",
       " '2000rpm',\n",
       " '1750-2250rpm',\n",
       " '1500-2750rpm',\n",
       " '4000rpm',\n",
       " '4500rpm',\n",
       " '3500rpm',\n",
       " '2000rpm',\n",
       " '4000rpm',\n",
       " '1500-2500rpm',\n",
       " '4400rpm',\n",
       " '1800-2400rpm',\n",
       " '4000rpm',\n",
       " '2000rpm',\n",
       " '4300rpm',\n",
       " '4000rpm',\n",
       " '3500rpm',\n",
       " '3500rpm',\n",
       " '1750rpm',\n",
       " '3500rpm',\n",
       " '1750rpm',\n",
       " '1700-2700rpm',\n",
       " '4000rpm',\n",
       " '2500rpm',\n",
       " '2000rpm',\n",
       " '2000rpm',\n",
       " '4386rpm',\n",
       " '3500rpm',\n",
       " '2000rpm',\n",
       " '2,500(kgm@',\n",
       " '1440-1500rpm',\n",
       " '4000rpm',\n",
       " '4000rpm',\n",
       " '3000rpm',\n",
       " '4000rpm',\n",
       " '4000rpm',\n",
       " '4400rpm',\n",
       " '3500rpm',\n",
       " '5000rpm',\n",
       " '3000rpm',\n",
       " '1750-2500rpm',\n",
       " '4600rpm',\n",
       " '1500-2500rpm',\n",
       " '3500rpm',\n",
       " '4000rpm',\n",
       " '2500rpm',\n",
       " '4000rpm',\n",
       " '4000rpm',\n",
       " '4000rpm',\n",
       " '3200rpm',\n",
       " '3000rpm',\n",
       " '5000rpm',\n",
       " '1500-4000rpm',\n",
       " '2000rpm',\n",
       " '3000rpm',\n",
       " '1200-3600rpm',\n",
       " '1440-1500rpm',\n",
       " '3500rpm',\n",
       " '3500rpm',\n",
       " '2000rpm',\n",
       " '1500-3000rpm',\n",
       " '1750rpm',\n",
       " '1200-3400rpm',\n",
       " '1900-2750rpm',\n",
       " '1750rpm',\n",
       " '4000rpm',\n",
       " '4000rpm',\n",
       " '4800rpm',\n",
       " '4600rpm',\n",
       " '4500rpm',\n",
       " '4400rpm',\n",
       " '4000rpm',\n",
       " '4000rpm',\n",
       " '4386rpm',\n",
       " '4250rpm',\n",
       " '4500rpm',\n",
       " '1750-3250rpm',\n",
       " '2000rpm',\n",
       " '4000rpm',\n",
       " '1750rpm',\n",
       " '1750-2750rpm',\n",
       " '1750-2500rpm',\n",
       " '1750rpm',\n",
       " '1750-3000rpm',\n",
       " '3500rpm',\n",
       " '1500-2500rpm',\n",
       " '1900-2750rpm',\n",
       " '1800-2800rpm',\n",
       " '2250rpm',\n",
       " '1600-2800rpm',\n",
       " '3500rpm',\n",
       " '2000rpm',\n",
       " '4000rpm',\n",
       " '4200rpm',\n",
       " '1400-2200rpm',\n",
       " '3500rpm',\n",
       " '4000rpm',\n",
       " '1400-3400(kgm@',\n",
       " '2000-2500rpm',\n",
       " '1750rpm',\n",
       " '1500-3000rpm',\n",
       " '3000rpm',\n",
       " '4000rpm',\n",
       " '4386rpm',\n",
       " '3500rpm',\n",
       " '1200-3600rpm',\n",
       " '3500rpm',\n",
       " '1900-2750rpm',\n",
       " '1750rpm',\n",
       " '4200rpm',\n",
       " '1400-2600rpm',\n",
       " '4400rpm',\n",
       " '4000rpm',\n",
       " '1700-2700rpm',\n",
       " '2,500(kgm@',\n",
       " '1750-3000rpm',\n",
       " '4500rpm',\n",
       " '2500rpm',\n",
       " '4250rpm',\n",
       " '1440-1500rpm',\n",
       " '1600-2800rpm',\n",
       " '2000rpm',\n",
       " '3500rpm',\n",
       " '1750rpm',\n",
       " '3500rpm',\n",
       " '2000rpm',\n",
       " '2500rpm',\n",
       " '3500rpm',\n",
       " '4500rpm',\n",
       " '1500-4000rpm',\n",
       " '3500rpm',\n",
       " '1750rpm',\n",
       " '1500-3000rpm',\n",
       " '3500rpm',\n",
       " '1750-2250rpm',\n",
       " '4386rpm',\n",
       " '2000rpm',\n",
       " '1400-2200rpm',\n",
       " '5000rpm',\n",
       " '3500rpm',\n",
       " '2000rpm',\n",
       " '4000rpm',\n",
       " '1800-2800rpm',\n",
       " '3500rpm',\n",
       " '1500-2750rpm',\n",
       " '1750-3250rpm',\n",
       " '3500rpm',\n",
       " '1440-1500rpm',\n",
       " '1750-2750rpm',\n",
       " '1750-3000rpm',\n",
       " '1800-2000rpm',\n",
       " '1800-2200',\n",
       " '1800-2200',\n",
       " '3500rpm',\n",
       " '3,000(kgm@',\n",
       " '3500rpm',\n",
       " '1750-2500rpm',\n",
       " '3600-5200rpm',\n",
       " '1750-2500rpm',\n",
       " '1500-3000rpm',\n",
       " '400Nm',\n",
       " '4500rpm',\n",
       " '3500rpm',\n",
       " '2000rpm',\n",
       " '4800rpm',\n",
       " '1200-3600rpm',\n",
       " '4200rpm',\n",
       " '3000rpm',\n",
       " '4200rpm',\n",
       " '1750-2250rpm',\n",
       " '1750-2500rpm',\n",
       " '1750-2500rpm',\n",
       " '4800rpm',\n",
       " '3800rpm',\n",
       " '1500-2750rpm',\n",
       " '1600-2800rpm',\n",
       " '3500rpm',\n",
       " '4000rpm',\n",
       " '1800-2000rpm',\n",
       " '2000rpm',\n",
       " '3000rpm',\n",
       " '1,900-2,750(kgm@',\n",
       " '1750rpm',\n",
       " '1600-2800rpm',\n",
       " '2500',\n",
       " '4000rpm',\n",
       " '3500-3600rpm',\n",
       " '4000rpm',\n",
       " '4200rpm',\n",
       " '1750-3250rpm',\n",
       " '4200rpm',\n",
       " '1600-1800rpm',\n",
       " '1400-3400rpm',\n",
       " '3500-3600rpm',\n",
       " '1500-2500rpm',\n",
       " '4000rpm',\n",
       " '1400-2200rpm',\n",
       " '3000rpm',\n",
       " '3000rpm',\n",
       " '2000rpm',\n",
       " '3000rpm',\n",
       " '3500rpm',\n",
       " '4500rpm',\n",
       " 'rpm',\n",
       " '3500rpm',\n",
       " '2500rpm',\n",
       " '1440-1500rpm',\n",
       " '2000rpm',\n",
       " '2000rpm',\n",
       " '4250rpm',\n",
       " '1800-2200',\n",
       " '3500rpm',\n",
       " '1440-1500rpm',\n",
       " '1600-2800rpm',\n",
       " '4000rpm',\n",
       " '3500rpm',\n",
       " '3500rpm',\n",
       " '4000rpm',\n",
       " '3000rpm',\n",
       " '1440-1500rpm',\n",
       " '1800rpm',\n",
       " '1500-2750rpm',\n",
       " '4000rpm',\n",
       " '1600-2800rpm',\n",
       " '1700-2200rpm',\n",
       " '3600rpm',\n",
       " '4000rpm',\n",
       " '3500-3600rpm',\n",
       " '1750-2750rpm',\n",
       " '3500rpm',\n",
       " '3,500(kgm@',\n",
       " '1400-2200rpm',\n",
       " '2500rpm',\n",
       " '1440-2200rpm',\n",
       " '1440-1500rpm',\n",
       " '1440-1500rpm',\n",
       " '4000rpm',\n",
       " '1750-3000rpm',\n",
       " '1750-2500rpm',\n",
       " '4000rpm',\n",
       " '4250rpm',\n",
       " '1500-2500rpm',\n",
       " '1440-1500rpm',\n",
       " '1440-1500rpm',\n",
       " '1400-3400rpm',\n",
       " '4000rpm',\n",
       " '4250rpm',\n",
       " '1500-2500rpm',\n",
       " '4400rpm',\n",
       " '4200rpm',\n",
       " '1600-2800rpm',\n",
       " '2,500(kgm@',\n",
       " '4000rpm',\n",
       " '1800-3000rpm',\n",
       " '3500rpm',\n",
       " '3000rpm',\n",
       " '1800-2800rpm',\n",
       " '1400-3400(kgm@',\n",
       " '1800-3000rpm',\n",
       " '4000rpm',\n",
       " '1800-2800rpm',\n",
       " '4000rpm',\n",
       " '4000rpm',\n",
       " '3000rpm',\n",
       " '2500rpm',\n",
       " '1750rpm',\n",
       " '2000rpm',\n",
       " '4000rpm',\n",
       " 'rpm',\n",
       " '1440-1500rpm',\n",
       " '2000rpm',\n",
       " '1500-2750rpm',\n",
       " '2000rpm',\n",
       " '1750-2750rpm',\n",
       " '1800-2200',\n",
       " '4500rpm',\n",
       " '1400-2200rpm',\n",
       " '3500rpm',\n",
       " '1700-2200rpm',\n",
       " '1750-3000rpm',\n",
       " '2500rpm',\n",
       " '4000rpm',\n",
       " '4250rpm',\n",
       " '1600-2800rpm',\n",
       " '4400rpm',\n",
       " '1440-1500rpm',\n",
       " '1800-2800rpm',\n",
       " '3000rpm',\n",
       " '4388rpm',\n",
       " '1440-1500rpm',\n",
       " '4000rpm',\n",
       " '2500rpm',\n",
       " '4250rpm',\n",
       " '2500rpm',\n",
       " '4300rpm',\n",
       " '1600-2800rpm',\n",
       " '3000rpm',\n",
       " '2500rpm',\n",
       " '2000rpm',\n",
       " '4000rpm',\n",
       " '2000rpm',\n",
       " '4250rpm',\n",
       " '1750rpm',\n",
       " '3500rpm',\n",
       " '4200rpm',\n",
       " '4000rpm',\n",
       " '2250rpm',\n",
       " '2,700(kgm@',\n",
       " '3500rpm',\n",
       " '2000rpm',\n",
       " '2500rpm',\n",
       " '1750rpm',\n",
       " '4000rpm',\n",
       " '1750-3000rpm',\n",
       " '4000rpm',\n",
       " '4000rpm',\n",
       " '2500rpm',\n",
       " '1750-3000rpm',\n",
       " '1440-1500rpm',\n",
       " '3000rpm',\n",
       " '3000rpm',\n",
       " '1750rpm',\n",
       " '1400-3400rpm',\n",
       " '4000rpm',\n",
       " '3500rpm',\n",
       " '4000rpm',\n",
       " '4,000',\n",
       " '2000rpm',\n",
       " '1900-2750rpm',\n",
       " '4000rpm',\n",
       " '1900-2750rpm',\n",
       " '1600-2800rpm',\n",
       " '4000rpm',\n",
       " '3,000(kgm@',\n",
       " '3500rpm',\n",
       " '3500rpm',\n",
       " '1750-3250rpm',\n",
       " '2000rpm',\n",
       " '3500rpm',\n",
       " '3500rpm',\n",
       " '1600-2200rpm',\n",
       " '3500rpm',\n",
       " '1,500-3,000(kgm@',\n",
       " '4000rpm',\n",
       " '2500rpm',\n",
       " '4500rpm',\n",
       " '4000rpm',\n",
       " '2,000(kgm@',\n",
       " '3500-3600rpm',\n",
       " '4500rpm',\n",
       " '2000rpm',\n",
       " '1750',\n",
       " '3000rpm',\n",
       " '1800-2800rpm',\n",
       " '1,900-2,750(kgm@',\n",
       " '3500rpm',\n",
       " '2000rpm',\n",
       " '1750rpm',\n",
       " '3,500(kgm@',\n",
       " '4250rpm',\n",
       " '5000rpm',\n",
       " '2500rpm',\n",
       " '4000rpm',\n",
       " '4386rpm',\n",
       " '1900-2750rpm',\n",
       " '1800-3000rpm',\n",
       " '1750rpm',\n",
       " '3500rpm',\n",
       " '4386rpm',\n",
       " '4000rpm',\n",
       " '2000rpm',\n",
       " '3500rpm',\n",
       " '1800-2800rpm',\n",
       " '4000rpm',\n",
       " '4000rpm',\n",
       " '1750-3000rpm',\n",
       " '2400-2800rpm',\n",
       " '2,500(kgm@',\n",
       " '2400-2800rpm',\n",
       " '2500rpm',\n",
       " '2000rpm',\n",
       " '3500rpm',\n",
       " '3500rpm',\n",
       " '1750rpm',\n",
       " '1800-2800rpm',\n",
       " '4386rpm',\n",
       " '5000rpm',\n",
       " '1440-1500rpm',\n",
       " '2500rpm',\n",
       " '3,500(kgm@',\n",
       " '2,000(kgm@',\n",
       " '1400-2200rpm',\n",
       " '1800-2800rpm',\n",
       " '1750-3000rpm',\n",
       " '2000rpm',\n",
       " '1440-1500rpm',\n",
       " '2500rpm',\n",
       " '1750rpm',\n",
       " '2,700(kgm@',\n",
       " '1750-2750rpm',\n",
       " '1750rpm',\n",
       " '4000rpm',\n",
       " '2500rpm',\n",
       " '2000rpm',\n",
       " '1400-3400(kgm@',\n",
       " '1400-3400rpm',\n",
       " '4,000',\n",
       " '1750-2500rpm',\n",
       " '1800-2400rpm',\n",
       " '4000rpm',\n",
       " '4000rpm',\n",
       " '4000rpm',\n",
       " '1750-3000rpm',\n",
       " '1750-3000rpm',\n",
       " '4000rpm',\n",
       " '1750-2250rpm',\n",
       " '3000rpm',\n",
       " '4000rpm',\n",
       " '2000rpm',\n",
       " '1600-2800rpm',\n",
       " '1750-2750rpm',\n",
       " '3500rpm',\n",
       " '4386rpm',\n",
       " '4400rpm',\n",
       " '1500-2750rpm',\n",
       " '1800-2800rpm',\n",
       " '1440-1500rpm',\n",
       " '1400-3400rpm',\n",
       " '1800-3000rpm',\n",
       " '1750rpm',\n",
       " '4500rpm',\n",
       " '1750rpm',\n",
       " '2000rpm',\n",
       " '3500rpm',\n",
       " '1750rpm',\n",
       " '1500-2750rpm',\n",
       " '1750rpm',\n",
       " '3500rpm',\n",
       " '1800-3000rpm',\n",
       " '2500rpm',\n",
       " '1900-2750rpm',\n",
       " '1,900-2,750(kgm@',\n",
       " '1700-2700rpm',\n",
       " '4500rpm',\n",
       " '2000rpm',\n",
       " '1500-2750rpm',\n",
       " '2000rpm',\n",
       " '2000rpm',\n",
       " '1750rpm',\n",
       " '1750rpm',\n",
       " '2000rpm',\n",
       " '1,900-2,750(kgm@',\n",
       " '2250rpm',\n",
       " '4200rpm',\n",
       " '1750rpm',\n",
       " '3500rpm',\n",
       " '1750rpm',\n",
       " '1750rpm',\n",
       " '3000rpm',\n",
       " '3500rpm',\n",
       " '1600-2800rpm',\n",
       " '1400-3400(kgm@',\n",
       " '1500-2750rpm',\n",
       " '1440-1500rpm',\n",
       " '1400-3400rpm',\n",
       " '1400-3400(kgm@',\n",
       " '4000rpm',\n",
       " '3000rpm',\n",
       " '2000rpm',\n",
       " '1500-2500rpm',\n",
       " '2000rpm',\n",
       " '1200-3400rpm',\n",
       " '1400-2200rpm',\n",
       " '4500rpm',\n",
       " '1900-2750rpm',\n",
       " '1750rpm',\n",
       " '3200rpm',\n",
       " '3500rpm',\n",
       " '1500-2750rpm',\n",
       " '1500-2750rpm',\n",
       " '2000rpm',\n",
       " '2500rpm',\n",
       " '4000rpm',\n",
       " '3500rpm',\n",
       " '1750rpm',\n",
       " '1800-2500rpm',\n",
       " '1500-1800rpm',\n",
       " '4200rpm',\n",
       " '2000rpm',\n",
       " '4850rpm',\n",
       " '1800rpm',\n",
       " '1750rpm',\n",
       " '1800-2800rpm',\n",
       " '2,500(kgm@',\n",
       " '1400-2200rpm',\n",
       " '3500rpm',\n",
       " '2,500(kgm@',\n",
       " '1700-2700rpm',\n",
       " '3500rpm',\n",
       " '2500rpm',\n",
       " '4386rpm',\n",
       " '1400-2200rpm',\n",
       " '1750rpm',\n",
       " '1900-2750',\n",
       " '3,000(kgm@',\n",
       " '1400-3400rpm',\n",
       " '1800-3000rpm',\n",
       " '1200-3600rpm',\n",
       " '2000rpm',\n",
       " '2000rpm',\n",
       " '1750-3000rpm',\n",
       " '2000-2750rpm',\n",
       " '2000rpm',\n",
       " '1750-3000',\n",
       " '1600-2800rpm',\n",
       " '1750-3250rpm',\n",
       " '4850rpm',\n",
       " '3500rpm',\n",
       " '1800-2800rpm',\n",
       " '1500-2750rpm',\n",
       " 'rpm',\n",
       " '2000rpm',\n",
       " '2,000(kgm@',\n",
       " '2,500(kgm@',\n",
       " '3000rpm',\n",
       " '3500rpm',\n",
       " '2000rpm',\n",
       " '4500rpm',\n",
       " '1500-2750rpm',\n",
       " ...]"
      ]
     },
     "metadata": {},
     "output_type": "display_data"
    }
   ],
   "source": [
    "# Para splits cuya longitud es igual a 4 el orden de las variables es irregular, por eso solo tomaremos el ultimo valor para estos casos\n",
    "#y procederemos a eliminar las filas de los valores errados\n",
    "d = {2:1, 3:1, 5:3, 6:3, 7:3, 8:4}\n",
    "rpm = [x[d.get(len(x),-1)]  for x in df['torque'].str.split(' ')]\n",
    "display(len(rpm), rpm)"
   ]
  },
  {
   "cell_type": "code",
   "execution_count": 4,
   "metadata": {
    "scrolled": true
   },
   "outputs": [
    {
     "data": {
      "text/html": [
       "<div>\n",
       "<style scoped>\n",
       "    .dataframe tbody tr th:only-of-type {\n",
       "        vertical-align: middle;\n",
       "    }\n",
       "\n",
       "    .dataframe tbody tr th {\n",
       "        vertical-align: top;\n",
       "    }\n",
       "\n",
       "    .dataframe thead th {\n",
       "        text-align: right;\n",
       "    }\n",
       "</style>\n",
       "<table border=\"1\" class=\"dataframe\">\n",
       "  <thead>\n",
       "    <tr style=\"text-align: right;\">\n",
       "      <th></th>\n",
       "      <th>name</th>\n",
       "      <th>year</th>\n",
       "      <th>selling_price</th>\n",
       "      <th>km_driven</th>\n",
       "      <th>fuel</th>\n",
       "      <th>seller_type</th>\n",
       "      <th>transmission</th>\n",
       "      <th>owner</th>\n",
       "      <th>mileage</th>\n",
       "      <th>engine</th>\n",
       "      <th>max_power</th>\n",
       "      <th>torque</th>\n",
       "      <th>seats</th>\n",
       "      <th>rpm</th>\n",
       "    </tr>\n",
       "  </thead>\n",
       "  <tbody>\n",
       "    <tr>\n",
       "      <th>0</th>\n",
       "      <td>Maruti Swift Dzire VDI</td>\n",
       "      <td>2014</td>\n",
       "      <td>450000</td>\n",
       "      <td>145500</td>\n",
       "      <td>Diesel</td>\n",
       "      <td>Individual</td>\n",
       "      <td>Manual</td>\n",
       "      <td>First Owner</td>\n",
       "      <td>23.4 kmpl</td>\n",
       "      <td>1248 CC</td>\n",
       "      <td>74 bhp</td>\n",
       "      <td>190Nm@ 2000rpm</td>\n",
       "      <td>5.0</td>\n",
       "      <td>2000rpm</td>\n",
       "    </tr>\n",
       "    <tr>\n",
       "      <th>1</th>\n",
       "      <td>Skoda Rapid 1.5 TDI Ambition</td>\n",
       "      <td>2014</td>\n",
       "      <td>370000</td>\n",
       "      <td>120000</td>\n",
       "      <td>Diesel</td>\n",
       "      <td>Individual</td>\n",
       "      <td>Manual</td>\n",
       "      <td>Second Owner</td>\n",
       "      <td>21.14 kmpl</td>\n",
       "      <td>1498 CC</td>\n",
       "      <td>103.52 bhp</td>\n",
       "      <td>250Nm@ 1500-2500rpm</td>\n",
       "      <td>5.0</td>\n",
       "      <td>1500-2500rpm</td>\n",
       "    </tr>\n",
       "    <tr>\n",
       "      <th>2</th>\n",
       "      <td>Honda City 2017-2020 EXi</td>\n",
       "      <td>2006</td>\n",
       "      <td>158000</td>\n",
       "      <td>140000</td>\n",
       "      <td>Petrol</td>\n",
       "      <td>Individual</td>\n",
       "      <td>Manual</td>\n",
       "      <td>Third Owner</td>\n",
       "      <td>17.7 kmpl</td>\n",
       "      <td>1497 CC</td>\n",
       "      <td>78 bhp</td>\n",
       "      <td>12.7@ 2,700(kgm@ rpm)</td>\n",
       "      <td>5.0</td>\n",
       "      <td>2,700(kgm@</td>\n",
       "    </tr>\n",
       "    <tr>\n",
       "      <th>3</th>\n",
       "      <td>Hyundai i20 Sportz Diesel</td>\n",
       "      <td>2010</td>\n",
       "      <td>225000</td>\n",
       "      <td>127000</td>\n",
       "      <td>Diesel</td>\n",
       "      <td>Individual</td>\n",
       "      <td>Manual</td>\n",
       "      <td>First Owner</td>\n",
       "      <td>23.0 kmpl</td>\n",
       "      <td>1396 CC</td>\n",
       "      <td>90 bhp</td>\n",
       "      <td>22.4 kgm at 1750-2750rpm</td>\n",
       "      <td>5.0</td>\n",
       "      <td>1750-2750rpm</td>\n",
       "    </tr>\n",
       "    <tr>\n",
       "      <th>4</th>\n",
       "      <td>Maruti Swift VXI BSIII</td>\n",
       "      <td>2007</td>\n",
       "      <td>130000</td>\n",
       "      <td>120000</td>\n",
       "      <td>Petrol</td>\n",
       "      <td>Individual</td>\n",
       "      <td>Manual</td>\n",
       "      <td>First Owner</td>\n",
       "      <td>16.1 kmpl</td>\n",
       "      <td>1298 CC</td>\n",
       "      <td>88.2 bhp</td>\n",
       "      <td>11.5@ 4,500(kgm@ rpm)</td>\n",
       "      <td>5.0</td>\n",
       "      <td>4,500(kgm@</td>\n",
       "    </tr>\n",
       "  </tbody>\n",
       "</table>\n",
       "</div>"
      ],
      "text/plain": [
       "                           name  year  selling_price  km_driven    fuel  \\\n",
       "0        Maruti Swift Dzire VDI  2014         450000     145500  Diesel   \n",
       "1  Skoda Rapid 1.5 TDI Ambition  2014         370000     120000  Diesel   \n",
       "2      Honda City 2017-2020 EXi  2006         158000     140000  Petrol   \n",
       "3     Hyundai i20 Sportz Diesel  2010         225000     127000  Diesel   \n",
       "4        Maruti Swift VXI BSIII  2007         130000     120000  Petrol   \n",
       "\n",
       "  seller_type transmission         owner     mileage   engine   max_power  \\\n",
       "0  Individual       Manual   First Owner   23.4 kmpl  1248 CC      74 bhp   \n",
       "1  Individual       Manual  Second Owner  21.14 kmpl  1498 CC  103.52 bhp   \n",
       "2  Individual       Manual   Third Owner   17.7 kmpl  1497 CC      78 bhp   \n",
       "3  Individual       Manual   First Owner   23.0 kmpl  1396 CC      90 bhp   \n",
       "4  Individual       Manual   First Owner   16.1 kmpl  1298 CC    88.2 bhp   \n",
       "\n",
       "                     torque  seats           rpm  \n",
       "0            190Nm@ 2000rpm    5.0       2000rpm  \n",
       "1       250Nm@ 1500-2500rpm    5.0  1500-2500rpm  \n",
       "2     12.7@ 2,700(kgm@ rpm)    5.0    2,700(kgm@  \n",
       "3  22.4 kgm at 1750-2750rpm    5.0  1750-2750rpm  \n",
       "4     11.5@ 4,500(kgm@ rpm)    5.0    4,500(kgm@  "
      ]
     },
     "execution_count": 4,
     "metadata": {},
     "output_type": "execute_result"
    }
   ],
   "source": [
    "d = {2:1, 3:1, 5:3, 6:3, 7:3, 8:4} # de acuerdo a la longitud de x hara un mapping para saber en que celda se encuentra el rpm\n",
    "df['rpm'] = [x[d.get(len(x),-1)]  for x in df['torque'].str.split(' ')]\n",
    "df.head()"
   ]
  },
  {
   "cell_type": "markdown",
   "metadata": {},
   "source": [
    "Intentando unificar los caracters que separan algunos valores, ademas de ajustar algunos valores que no pudieron limpiarse al momento de extraccion."
   ]
  },
  {
   "cell_type": "code",
   "execution_count": 5,
   "metadata": {},
   "outputs": [],
   "source": [
    "df['rpm'].replace({'\\,': '',\n",
    "                   'rpm':'',\n",
    "                   '\\(kgm@':'',\n",
    "                   '\\-':' ',\n",
    "                   '\\~':' ',\n",
    "                   '\\+/-':' ',\n",
    "                   '\\+/':' ',\n",
    "                   '400Nm': '4000',\n",
    "                  '\\(NM@': ''}, regex=True, inplace=True)"
   ]
  },
  {
   "cell_type": "code",
   "execution_count": 6,
   "metadata": {},
   "outputs": [],
   "source": [
    "df = df.drop(index=df[(df.rpm =='')].index, axis='index')\n",
    "df = df.drop(index=df[(df.rpm =='/')].index, axis='index')\n",
    "df = df.drop(index=df[(df.rpm =='480Nm')].index, axis='index') # Porque estas celdas no tienen valor de 'rpm'."
   ]
  },
  {
   "cell_type": "code",
   "execution_count": 7,
   "metadata": {},
   "outputs": [],
   "source": [
    "def division_rpm(valor):\n",
    "    if len(valor.split(' ')) == 3:\n",
    "        a, b, c = valor.split(' ')\n",
    "        resultado = (int(a)+int(c))/2\n",
    "    elif len(valor.split(' ')) == 2:\n",
    "        a, b = valor.split(' ')\n",
    "        resultado = (int(a)+int(b))/2\n",
    "    else:\n",
    "        resultado = int(valor)        \n",
    "    return resultado"
   ]
  },
  {
   "cell_type": "code",
   "execution_count": 8,
   "metadata": {},
   "outputs": [],
   "source": [
    "df['rpm'] = df['rpm'].apply(division_rpm)"
   ]
  },
  {
   "cell_type": "markdown",
   "metadata": {},
   "source": [
    "### Creacion de columna Newton-meter"
   ]
  },
  {
   "cell_type": "code",
   "execution_count": 94,
   "metadata": {},
   "outputs": [
    {
     "data": {
      "text/plain": [
       "True"
      ]
     },
     "metadata": {},
     "output_type": "display_data"
    },
    {
     "data": {
      "text/plain": [
       "True"
      ]
     },
     "metadata": {},
     "output_type": "display_data"
    },
    {
     "data": {
      "text/plain": [
       "0       190Nm@\n",
       "1       250Nm@\n",
       "2        12.7@\n",
       "3         22.4\n",
       "4        11.5@\n",
       "5    113.75nm@\n",
       "6         7.8@\n",
       "7        59Nm@\n",
       "8       170Nm@\n",
       "9       160Nm@\n",
       "dtype: object"
      ]
     },
     "metadata": {},
     "output_type": "display_data"
    }
   ],
   "source": [
    "Nm_test = pd.Series([x[0] for x in df['torque'].str.split(' ')])\n",
    "display('Nm@' in Nm_test[0], Nm_test[0].endswith('m@'), Nm_test[:10])"
   ]
  },
  {
   "cell_type": "code",
   "execution_count": 95,
   "metadata": {},
   "outputs": [
    {
     "data": {
      "text/plain": [
       "0         190Nm@\n",
       "1         250Nm@\n",
       "2          12.7@\n",
       "3           22.4\n",
       "4          11.5@\n",
       "          ...   \n",
       "7853    113.7Nm@\n",
       "7854         24@\n",
       "7855      190Nm@\n",
       "7856      140Nm@\n",
       "7857      140Nm@\n",
       "Length: 7857, dtype: object"
      ]
     },
     "metadata": {},
     "output_type": "display_data"
    },
    {
     "data": {
      "text/plain": [
       "7857"
      ]
     },
     "metadata": {},
     "output_type": "display_data"
    },
    {
     "data": {
      "text/plain": [
       "4747    6@\n",
       "dtype: object"
      ]
     },
     "metadata": {},
     "output_type": "display_data"
    },
    {
     "data": {
      "text/plain": [
       "1"
      ]
     },
     "metadata": {},
     "output_type": "display_data"
    }
   ],
   "source": [
    "display(Nm_test[Nm_test.str.contains(r'\\d+\\.*\\d+',regex=True)],\n",
    "        len(Nm_test[Nm_test.str.contains(r'\\d+\\.*\\d+',regex=True)]),\n",
    "       Nm_test[~Nm_test.str.contains(r'\\d+\\.*\\d+',regex=True)],\n",
    "       len(Nm_test[~Nm_test.str.contains(r'\\d+\\.*\\d+',regex=True)]))"
   ]
  },
  {
   "cell_type": "markdown",
   "metadata": {},
   "source": [
    "Para valores en los cuales el resultado del findall no es del tipo list (no sé porque algunos casos no los convierte a list), no puede leer sus elementos con [0], es decir no cumplen las mismas condiciones que el ejemplo a continuacion..."
   ]
  },
  {
   "cell_type": "code",
   "execution_count": 96,
   "metadata": {},
   "outputs": [
    {
     "data": {
      "text/plain": [
       "[113.75]"
      ]
     },
     "execution_count": 96,
     "metadata": {},
     "output_type": "execute_result"
    }
   ],
   "source": [
    "list(map(float, re.findall('(\\d+\\.*\\d+)(?=Nm@)', Nm_test[5], flags=re.IGNORECASE)))"
   ]
  },
  {
   "cell_type": "code",
   "execution_count": 97,
   "metadata": {},
   "outputs": [
    {
     "data": {
      "text/plain": [
       "76.47058823529412"
      ]
     },
     "execution_count": 97,
     "metadata": {},
     "output_type": "execute_result"
    }
   ],
   "source": [
    "float(re.findall('(\\d+\\.*\\d+)', Nm_test[6])[0])/np.array(0.102)"
   ]
  },
  {
   "cell_type": "markdown",
   "metadata": {},
   "source": [
    "### *Primer intento fallido*"
   ]
  },
  {
   "cell_type": "code",
   "execution_count": 98,
   "metadata": {},
   "outputs": [],
   "source": [
    "def clean_nm(valor):\n",
    "    if 'kgm' in valor:\n",
    "        resultado = float(re.findall(r'\\d+\\.*\\d+(?=kgm)', valor)[0])/0.102 # Conversion de Kgm a Nm\n",
    "        #El resultado del re.findall es del tipo list, por ello extraemos el item con [0]\n",
    "    elif valor.endswith(('Nm@', 'nm@', 'NM')):\n",
    "        resultado = re.findall('\\d+\\.*\\d+(?=Nm@)',valor, flags=re.IGNORECASE)\n",
    "    \n",
    "    else:\n",
    "        resultado = float(re.findall(r'\\d+\\.*\\d+', valor)[0])/0.102\n",
    "    return resultado    "
   ]
  },
  {
   "cell_type": "markdown",
   "metadata": {},
   "source": [
    "Hacemos mas facil el proceso, filtrando unicamente aquellos valores con NM (la mayoria) y aquellos que son distintos suponemos que estan escritos como 'kgm'"
   ]
  },
  {
   "cell_type": "code",
   "execution_count": 9,
   "metadata": {},
   "outputs": [],
   "source": [
    "def clean_nm_2(valor):\n",
    "    if valor.endswith(('Nm@', 'nm@', 'NM')):\n",
    "        resultado = float(re.findall('(\\d+\\.*\\d+)(?=\\s*Nm)',valor, flags=re.IGNORECASE)[0])\n",
    "    else:\n",
    "        resultado = float(re.findall(r'\\d+\\.*\\d*', valor)[0])/np.array(0.102)\n",
    "    return resultado"
   ]
  },
  {
   "cell_type": "markdown",
   "metadata": {},
   "source": [
    "Cantidad de valores que cumplen con la condicion de ser NM, (casos que siguen el formato ejm: 21.54 Nm) la mayoria de los valores en la muestra cumplen con la correcta redaccion."
   ]
  },
  {
   "cell_type": "code",
   "execution_count": 100,
   "metadata": {},
   "outputs": [
    {
     "name": "stderr",
     "output_type": "stream",
     "text": [
      "C:\\Users\\usuario\\Anaconda3\\envs\\carpre\\lib\\site-packages\\pandas\\core\\strings\\accessor.py:101: UserWarning: This pattern has match groups. To actually get the groups, use str.extract.\n",
      "  return func(self, *args, **kwargs)\n"
     ]
    },
    {
     "data": {
      "text/plain": [
       "(7248,)"
      ]
     },
     "execution_count": 100,
     "metadata": {},
     "output_type": "execute_result"
    }
   ],
   "source": [
    "Nm_test[Nm_test.str.contains(r'(\\d+\\.*\\d+)(?=Nm)', flags= re.IGNORECASE, regex=True)].shape"
   ]
  },
  {
   "cell_type": "code",
   "execution_count": 101,
   "metadata": {},
   "outputs": [
    {
     "data": {
      "text/plain": [
       "0       190.000000\n",
       "1       250.000000\n",
       "2       124.509804\n",
       "3       219.607843\n",
       "4       112.745098\n",
       "           ...    \n",
       "7853    113.700000\n",
       "7854    235.294118\n",
       "7855    190.000000\n",
       "7856    140.000000\n",
       "7857    140.000000\n",
       "Length: 7858, dtype: float64"
      ]
     },
     "execution_count": 101,
     "metadata": {},
     "output_type": "execute_result"
    }
   ],
   "source": [
    "Nm_test.apply(clean_nm_2)"
   ]
  },
  {
   "cell_type": "code",
   "execution_count": 10,
   "metadata": {
    "scrolled": true
   },
   "outputs": [
    {
     "data": {
      "text/html": [
       "<div>\n",
       "<style scoped>\n",
       "    .dataframe tbody tr th:only-of-type {\n",
       "        vertical-align: middle;\n",
       "    }\n",
       "\n",
       "    .dataframe tbody tr th {\n",
       "        vertical-align: top;\n",
       "    }\n",
       "\n",
       "    .dataframe thead th {\n",
       "        text-align: right;\n",
       "    }\n",
       "</style>\n",
       "<table border=\"1\" class=\"dataframe\">\n",
       "  <thead>\n",
       "    <tr style=\"text-align: right;\">\n",
       "      <th></th>\n",
       "      <th>name</th>\n",
       "      <th>year</th>\n",
       "      <th>selling_price</th>\n",
       "      <th>km_driven</th>\n",
       "      <th>fuel</th>\n",
       "      <th>seller_type</th>\n",
       "      <th>transmission</th>\n",
       "      <th>owner</th>\n",
       "      <th>mileage</th>\n",
       "      <th>engine</th>\n",
       "      <th>max_power</th>\n",
       "      <th>torque</th>\n",
       "      <th>seats</th>\n",
       "      <th>rpm</th>\n",
       "      <th>Newton-meters</th>\n",
       "    </tr>\n",
       "  </thead>\n",
       "  <tbody>\n",
       "    <tr>\n",
       "      <th>0</th>\n",
       "      <td>Maruti Swift Dzire VDI</td>\n",
       "      <td>2014</td>\n",
       "      <td>450000</td>\n",
       "      <td>145500</td>\n",
       "      <td>Diesel</td>\n",
       "      <td>Individual</td>\n",
       "      <td>Manual</td>\n",
       "      <td>First Owner</td>\n",
       "      <td>23.4 kmpl</td>\n",
       "      <td>1248 CC</td>\n",
       "      <td>74 bhp</td>\n",
       "      <td>190Nm@ 2000rpm</td>\n",
       "      <td>5.0</td>\n",
       "      <td>2000.0</td>\n",
       "      <td>190Nm@</td>\n",
       "    </tr>\n",
       "    <tr>\n",
       "      <th>1</th>\n",
       "      <td>Skoda Rapid 1.5 TDI Ambition</td>\n",
       "      <td>2014</td>\n",
       "      <td>370000</td>\n",
       "      <td>120000</td>\n",
       "      <td>Diesel</td>\n",
       "      <td>Individual</td>\n",
       "      <td>Manual</td>\n",
       "      <td>Second Owner</td>\n",
       "      <td>21.14 kmpl</td>\n",
       "      <td>1498 CC</td>\n",
       "      <td>103.52 bhp</td>\n",
       "      <td>250Nm@ 1500-2500rpm</td>\n",
       "      <td>5.0</td>\n",
       "      <td>2000.0</td>\n",
       "      <td>250Nm@</td>\n",
       "    </tr>\n",
       "    <tr>\n",
       "      <th>2</th>\n",
       "      <td>Honda City 2017-2020 EXi</td>\n",
       "      <td>2006</td>\n",
       "      <td>158000</td>\n",
       "      <td>140000</td>\n",
       "      <td>Petrol</td>\n",
       "      <td>Individual</td>\n",
       "      <td>Manual</td>\n",
       "      <td>Third Owner</td>\n",
       "      <td>17.7 kmpl</td>\n",
       "      <td>1497 CC</td>\n",
       "      <td>78 bhp</td>\n",
       "      <td>12.7@ 2,700(kgm@ rpm)</td>\n",
       "      <td>5.0</td>\n",
       "      <td>2700.0</td>\n",
       "      <td>12.7@</td>\n",
       "    </tr>\n",
       "    <tr>\n",
       "      <th>3</th>\n",
       "      <td>Hyundai i20 Sportz Diesel</td>\n",
       "      <td>2010</td>\n",
       "      <td>225000</td>\n",
       "      <td>127000</td>\n",
       "      <td>Diesel</td>\n",
       "      <td>Individual</td>\n",
       "      <td>Manual</td>\n",
       "      <td>First Owner</td>\n",
       "      <td>23.0 kmpl</td>\n",
       "      <td>1396 CC</td>\n",
       "      <td>90 bhp</td>\n",
       "      <td>22.4 kgm at 1750-2750rpm</td>\n",
       "      <td>5.0</td>\n",
       "      <td>2250.0</td>\n",
       "      <td>22.4</td>\n",
       "    </tr>\n",
       "    <tr>\n",
       "      <th>4</th>\n",
       "      <td>Maruti Swift VXI BSIII</td>\n",
       "      <td>2007</td>\n",
       "      <td>130000</td>\n",
       "      <td>120000</td>\n",
       "      <td>Petrol</td>\n",
       "      <td>Individual</td>\n",
       "      <td>Manual</td>\n",
       "      <td>First Owner</td>\n",
       "      <td>16.1 kmpl</td>\n",
       "      <td>1298 CC</td>\n",
       "      <td>88.2 bhp</td>\n",
       "      <td>11.5@ 4,500(kgm@ rpm)</td>\n",
       "      <td>5.0</td>\n",
       "      <td>4500.0</td>\n",
       "      <td>11.5@</td>\n",
       "    </tr>\n",
       "  </tbody>\n",
       "</table>\n",
       "</div>"
      ],
      "text/plain": [
       "                           name  year  selling_price  km_driven    fuel  \\\n",
       "0        Maruti Swift Dzire VDI  2014         450000     145500  Diesel   \n",
       "1  Skoda Rapid 1.5 TDI Ambition  2014         370000     120000  Diesel   \n",
       "2      Honda City 2017-2020 EXi  2006         158000     140000  Petrol   \n",
       "3     Hyundai i20 Sportz Diesel  2010         225000     127000  Diesel   \n",
       "4        Maruti Swift VXI BSIII  2007         130000     120000  Petrol   \n",
       "\n",
       "  seller_type transmission         owner     mileage   engine   max_power  \\\n",
       "0  Individual       Manual   First Owner   23.4 kmpl  1248 CC      74 bhp   \n",
       "1  Individual       Manual  Second Owner  21.14 kmpl  1498 CC  103.52 bhp   \n",
       "2  Individual       Manual   Third Owner   17.7 kmpl  1497 CC      78 bhp   \n",
       "3  Individual       Manual   First Owner   23.0 kmpl  1396 CC      90 bhp   \n",
       "4  Individual       Manual   First Owner   16.1 kmpl  1298 CC    88.2 bhp   \n",
       "\n",
       "                     torque  seats     rpm Newton-meters  \n",
       "0            190Nm@ 2000rpm    5.0  2000.0        190Nm@  \n",
       "1       250Nm@ 1500-2500rpm    5.0  2000.0        250Nm@  \n",
       "2     12.7@ 2,700(kgm@ rpm)    5.0  2700.0         12.7@  \n",
       "3  22.4 kgm at 1750-2750rpm    5.0  2250.0          22.4  \n",
       "4     11.5@ 4,500(kgm@ rpm)    5.0  4500.0         11.5@  "
      ]
     },
     "metadata": {},
     "output_type": "display_data"
    },
    {
     "data": {
      "text/html": [
       "<div>\n",
       "<style scoped>\n",
       "    .dataframe tbody tr th:only-of-type {\n",
       "        vertical-align: middle;\n",
       "    }\n",
       "\n",
       "    .dataframe tbody tr th {\n",
       "        vertical-align: top;\n",
       "    }\n",
       "\n",
       "    .dataframe thead th {\n",
       "        text-align: right;\n",
       "    }\n",
       "</style>\n",
       "<table border=\"1\" class=\"dataframe\">\n",
       "  <thead>\n",
       "    <tr style=\"text-align: right;\">\n",
       "      <th></th>\n",
       "      <th>name</th>\n",
       "      <th>year</th>\n",
       "      <th>selling_price</th>\n",
       "      <th>km_driven</th>\n",
       "      <th>fuel</th>\n",
       "      <th>seller_type</th>\n",
       "      <th>transmission</th>\n",
       "      <th>owner</th>\n",
       "      <th>mileage</th>\n",
       "      <th>engine</th>\n",
       "      <th>max_power</th>\n",
       "      <th>torque</th>\n",
       "      <th>seats</th>\n",
       "      <th>rpm</th>\n",
       "      <th>Newton-meters</th>\n",
       "    </tr>\n",
       "  </thead>\n",
       "  <tbody>\n",
       "    <tr>\n",
       "      <th>8123</th>\n",
       "      <td>Hyundai i20 Magna</td>\n",
       "      <td>2013</td>\n",
       "      <td>320000</td>\n",
       "      <td>110000</td>\n",
       "      <td>Petrol</td>\n",
       "      <td>Individual</td>\n",
       "      <td>Manual</td>\n",
       "      <td>First Owner</td>\n",
       "      <td>18.5 kmpl</td>\n",
       "      <td>1197 CC</td>\n",
       "      <td>82.85 bhp</td>\n",
       "      <td>113.7Nm@ 4000rpm</td>\n",
       "      <td>5.0</td>\n",
       "      <td>4000.0</td>\n",
       "      <td>113.7Nm@</td>\n",
       "    </tr>\n",
       "    <tr>\n",
       "      <th>8124</th>\n",
       "      <td>Hyundai Verna CRDi SX</td>\n",
       "      <td>2007</td>\n",
       "      <td>135000</td>\n",
       "      <td>119000</td>\n",
       "      <td>Diesel</td>\n",
       "      <td>Individual</td>\n",
       "      <td>Manual</td>\n",
       "      <td>Fourth &amp; Above Owner</td>\n",
       "      <td>16.8 kmpl</td>\n",
       "      <td>1493 CC</td>\n",
       "      <td>110 bhp</td>\n",
       "      <td>24@ 1,900-2,750(kgm@ rpm)</td>\n",
       "      <td>5.0</td>\n",
       "      <td>2325.0</td>\n",
       "      <td>24@</td>\n",
       "    </tr>\n",
       "    <tr>\n",
       "      <th>8125</th>\n",
       "      <td>Maruti Swift Dzire ZDi</td>\n",
       "      <td>2009</td>\n",
       "      <td>382000</td>\n",
       "      <td>120000</td>\n",
       "      <td>Diesel</td>\n",
       "      <td>Individual</td>\n",
       "      <td>Manual</td>\n",
       "      <td>First Owner</td>\n",
       "      <td>19.3 kmpl</td>\n",
       "      <td>1248 CC</td>\n",
       "      <td>73.9 bhp</td>\n",
       "      <td>190Nm@ 2000rpm</td>\n",
       "      <td>5.0</td>\n",
       "      <td>2000.0</td>\n",
       "      <td>190Nm@</td>\n",
       "    </tr>\n",
       "    <tr>\n",
       "      <th>8126</th>\n",
       "      <td>Tata Indigo CR4</td>\n",
       "      <td>2013</td>\n",
       "      <td>290000</td>\n",
       "      <td>25000</td>\n",
       "      <td>Diesel</td>\n",
       "      <td>Individual</td>\n",
       "      <td>Manual</td>\n",
       "      <td>First Owner</td>\n",
       "      <td>23.57 kmpl</td>\n",
       "      <td>1396 CC</td>\n",
       "      <td>70 bhp</td>\n",
       "      <td>140Nm@ 1800-3000rpm</td>\n",
       "      <td>5.0</td>\n",
       "      <td>2400.0</td>\n",
       "      <td>140Nm@</td>\n",
       "    </tr>\n",
       "    <tr>\n",
       "      <th>8127</th>\n",
       "      <td>Tata Indigo CR4</td>\n",
       "      <td>2013</td>\n",
       "      <td>290000</td>\n",
       "      <td>25000</td>\n",
       "      <td>Diesel</td>\n",
       "      <td>Individual</td>\n",
       "      <td>Manual</td>\n",
       "      <td>First Owner</td>\n",
       "      <td>23.57 kmpl</td>\n",
       "      <td>1396 CC</td>\n",
       "      <td>70 bhp</td>\n",
       "      <td>140Nm@ 1800-3000rpm</td>\n",
       "      <td>5.0</td>\n",
       "      <td>2400.0</td>\n",
       "      <td>140Nm@</td>\n",
       "    </tr>\n",
       "  </tbody>\n",
       "</table>\n",
       "</div>"
      ],
      "text/plain": [
       "                        name  year  selling_price  km_driven    fuel  \\\n",
       "8123       Hyundai i20 Magna  2013         320000     110000  Petrol   \n",
       "8124   Hyundai Verna CRDi SX  2007         135000     119000  Diesel   \n",
       "8125  Maruti Swift Dzire ZDi  2009         382000     120000  Diesel   \n",
       "8126         Tata Indigo CR4  2013         290000      25000  Diesel   \n",
       "8127         Tata Indigo CR4  2013         290000      25000  Diesel   \n",
       "\n",
       "     seller_type transmission                 owner     mileage   engine  \\\n",
       "8123  Individual       Manual           First Owner   18.5 kmpl  1197 CC   \n",
       "8124  Individual       Manual  Fourth & Above Owner   16.8 kmpl  1493 CC   \n",
       "8125  Individual       Manual           First Owner   19.3 kmpl  1248 CC   \n",
       "8126  Individual       Manual           First Owner  23.57 kmpl  1396 CC   \n",
       "8127  Individual       Manual           First Owner  23.57 kmpl  1396 CC   \n",
       "\n",
       "      max_power                     torque  seats     rpm Newton-meters  \n",
       "8123  82.85 bhp           113.7Nm@ 4000rpm    5.0  4000.0      113.7Nm@  \n",
       "8124    110 bhp  24@ 1,900-2,750(kgm@ rpm)    5.0  2325.0           24@  \n",
       "8125   73.9 bhp             190Nm@ 2000rpm    5.0  2000.0        190Nm@  \n",
       "8126     70 bhp        140Nm@ 1800-3000rpm    5.0  2400.0        140Nm@  \n",
       "8127     70 bhp        140Nm@ 1800-3000rpm    5.0  2400.0        140Nm@  "
      ]
     },
     "metadata": {},
     "output_type": "display_data"
    }
   ],
   "source": [
    "df['Newton-meters'] = [x[0] for x in df['torque'].str.split(' ')]\n",
    "display(df.head(), df.tail())"
   ]
  },
  {
   "cell_type": "code",
   "execution_count": 11,
   "metadata": {},
   "outputs": [
    {
     "data": {
      "text/html": [
       "<div>\n",
       "<style scoped>\n",
       "    .dataframe tbody tr th:only-of-type {\n",
       "        vertical-align: middle;\n",
       "    }\n",
       "\n",
       "    .dataframe tbody tr th {\n",
       "        vertical-align: top;\n",
       "    }\n",
       "\n",
       "    .dataframe thead th {\n",
       "        text-align: right;\n",
       "    }\n",
       "</style>\n",
       "<table border=\"1\" class=\"dataframe\">\n",
       "  <thead>\n",
       "    <tr style=\"text-align: right;\">\n",
       "      <th></th>\n",
       "      <th>name</th>\n",
       "      <th>year</th>\n",
       "      <th>selling_price</th>\n",
       "      <th>km_driven</th>\n",
       "      <th>fuel</th>\n",
       "      <th>seller_type</th>\n",
       "      <th>transmission</th>\n",
       "      <th>owner</th>\n",
       "      <th>mileage</th>\n",
       "      <th>engine</th>\n",
       "      <th>max_power</th>\n",
       "      <th>torque</th>\n",
       "      <th>seats</th>\n",
       "      <th>rpm</th>\n",
       "      <th>Newton-meters</th>\n",
       "    </tr>\n",
       "  </thead>\n",
       "  <tbody>\n",
       "    <tr>\n",
       "      <th>0</th>\n",
       "      <td>Maruti Swift Dzire VDI</td>\n",
       "      <td>2014</td>\n",
       "      <td>450000</td>\n",
       "      <td>145500</td>\n",
       "      <td>Diesel</td>\n",
       "      <td>Individual</td>\n",
       "      <td>Manual</td>\n",
       "      <td>First Owner</td>\n",
       "      <td>23.4 kmpl</td>\n",
       "      <td>1248 CC</td>\n",
       "      <td>74 bhp</td>\n",
       "      <td>190Nm@ 2000rpm</td>\n",
       "      <td>5.0</td>\n",
       "      <td>2000.0</td>\n",
       "      <td>190.000000</td>\n",
       "    </tr>\n",
       "    <tr>\n",
       "      <th>1</th>\n",
       "      <td>Skoda Rapid 1.5 TDI Ambition</td>\n",
       "      <td>2014</td>\n",
       "      <td>370000</td>\n",
       "      <td>120000</td>\n",
       "      <td>Diesel</td>\n",
       "      <td>Individual</td>\n",
       "      <td>Manual</td>\n",
       "      <td>Second Owner</td>\n",
       "      <td>21.14 kmpl</td>\n",
       "      <td>1498 CC</td>\n",
       "      <td>103.52 bhp</td>\n",
       "      <td>250Nm@ 1500-2500rpm</td>\n",
       "      <td>5.0</td>\n",
       "      <td>2000.0</td>\n",
       "      <td>250.000000</td>\n",
       "    </tr>\n",
       "    <tr>\n",
       "      <th>2</th>\n",
       "      <td>Honda City 2017-2020 EXi</td>\n",
       "      <td>2006</td>\n",
       "      <td>158000</td>\n",
       "      <td>140000</td>\n",
       "      <td>Petrol</td>\n",
       "      <td>Individual</td>\n",
       "      <td>Manual</td>\n",
       "      <td>Third Owner</td>\n",
       "      <td>17.7 kmpl</td>\n",
       "      <td>1497 CC</td>\n",
       "      <td>78 bhp</td>\n",
       "      <td>12.7@ 2,700(kgm@ rpm)</td>\n",
       "      <td>5.0</td>\n",
       "      <td>2700.0</td>\n",
       "      <td>124.509804</td>\n",
       "    </tr>\n",
       "    <tr>\n",
       "      <th>3</th>\n",
       "      <td>Hyundai i20 Sportz Diesel</td>\n",
       "      <td>2010</td>\n",
       "      <td>225000</td>\n",
       "      <td>127000</td>\n",
       "      <td>Diesel</td>\n",
       "      <td>Individual</td>\n",
       "      <td>Manual</td>\n",
       "      <td>First Owner</td>\n",
       "      <td>23.0 kmpl</td>\n",
       "      <td>1396 CC</td>\n",
       "      <td>90 bhp</td>\n",
       "      <td>22.4 kgm at 1750-2750rpm</td>\n",
       "      <td>5.0</td>\n",
       "      <td>2250.0</td>\n",
       "      <td>219.607843</td>\n",
       "    </tr>\n",
       "    <tr>\n",
       "      <th>4</th>\n",
       "      <td>Maruti Swift VXI BSIII</td>\n",
       "      <td>2007</td>\n",
       "      <td>130000</td>\n",
       "      <td>120000</td>\n",
       "      <td>Petrol</td>\n",
       "      <td>Individual</td>\n",
       "      <td>Manual</td>\n",
       "      <td>First Owner</td>\n",
       "      <td>16.1 kmpl</td>\n",
       "      <td>1298 CC</td>\n",
       "      <td>88.2 bhp</td>\n",
       "      <td>11.5@ 4,500(kgm@ rpm)</td>\n",
       "      <td>5.0</td>\n",
       "      <td>4500.0</td>\n",
       "      <td>112.745098</td>\n",
       "    </tr>\n",
       "  </tbody>\n",
       "</table>\n",
       "</div>"
      ],
      "text/plain": [
       "                           name  year  selling_price  km_driven    fuel  \\\n",
       "0        Maruti Swift Dzire VDI  2014         450000     145500  Diesel   \n",
       "1  Skoda Rapid 1.5 TDI Ambition  2014         370000     120000  Diesel   \n",
       "2      Honda City 2017-2020 EXi  2006         158000     140000  Petrol   \n",
       "3     Hyundai i20 Sportz Diesel  2010         225000     127000  Diesel   \n",
       "4        Maruti Swift VXI BSIII  2007         130000     120000  Petrol   \n",
       "\n",
       "  seller_type transmission         owner     mileage   engine   max_power  \\\n",
       "0  Individual       Manual   First Owner   23.4 kmpl  1248 CC      74 bhp   \n",
       "1  Individual       Manual  Second Owner  21.14 kmpl  1498 CC  103.52 bhp   \n",
       "2  Individual       Manual   Third Owner   17.7 kmpl  1497 CC      78 bhp   \n",
       "3  Individual       Manual   First Owner   23.0 kmpl  1396 CC      90 bhp   \n",
       "4  Individual       Manual   First Owner   16.1 kmpl  1298 CC    88.2 bhp   \n",
       "\n",
       "                     torque  seats     rpm  Newton-meters  \n",
       "0            190Nm@ 2000rpm    5.0  2000.0     190.000000  \n",
       "1       250Nm@ 1500-2500rpm    5.0  2000.0     250.000000  \n",
       "2     12.7@ 2,700(kgm@ rpm)    5.0  2700.0     124.509804  \n",
       "3  22.4 kgm at 1750-2750rpm    5.0  2250.0     219.607843  \n",
       "4     11.5@ 4,500(kgm@ rpm)    5.0  4500.0     112.745098  "
      ]
     },
     "execution_count": 11,
     "metadata": {},
     "output_type": "execute_result"
    }
   ],
   "source": [
    "df['Newton-meters'] = df['Newton-meters'].apply(clean_nm_2)\n",
    "df.head()"
   ]
  },
  {
   "cell_type": "code",
   "execution_count": 12,
   "metadata": {
    "scrolled": true
   },
   "outputs": [],
   "source": [
    "df['marca'] = [x[0] for x in df['name'].str.split(' ')]\n",
    "df['model'] = [x[1] for x in df['name'].str.split(' ')]\n",
    "df['num_year'] = datetime.now().year-df.year\n",
    "for col in ['engine', 'max_power', 'mileage']:\n",
    "    df[col] = df[col].apply(lambda x: float(re.findall('\\d+\\.*\\d*', x)[0]))"
   ]
  },
  {
   "cell_type": "code",
   "execution_count": 105,
   "metadata": {
    "collapsed": true
   },
   "outputs": [
    {
     "name": "stdout",
     "output_type": "stream",
     "text": [
      "<class 'pandas.core.frame.DataFrame'>\n",
      "Int64Index: 7858 entries, 0 to 8127\n",
      "Data columns (total 18 columns):\n",
      " #   Column         Non-Null Count  Dtype  \n",
      "---  ------         --------------  -----  \n",
      " 0   name           7858 non-null   object \n",
      " 1   year           7858 non-null   int64  \n",
      " 2   selling_price  7858 non-null   int64  \n",
      " 3   km_driven      7858 non-null   int64  \n",
      " 4   fuel           7858 non-null   object \n",
      " 5   seller_type    7858 non-null   object \n",
      " 6   transmission   7858 non-null   object \n",
      " 7   owner          7858 non-null   object \n",
      " 8   mileage        7858 non-null   float64\n",
      " 9   engine         7858 non-null   float64\n",
      " 10  max_power      7858 non-null   float64\n",
      " 11  torque         7858 non-null   object \n",
      " 12  seats          7858 non-null   float64\n",
      " 13  rpm            7858 non-null   float64\n",
      " 14  Newton-meters  7858 non-null   float64\n",
      " 15  marca          7858 non-null   object \n",
      " 16  model          7858 non-null   object \n",
      " 17  num_year       7858 non-null   int64  \n",
      "dtypes: float64(6), int64(4), object(8)\n",
      "memory usage: 1.1+ MB\n"
     ]
    }
   ],
   "source": [
    "df.info()"
   ]
  },
  {
   "cell_type": "code",
   "execution_count": 13,
   "metadata": {},
   "outputs": [],
   "source": [
    "df['seats'] = df.seats.astype('int32')"
   ]
  },
  {
   "cell_type": "code",
   "execution_count": 14,
   "metadata": {},
   "outputs": [],
   "source": [
    "# Potencia de un motor: Nm x rpm x 2π/60\n",
    "df['potencia'] = df['Newton-meters']*df['rpm']*(np.pi/60)"
   ]
  },
  {
   "cell_type": "code",
   "execution_count": 108,
   "metadata": {},
   "outputs": [
    {
     "data": {
      "text/html": [
       "<div>\n",
       "<style scoped>\n",
       "    .dataframe tbody tr th:only-of-type {\n",
       "        vertical-align: middle;\n",
       "    }\n",
       "\n",
       "    .dataframe tbody tr th {\n",
       "        vertical-align: top;\n",
       "    }\n",
       "\n",
       "    .dataframe thead th {\n",
       "        text-align: right;\n",
       "    }\n",
       "</style>\n",
       "<table border=\"1\" class=\"dataframe\">\n",
       "  <thead>\n",
       "    <tr style=\"text-align: right;\">\n",
       "      <th></th>\n",
       "      <th>name</th>\n",
       "      <th>year</th>\n",
       "      <th>selling_price</th>\n",
       "      <th>km_driven</th>\n",
       "      <th>fuel</th>\n",
       "      <th>seller_type</th>\n",
       "      <th>transmission</th>\n",
       "      <th>owner</th>\n",
       "      <th>mileage</th>\n",
       "      <th>engine</th>\n",
       "      <th>max_power</th>\n",
       "      <th>torque</th>\n",
       "      <th>seats</th>\n",
       "      <th>rpm</th>\n",
       "      <th>Newton-meters</th>\n",
       "      <th>marca</th>\n",
       "      <th>model</th>\n",
       "      <th>num_year</th>\n",
       "      <th>potencia</th>\n",
       "    </tr>\n",
       "  </thead>\n",
       "  <tbody>\n",
       "    <tr>\n",
       "      <th>0</th>\n",
       "      <td>Maruti Swift Dzire VDI</td>\n",
       "      <td>2014</td>\n",
       "      <td>450000</td>\n",
       "      <td>145500</td>\n",
       "      <td>Diesel</td>\n",
       "      <td>Individual</td>\n",
       "      <td>Manual</td>\n",
       "      <td>First Owner</td>\n",
       "      <td>23.40</td>\n",
       "      <td>1248.0</td>\n",
       "      <td>74.00</td>\n",
       "      <td>190Nm@ 2000rpm</td>\n",
       "      <td>5</td>\n",
       "      <td>2000.0</td>\n",
       "      <td>190.000000</td>\n",
       "      <td>Maruti</td>\n",
       "      <td>Swift</td>\n",
       "      <td>7</td>\n",
       "      <td>19896.753473</td>\n",
       "    </tr>\n",
       "    <tr>\n",
       "      <th>1</th>\n",
       "      <td>Skoda Rapid 1.5 TDI Ambition</td>\n",
       "      <td>2014</td>\n",
       "      <td>370000</td>\n",
       "      <td>120000</td>\n",
       "      <td>Diesel</td>\n",
       "      <td>Individual</td>\n",
       "      <td>Manual</td>\n",
       "      <td>Second Owner</td>\n",
       "      <td>21.14</td>\n",
       "      <td>1498.0</td>\n",
       "      <td>103.52</td>\n",
       "      <td>250Nm@ 1500-2500rpm</td>\n",
       "      <td>5</td>\n",
       "      <td>2000.0</td>\n",
       "      <td>250.000000</td>\n",
       "      <td>Skoda</td>\n",
       "      <td>Rapid</td>\n",
       "      <td>7</td>\n",
       "      <td>26179.938780</td>\n",
       "    </tr>\n",
       "    <tr>\n",
       "      <th>2</th>\n",
       "      <td>Honda City 2017-2020 EXi</td>\n",
       "      <td>2006</td>\n",
       "      <td>158000</td>\n",
       "      <td>140000</td>\n",
       "      <td>Petrol</td>\n",
       "      <td>Individual</td>\n",
       "      <td>Manual</td>\n",
       "      <td>Third Owner</td>\n",
       "      <td>17.70</td>\n",
       "      <td>1497.0</td>\n",
       "      <td>78.00</td>\n",
       "      <td>12.7@ 2,700(kgm@ rpm)</td>\n",
       "      <td>5</td>\n",
       "      <td>2700.0</td>\n",
       "      <td>124.509804</td>\n",
       "      <td>Honda</td>\n",
       "      <td>City</td>\n",
       "      <td>15</td>\n",
       "      <td>17602.158838</td>\n",
       "    </tr>\n",
       "    <tr>\n",
       "      <th>3</th>\n",
       "      <td>Hyundai i20 Sportz Diesel</td>\n",
       "      <td>2010</td>\n",
       "      <td>225000</td>\n",
       "      <td>127000</td>\n",
       "      <td>Diesel</td>\n",
       "      <td>Individual</td>\n",
       "      <td>Manual</td>\n",
       "      <td>First Owner</td>\n",
       "      <td>23.00</td>\n",
       "      <td>1396.0</td>\n",
       "      <td>90.00</td>\n",
       "      <td>22.4 kgm at 1750-2750rpm</td>\n",
       "      <td>5</td>\n",
       "      <td>2250.0</td>\n",
       "      <td>219.607843</td>\n",
       "      <td>Hyundai</td>\n",
       "      <td>i20</td>\n",
       "      <td>11</td>\n",
       "      <td>25871.939500</td>\n",
       "    </tr>\n",
       "    <tr>\n",
       "      <th>4</th>\n",
       "      <td>Maruti Swift VXI BSIII</td>\n",
       "      <td>2007</td>\n",
       "      <td>130000</td>\n",
       "      <td>120000</td>\n",
       "      <td>Petrol</td>\n",
       "      <td>Individual</td>\n",
       "      <td>Manual</td>\n",
       "      <td>First Owner</td>\n",
       "      <td>16.10</td>\n",
       "      <td>1298.0</td>\n",
       "      <td>88.20</td>\n",
       "      <td>11.5@ 4,500(kgm@ rpm)</td>\n",
       "      <td>5</td>\n",
       "      <td>4500.0</td>\n",
       "      <td>112.745098</td>\n",
       "      <td>Maruti</td>\n",
       "      <td>Swift</td>\n",
       "      <td>14</td>\n",
       "      <td>26564.937880</td>\n",
       "    </tr>\n",
       "  </tbody>\n",
       "</table>\n",
       "</div>"
      ],
      "text/plain": [
       "                           name  year  selling_price  km_driven    fuel  \\\n",
       "0        Maruti Swift Dzire VDI  2014         450000     145500  Diesel   \n",
       "1  Skoda Rapid 1.5 TDI Ambition  2014         370000     120000  Diesel   \n",
       "2      Honda City 2017-2020 EXi  2006         158000     140000  Petrol   \n",
       "3     Hyundai i20 Sportz Diesel  2010         225000     127000  Diesel   \n",
       "4        Maruti Swift VXI BSIII  2007         130000     120000  Petrol   \n",
       "\n",
       "  seller_type transmission         owner  mileage  engine  max_power  \\\n",
       "0  Individual       Manual   First Owner    23.40  1248.0      74.00   \n",
       "1  Individual       Manual  Second Owner    21.14  1498.0     103.52   \n",
       "2  Individual       Manual   Third Owner    17.70  1497.0      78.00   \n",
       "3  Individual       Manual   First Owner    23.00  1396.0      90.00   \n",
       "4  Individual       Manual   First Owner    16.10  1298.0      88.20   \n",
       "\n",
       "                     torque  seats     rpm  Newton-meters    marca  model  \\\n",
       "0            190Nm@ 2000rpm      5  2000.0     190.000000   Maruti  Swift   \n",
       "1       250Nm@ 1500-2500rpm      5  2000.0     250.000000    Skoda  Rapid   \n",
       "2     12.7@ 2,700(kgm@ rpm)      5  2700.0     124.509804    Honda   City   \n",
       "3  22.4 kgm at 1750-2750rpm      5  2250.0     219.607843  Hyundai    i20   \n",
       "4     11.5@ 4,500(kgm@ rpm)      5  4500.0     112.745098   Maruti  Swift   \n",
       "\n",
       "   num_year      potencia  \n",
       "0         7  19896.753473  \n",
       "1         7  26179.938780  \n",
       "2        15  17602.158838  \n",
       "3        11  25871.939500  \n",
       "4        14  26564.937880  "
      ]
     },
     "execution_count": 108,
     "metadata": {},
     "output_type": "execute_result"
    }
   ],
   "source": [
    "df.head()"
   ]
  },
  {
   "cell_type": "code",
   "execution_count": 15,
   "metadata": {},
   "outputs": [],
   "source": [
    "df_filter = df.copy()\n",
    "df_filter = df_filter.drop(labels=['name', 'year', 'torque'], axis='columns')"
   ]
  },
  {
   "cell_type": "code",
   "execution_count": 16,
   "metadata": {},
   "outputs": [],
   "source": [
    "df_filter = df_filter.reindex(columns=['marca', 'model', 'fuel', 'seller_type', 'transmission', 'owner', 'seats', 'num_year', 'km_driven', 'mileage', 'engine', 'max_power', 'rpm', 'Newton-meters', 'potencia','selling_price'])"
   ]
  },
  {
   "cell_type": "code",
   "execution_count": 111,
   "metadata": {},
   "outputs": [
    {
     "data": {
      "text/html": [
       "<div>\n",
       "<style scoped>\n",
       "    .dataframe tbody tr th:only-of-type {\n",
       "        vertical-align: middle;\n",
       "    }\n",
       "\n",
       "    .dataframe tbody tr th {\n",
       "        vertical-align: top;\n",
       "    }\n",
       "\n",
       "    .dataframe thead th {\n",
       "        text-align: right;\n",
       "    }\n",
       "</style>\n",
       "<table border=\"1\" class=\"dataframe\">\n",
       "  <thead>\n",
       "    <tr style=\"text-align: right;\">\n",
       "      <th></th>\n",
       "      <th>marca</th>\n",
       "      <th>model</th>\n",
       "      <th>fuel</th>\n",
       "      <th>seller_type</th>\n",
       "      <th>transmission</th>\n",
       "      <th>owner</th>\n",
       "      <th>seats</th>\n",
       "      <th>num_year</th>\n",
       "      <th>km_driven</th>\n",
       "      <th>mileage</th>\n",
       "      <th>engine</th>\n",
       "      <th>max_power</th>\n",
       "      <th>rpm</th>\n",
       "      <th>Newton-meters</th>\n",
       "      <th>potencia</th>\n",
       "      <th>selling_price</th>\n",
       "    </tr>\n",
       "  </thead>\n",
       "  <tbody>\n",
       "    <tr>\n",
       "      <th>0</th>\n",
       "      <td>Maruti</td>\n",
       "      <td>Swift</td>\n",
       "      <td>Diesel</td>\n",
       "      <td>Individual</td>\n",
       "      <td>Manual</td>\n",
       "      <td>First Owner</td>\n",
       "      <td>5</td>\n",
       "      <td>7</td>\n",
       "      <td>145500</td>\n",
       "      <td>23.40</td>\n",
       "      <td>1248.0</td>\n",
       "      <td>74.00</td>\n",
       "      <td>2000.0</td>\n",
       "      <td>190.000000</td>\n",
       "      <td>19896.753473</td>\n",
       "      <td>450000</td>\n",
       "    </tr>\n",
       "    <tr>\n",
       "      <th>1</th>\n",
       "      <td>Skoda</td>\n",
       "      <td>Rapid</td>\n",
       "      <td>Diesel</td>\n",
       "      <td>Individual</td>\n",
       "      <td>Manual</td>\n",
       "      <td>Second Owner</td>\n",
       "      <td>5</td>\n",
       "      <td>7</td>\n",
       "      <td>120000</td>\n",
       "      <td>21.14</td>\n",
       "      <td>1498.0</td>\n",
       "      <td>103.52</td>\n",
       "      <td>2000.0</td>\n",
       "      <td>250.000000</td>\n",
       "      <td>26179.938780</td>\n",
       "      <td>370000</td>\n",
       "    </tr>\n",
       "    <tr>\n",
       "      <th>2</th>\n",
       "      <td>Honda</td>\n",
       "      <td>City</td>\n",
       "      <td>Petrol</td>\n",
       "      <td>Individual</td>\n",
       "      <td>Manual</td>\n",
       "      <td>Third Owner</td>\n",
       "      <td>5</td>\n",
       "      <td>15</td>\n",
       "      <td>140000</td>\n",
       "      <td>17.70</td>\n",
       "      <td>1497.0</td>\n",
       "      <td>78.00</td>\n",
       "      <td>2700.0</td>\n",
       "      <td>124.509804</td>\n",
       "      <td>17602.158838</td>\n",
       "      <td>158000</td>\n",
       "    </tr>\n",
       "    <tr>\n",
       "      <th>3</th>\n",
       "      <td>Hyundai</td>\n",
       "      <td>i20</td>\n",
       "      <td>Diesel</td>\n",
       "      <td>Individual</td>\n",
       "      <td>Manual</td>\n",
       "      <td>First Owner</td>\n",
       "      <td>5</td>\n",
       "      <td>11</td>\n",
       "      <td>127000</td>\n",
       "      <td>23.00</td>\n",
       "      <td>1396.0</td>\n",
       "      <td>90.00</td>\n",
       "      <td>2250.0</td>\n",
       "      <td>219.607843</td>\n",
       "      <td>25871.939500</td>\n",
       "      <td>225000</td>\n",
       "    </tr>\n",
       "    <tr>\n",
       "      <th>4</th>\n",
       "      <td>Maruti</td>\n",
       "      <td>Swift</td>\n",
       "      <td>Petrol</td>\n",
       "      <td>Individual</td>\n",
       "      <td>Manual</td>\n",
       "      <td>First Owner</td>\n",
       "      <td>5</td>\n",
       "      <td>14</td>\n",
       "      <td>120000</td>\n",
       "      <td>16.10</td>\n",
       "      <td>1298.0</td>\n",
       "      <td>88.20</td>\n",
       "      <td>4500.0</td>\n",
       "      <td>112.745098</td>\n",
       "      <td>26564.937880</td>\n",
       "      <td>130000</td>\n",
       "    </tr>\n",
       "  </tbody>\n",
       "</table>\n",
       "</div>"
      ],
      "text/plain": [
       "     marca  model    fuel seller_type transmission         owner  seats  \\\n",
       "0   Maruti  Swift  Diesel  Individual       Manual   First Owner      5   \n",
       "1    Skoda  Rapid  Diesel  Individual       Manual  Second Owner      5   \n",
       "2    Honda   City  Petrol  Individual       Manual   Third Owner      5   \n",
       "3  Hyundai    i20  Diesel  Individual       Manual   First Owner      5   \n",
       "4   Maruti  Swift  Petrol  Individual       Manual   First Owner      5   \n",
       "\n",
       "   num_year  km_driven  mileage  engine  max_power     rpm  Newton-meters  \\\n",
       "0         7     145500    23.40  1248.0      74.00  2000.0     190.000000   \n",
       "1         7     120000    21.14  1498.0     103.52  2000.0     250.000000   \n",
       "2        15     140000    17.70  1497.0      78.00  2700.0     124.509804   \n",
       "3        11     127000    23.00  1396.0      90.00  2250.0     219.607843   \n",
       "4        14     120000    16.10  1298.0      88.20  4500.0     112.745098   \n",
       "\n",
       "       potencia  selling_price  \n",
       "0  19896.753473         450000  \n",
       "1  26179.938780         370000  \n",
       "2  17602.158838         158000  \n",
       "3  25871.939500         225000  \n",
       "4  26564.937880         130000  "
      ]
     },
     "execution_count": 111,
     "metadata": {},
     "output_type": "execute_result"
    }
   ],
   "source": [
    "df_filter.head()"
   ]
  },
  {
   "cell_type": "code",
   "execution_count": 17,
   "metadata": {},
   "outputs": [],
   "source": [
    "df_filter.drop(index=df_filter[df_filter['Newton-meters'] > 720].index, inplace=True)\n",
    "df_filter.drop(index=df_filter[df_filter['mileage']> 40].index, inplace=True)\n",
    "df_filter.drop(index=df_filter[df_filter['rpm']> 5000].index, inplace=True)"
   ]
  },
  {
   "cell_type": "code",
   "execution_count": 18,
   "metadata": {},
   "outputs": [
    {
     "data": {
      "image/png": "[encoded data removed]",
      "text/plain": [
       "<Figure size 864x360 with 2 Axes>"
      ]
     },
     "metadata": {
      "needs_background": "light"
     },
     "output_type": "display_data"
    }
   ],
   "source": [
    "plt.figure(figsize=(12,5))\n",
    "sns.heatmap(df_filter.corr(), cmap='RdYlGn', annot=True)\n",
    "plt.show()"
   ]
  },
  {
   "cell_type": "markdown",
   "metadata": {},
   "source": [
    "Las variables que mas desconfianza me genera al momento de evaluar el _'Selling_price'_ las evaluare mediante un grafico para ver como se comporta y como se distribuyen las muestras"
   ]
  },
  {
   "cell_type": "markdown",
   "metadata": {},
   "source": [
    "Esta informacion nos ayudará a identificar algunos 'outliers' y proceder a eliminarlos, eliminaremos los Newton-meters mayor a 700 Nm, por capacidad fisica de la mayoria de autos"
   ]
  },
  {
   "cell_type": "code",
   "execution_count": 114,
   "metadata": {
    "scrolled": true
   },
   "outputs": [
    {
     "data": {
      "text/plain": [
       "<seaborn.axisgrid.PairGrid at 0xbc0d748>"
      ]
     },
     "execution_count": 114,
     "metadata": {},
     "output_type": "execute_result"
    },
    {
     "data": {
      "image/png": "[encoded data removed]",
      "text/plain": [
       "<Figure size 511.1x2160 with 7 Axes>"
      ]
     },
     "metadata": {
      "needs_background": "light"
     },
     "output_type": "display_data"
    }
   ],
   "source": [
    "y_vars= ['selling_price','mileage', 'engine', 'rpm', 'Newton-meters', 'potencia']\n",
    "x_vars= ['selling_price']\n",
    "g = sns.PairGrid(df_filter, height=5, hue='owner', x_vars=x_vars, y_vars=y_vars)\n",
    "g.map_diag(sns.histplot, color='.3')\n",
    "g.map_offdiag(sns.scatterplot, alpha=.3)\n",
    "g.add_legend()"
   ]
  },
  {
   "cell_type": "markdown",
   "metadata": {},
   "source": [
    "Comprobamos que la relacion entre Newton-meters vs rpm **(potencia)** tiene mayor correlacion con respecto a la variable independiente _'Selling_price'_, por ello procedemos a eliminar estas dos variables ~Newton-meters & rpm~"
   ]
  },
  {
   "cell_type": "code",
   "execution_count": 19,
   "metadata": {},
   "outputs": [],
   "source": [
    "df_filter.drop(labels=['Newton-meters', 'rpm'], axis='columns', inplace=True)"
   ]
  },
  {
   "cell_type": "markdown",
   "metadata": {},
   "source": [
    "> Nota: Intentar manejar dos escenarios:\n",
    "1.Manejar todas las categorias de las marcas\n",
    "2.Segmentar las marcas por valor maximo, para agrupar autos del mismo estrato."
   ]
  },
  {
   "cell_type": "code",
   "execution_count": 20,
   "metadata": {
    "scrolled": true
   },
   "outputs": [],
   "source": [
    "marcas_count = df_filter.groupby('marca')['selling_price'].count().sort_values(ascending=False)"
   ]
  },
  {
   "cell_type": "code",
   "execution_count": 24,
   "metadata": {
    "scrolled": true
   },
   "outputs": [
    {
     "ename": "AttributeError",
     "evalue": "module 'seaborn' has no attribute 'set_theme'",
     "output_type": "error",
     "traceback": [
      "\u001b[1;31m---------------------------------------------------------------------------\u001b[0m",
      "\u001b[1;31mAttributeError\u001b[0m                            Traceback (most recent call last)",
      "\u001b[1;32m<ipython-input-24-850449f8e62c>\u001b[0m in \u001b[0;36m<module>\u001b[1;34m\u001b[0m\n\u001b[1;32m----> 1\u001b[1;33m \u001b[0msns\u001b[0m\u001b[1;33m.\u001b[0m\u001b[0mset_theme\u001b[0m\u001b[1;33m(\u001b[0m\u001b[1;34m'darkgrid'\u001b[0m\u001b[1;33m)\u001b[0m\u001b[1;33m\u001b[0m\u001b[1;33m\u001b[0m\u001b[0m\n\u001b[0m\u001b[0;32m      2\u001b[0m \u001b[0mm\u001b[0m \u001b[1;33m=\u001b[0m \u001b[0msns\u001b[0m\u001b[1;33m.\u001b[0m\u001b[0mcatplot\u001b[0m\u001b[1;33m(\u001b[0m\u001b[0mdata\u001b[0m\u001b[1;33m=\u001b[0m\u001b[0mdf_filter\u001b[0m\u001b[1;33m,\u001b[0m \u001b[0mx\u001b[0m\u001b[1;33m=\u001b[0m\u001b[1;34m'marca'\u001b[0m\u001b[1;33m,\u001b[0m \u001b[0mkind\u001b[0m\u001b[1;33m=\u001b[0m\u001b[1;34m'count'\u001b[0m\u001b[1;33m,\u001b[0m \u001b[0morder\u001b[0m\u001b[1;33m=\u001b[0m\u001b[0mmarcas_count\u001b[0m\u001b[1;33m.\u001b[0m\u001b[0mindex\u001b[0m\u001b[1;33m,\u001b[0m \u001b[0mheight\u001b[0m\u001b[1;33m=\u001b[0m\u001b[1;36m8\u001b[0m\u001b[1;33m)\u001b[0m\u001b[1;33m\u001b[0m\u001b[1;33m\u001b[0m\u001b[0m\n\u001b[0;32m      3\u001b[0m \u001b[0mm\u001b[0m\u001b[1;33m.\u001b[0m\u001b[0mset_titles\u001b[0m\u001b[1;33m(\u001b[0m\u001b[1;34m'Cantidad de autos según marca'\u001b[0m\u001b[1;33m)\u001b[0m\u001b[1;33m\u001b[0m\u001b[1;33m\u001b[0m\u001b[0m\n\u001b[0;32m      4\u001b[0m \u001b[0mm\u001b[0m\u001b[1;33m.\u001b[0m\u001b[0mset_xticklabels\u001b[0m\u001b[1;33m(\u001b[0m\u001b[0mrotation\u001b[0m\u001b[1;33m=\u001b[0m\u001b[1;36m90\u001b[0m\u001b[1;33m)\u001b[0m\u001b[1;33m\u001b[0m\u001b[1;33m\u001b[0m\u001b[0m\n",
      "\u001b[1;31mAttributeError\u001b[0m: module 'seaborn' has no attribute 'set_theme'"
     ]
    }
   ],
   "source": [
    "sns.set_theme('darkgrid')\n",
    "m = sns.catplot(data=df_filter, x='marca', kind='count', order=marcas_count.index, height=8)\n",
    "m.set_titles('Cantidad de autos según marca')\n",
    "m.set_xticklabels(rotation=90)"
   ]
  },
  {
   "cell_type": "code",
   "execution_count": 23,
   "metadata": {
    "scrolled": true
   },
   "outputs": [
    {
     "data": {
      "text/html": [
       "<div>\n",
       "<style scoped>\n",
       "    .dataframe tbody tr th:only-of-type {\n",
       "        vertical-align: middle;\n",
       "    }\n",
       "\n",
       "    .dataframe tbody tr th {\n",
       "        vertical-align: top;\n",
       "    }\n",
       "\n",
       "    .dataframe thead th {\n",
       "        text-align: right;\n",
       "    }\n",
       "</style>\n",
       "<table border=\"1\" class=\"dataframe\">\n",
       "  <thead>\n",
       "    <tr style=\"text-align: right;\">\n",
       "      <th></th>\n",
       "      <th>count</th>\n",
       "      <th>min</th>\n",
       "      <th>max</th>\n",
       "      <th>mean</th>\n",
       "    </tr>\n",
       "    <tr>\n",
       "      <th>marca</th>\n",
       "      <th></th>\n",
       "      <th></th>\n",
       "      <th></th>\n",
       "      <th></th>\n",
       "    </tr>\n",
       "  </thead>\n",
       "  <tbody>\n",
       "    <tr>\n",
       "      <th>Opel</th>\n",
       "      <td>1</td>\n",
       "      <td>68000</td>\n",
       "      <td>68000</td>\n",
       "      <td>6.800000e+04</td>\n",
       "    </tr>\n",
       "    <tr>\n",
       "      <th>Daewoo</th>\n",
       "      <td>3</td>\n",
       "      <td>45000</td>\n",
       "      <td>100000</td>\n",
       "      <td>7.700000e+04</td>\n",
       "    </tr>\n",
       "    <tr>\n",
       "      <th>Ambassador</th>\n",
       "      <td>4</td>\n",
       "      <td>75000</td>\n",
       "      <td>200000</td>\n",
       "      <td>1.240000e+05</td>\n",
       "    </tr>\n",
       "    <tr>\n",
       "      <th>Ashok</th>\n",
       "      <td>1</td>\n",
       "      <td>300000</td>\n",
       "      <td>300000</td>\n",
       "      <td>3.000000e+05</td>\n",
       "    </tr>\n",
       "    <tr>\n",
       "      <th>Datsun</th>\n",
       "      <td>65</td>\n",
       "      <td>150000</td>\n",
       "      <td>590000</td>\n",
       "      <td>3.146000e+05</td>\n",
       "    </tr>\n",
       "    <tr>\n",
       "      <th>Fiat</th>\n",
       "      <td>41</td>\n",
       "      <td>100000</td>\n",
       "      <td>700000</td>\n",
       "      <td>3.171951e+05</td>\n",
       "    </tr>\n",
       "    <tr>\n",
       "      <th>Force</th>\n",
       "      <td>6</td>\n",
       "      <td>555000</td>\n",
       "      <td>1050000</td>\n",
       "      <td>8.875000e+05</td>\n",
       "    </tr>\n",
       "    <tr>\n",
       "      <th>Nissan</th>\n",
       "      <td>81</td>\n",
       "      <td>110000</td>\n",
       "      <td>1200000</td>\n",
       "      <td>4.654074e+05</td>\n",
       "    </tr>\n",
       "    <tr>\n",
       "      <th>Maruti</th>\n",
       "      <td>2353</td>\n",
       "      <td>29999</td>\n",
       "      <td>1200000</td>\n",
       "      <td>4.103856e+05</td>\n",
       "    </tr>\n",
       "    <tr>\n",
       "      <th>Renault</th>\n",
       "      <td>228</td>\n",
       "      <td>200000</td>\n",
       "      <td>1265000</td>\n",
       "      <td>4.626184e+05</td>\n",
       "    </tr>\n",
       "    <tr>\n",
       "      <th>Chevrolet</th>\n",
       "      <td>230</td>\n",
       "      <td>45000</td>\n",
       "      <td>1295000</td>\n",
       "      <td>2.738675e+05</td>\n",
       "    </tr>\n",
       "    <tr>\n",
       "      <th>Volkswagen</th>\n",
       "      <td>185</td>\n",
       "      <td>210000</td>\n",
       "      <td>1350000</td>\n",
       "      <td>4.898919e+05</td>\n",
       "    </tr>\n",
       "    <tr>\n",
       "      <th>Tata</th>\n",
       "      <td>688</td>\n",
       "      <td>45000</td>\n",
       "      <td>1700000</td>\n",
       "      <td>3.704010e+05</td>\n",
       "    </tr>\n",
       "    <tr>\n",
       "      <th>Mahindra</th>\n",
       "      <td>669</td>\n",
       "      <td>120000</td>\n",
       "      <td>1800000</td>\n",
       "      <td>6.745844e+05</td>\n",
       "    </tr>\n",
       "    <tr>\n",
       "      <th>MG</th>\n",
       "      <td>3</td>\n",
       "      <td>1700000</td>\n",
       "      <td>1900000</td>\n",
       "      <td>1.783333e+06</td>\n",
       "    </tr>\n",
       "    <tr>\n",
       "      <th>Kia</th>\n",
       "      <td>4</td>\n",
       "      <td>643000</td>\n",
       "      <td>1900000</td>\n",
       "      <td>1.504500e+06</td>\n",
       "    </tr>\n",
       "    <tr>\n",
       "      <th>Isuzu</th>\n",
       "      <td>3</td>\n",
       "      <td>1160000</td>\n",
       "      <td>1900000</td>\n",
       "      <td>1.436667e+06</td>\n",
       "    </tr>\n",
       "    <tr>\n",
       "      <th>Hyundai</th>\n",
       "      <td>1354</td>\n",
       "      <td>55000</td>\n",
       "      <td>1950000</td>\n",
       "      <td>4.706030e+05</td>\n",
       "    </tr>\n",
       "    <tr>\n",
       "      <th>Mitsubishi</th>\n",
       "      <td>14</td>\n",
       "      <td>150000</td>\n",
       "      <td>1950000</td>\n",
       "      <td>8.175000e+05</td>\n",
       "    </tr>\n",
       "    <tr>\n",
       "      <th>Honda</th>\n",
       "      <td>443</td>\n",
       "      <td>50000</td>\n",
       "      <td>2125000</td>\n",
       "      <td>6.075240e+05</td>\n",
       "    </tr>\n",
       "    <tr>\n",
       "      <th>Volvo</th>\n",
       "      <td>32</td>\n",
       "      <td>1200000</td>\n",
       "      <td>2500000</td>\n",
       "      <td>2.419531e+06</td>\n",
       "    </tr>\n",
       "    <tr>\n",
       "      <th>Ford</th>\n",
       "      <td>383</td>\n",
       "      <td>55000</td>\n",
       "      <td>3250000</td>\n",
       "      <td>5.234047e+05</td>\n",
       "    </tr>\n",
       "    <tr>\n",
       "      <th>Skoda</th>\n",
       "      <td>93</td>\n",
       "      <td>100000</td>\n",
       "      <td>3251000</td>\n",
       "      <td>6.213011e+05</td>\n",
       "    </tr>\n",
       "    <tr>\n",
       "      <th>Jaguar</th>\n",
       "      <td>71</td>\n",
       "      <td>2000000</td>\n",
       "      <td>3500000</td>\n",
       "      <td>2.915465e+06</td>\n",
       "    </tr>\n",
       "    <tr>\n",
       "      <th>Toyota</th>\n",
       "      <td>452</td>\n",
       "      <td>135000</td>\n",
       "      <td>3500000</td>\n",
       "      <td>1.011920e+06</td>\n",
       "    </tr>\n",
       "    <tr>\n",
       "      <th>Jeep</th>\n",
       "      <td>31</td>\n",
       "      <td>1325000</td>\n",
       "      <td>4100000</td>\n",
       "      <td>2.149613e+06</td>\n",
       "    </tr>\n",
       "    <tr>\n",
       "      <th>Land</th>\n",
       "      <td>5</td>\n",
       "      <td>2000000</td>\n",
       "      <td>4500000</td>\n",
       "      <td>4.000000e+06</td>\n",
       "    </tr>\n",
       "    <tr>\n",
       "      <th>Lexus</th>\n",
       "      <td>34</td>\n",
       "      <td>5150000</td>\n",
       "      <td>5150000</td>\n",
       "      <td>5.150000e+06</td>\n",
       "    </tr>\n",
       "    <tr>\n",
       "      <th>Mercedes-Benz</th>\n",
       "      <td>52</td>\n",
       "      <td>400000</td>\n",
       "      <td>6000000</td>\n",
       "      <td>2.500077e+06</td>\n",
       "    </tr>\n",
       "    <tr>\n",
       "      <th>Audi</th>\n",
       "      <td>40</td>\n",
       "      <td>730000</td>\n",
       "      <td>6523000</td>\n",
       "      <td>2.612200e+06</td>\n",
       "    </tr>\n",
       "    <tr>\n",
       "      <th>BMW</th>\n",
       "      <td>117</td>\n",
       "      <td>480000</td>\n",
       "      <td>7200000</td>\n",
       "      <td>4.180983e+06</td>\n",
       "    </tr>\n",
       "  </tbody>\n",
       "</table>\n",
       "</div>"
      ],
      "text/plain": [
       "               count      min      max          mean\n",
       "marca                                               \n",
       "Opel               1    68000    68000  6.800000e+04\n",
       "Daewoo             3    45000   100000  7.700000e+04\n",
       "Ambassador         4    75000   200000  1.240000e+05\n",
       "Ashok              1   300000   300000  3.000000e+05\n",
       "Datsun            65   150000   590000  3.146000e+05\n",
       "Fiat              41   100000   700000  3.171951e+05\n",
       "Force              6   555000  1050000  8.875000e+05\n",
       "Nissan            81   110000  1200000  4.654074e+05\n",
       "Maruti          2353    29999  1200000  4.103856e+05\n",
       "Renault          228   200000  1265000  4.626184e+05\n",
       "Chevrolet        230    45000  1295000  2.738675e+05\n",
       "Volkswagen       185   210000  1350000  4.898919e+05\n",
       "Tata             688    45000  1700000  3.704010e+05\n",
       "Mahindra         669   120000  1800000  6.745844e+05\n",
       "MG                 3  1700000  1900000  1.783333e+06\n",
       "Kia                4   643000  1900000  1.504500e+06\n",
       "Isuzu              3  1160000  1900000  1.436667e+06\n",
       "Hyundai         1354    55000  1950000  4.706030e+05\n",
       "Mitsubishi        14   150000  1950000  8.175000e+05\n",
       "Honda            443    50000  2125000  6.075240e+05\n",
       "Volvo             32  1200000  2500000  2.419531e+06\n",
       "Ford             383    55000  3250000  5.234047e+05\n",
       "Skoda             93   100000  3251000  6.213011e+05\n",
       "Jaguar            71  2000000  3500000  2.915465e+06\n",
       "Toyota           452   135000  3500000  1.011920e+06\n",
       "Jeep              31  1325000  4100000  2.149613e+06\n",
       "Land               5  2000000  4500000  4.000000e+06\n",
       "Lexus             34  5150000  5150000  5.150000e+06\n",
       "Mercedes-Benz     52   400000  6000000  2.500077e+06\n",
       "Audi              40   730000  6523000  2.612200e+06\n",
       "BMW              117   480000  7200000  4.180983e+06"
      ]
     },
     "execution_count": 23,
     "metadata": {},
     "output_type": "execute_result"
    }
   ],
   "source": [
    "# Utilizo el descending order, para colocar primero los menos valorados para al momeno de segmentar, el 0 sea el menos valorizado\n",
    "# que el 25\n",
    "marcas_max = df_filter.groupby('marca')['selling_price'].agg(['count','min', 'max', 'mean']).sort_values('max', ascending=True)\n",
    "marcas_max"
   ]
  },
  {
   "cell_type": "markdown",
   "metadata": {},
   "source": [
    "### DataFrame modelo\n",
    ">Considerar este DataFrame como el modelo al cual el usuario suministrara los datos"
   ]
  },
  {
   "cell_type": "code",
   "execution_count": 25,
   "metadata": {},
   "outputs": [
    {
     "data": {
      "text/html": [
       "<div>\n",
       "<style scoped>\n",
       "    .dataframe tbody tr th:only-of-type {\n",
       "        vertical-align: middle;\n",
       "    }\n",
       "\n",
       "    .dataframe tbody tr th {\n",
       "        vertical-align: top;\n",
       "    }\n",
       "\n",
       "    .dataframe thead th {\n",
       "        text-align: right;\n",
       "    }\n",
       "</style>\n",
       "<table border=\"1\" class=\"dataframe\">\n",
       "  <thead>\n",
       "    <tr style=\"text-align: right;\">\n",
       "      <th></th>\n",
       "      <th>marca</th>\n",
       "      <th>model</th>\n",
       "      <th>fuel</th>\n",
       "      <th>seller_type</th>\n",
       "      <th>transmission</th>\n",
       "      <th>owner</th>\n",
       "      <th>seats</th>\n",
       "      <th>num_year</th>\n",
       "      <th>km_driven</th>\n",
       "      <th>mileage</th>\n",
       "      <th>engine</th>\n",
       "      <th>max_power</th>\n",
       "      <th>potencia</th>\n",
       "      <th>selling_price</th>\n",
       "    </tr>\n",
       "  </thead>\n",
       "  <tbody>\n",
       "    <tr>\n",
       "      <th>0</th>\n",
       "      <td>Maruti</td>\n",
       "      <td>Swift</td>\n",
       "      <td>Diesel</td>\n",
       "      <td>Individual</td>\n",
       "      <td>Manual</td>\n",
       "      <td>First Owner</td>\n",
       "      <td>5</td>\n",
       "      <td>7</td>\n",
       "      <td>145500</td>\n",
       "      <td>23.40</td>\n",
       "      <td>1248.0</td>\n",
       "      <td>74.00</td>\n",
       "      <td>19896.753473</td>\n",
       "      <td>450000</td>\n",
       "    </tr>\n",
       "    <tr>\n",
       "      <th>1</th>\n",
       "      <td>Skoda</td>\n",
       "      <td>Rapid</td>\n",
       "      <td>Diesel</td>\n",
       "      <td>Individual</td>\n",
       "      <td>Manual</td>\n",
       "      <td>Second Owner</td>\n",
       "      <td>5</td>\n",
       "      <td>7</td>\n",
       "      <td>120000</td>\n",
       "      <td>21.14</td>\n",
       "      <td>1498.0</td>\n",
       "      <td>103.52</td>\n",
       "      <td>26179.938780</td>\n",
       "      <td>370000</td>\n",
       "    </tr>\n",
       "    <tr>\n",
       "      <th>2</th>\n",
       "      <td>Honda</td>\n",
       "      <td>City</td>\n",
       "      <td>Petrol</td>\n",
       "      <td>Individual</td>\n",
       "      <td>Manual</td>\n",
       "      <td>Third Owner</td>\n",
       "      <td>5</td>\n",
       "      <td>15</td>\n",
       "      <td>140000</td>\n",
       "      <td>17.70</td>\n",
       "      <td>1497.0</td>\n",
       "      <td>78.00</td>\n",
       "      <td>17602.158838</td>\n",
       "      <td>158000</td>\n",
       "    </tr>\n",
       "    <tr>\n",
       "      <th>3</th>\n",
       "      <td>Hyundai</td>\n",
       "      <td>i20</td>\n",
       "      <td>Diesel</td>\n",
       "      <td>Individual</td>\n",
       "      <td>Manual</td>\n",
       "      <td>First Owner</td>\n",
       "      <td>5</td>\n",
       "      <td>11</td>\n",
       "      <td>127000</td>\n",
       "      <td>23.00</td>\n",
       "      <td>1396.0</td>\n",
       "      <td>90.00</td>\n",
       "      <td>25871.939500</td>\n",
       "      <td>225000</td>\n",
       "    </tr>\n",
       "    <tr>\n",
       "      <th>4</th>\n",
       "      <td>Maruti</td>\n",
       "      <td>Swift</td>\n",
       "      <td>Petrol</td>\n",
       "      <td>Individual</td>\n",
       "      <td>Manual</td>\n",
       "      <td>First Owner</td>\n",
       "      <td>5</td>\n",
       "      <td>14</td>\n",
       "      <td>120000</td>\n",
       "      <td>16.10</td>\n",
       "      <td>1298.0</td>\n",
       "      <td>88.20</td>\n",
       "      <td>26564.937880</td>\n",
       "      <td>130000</td>\n",
       "    </tr>\n",
       "  </tbody>\n",
       "</table>\n",
       "</div>"
      ],
      "text/plain": [
       "     marca  model    fuel seller_type transmission         owner  seats  \\\n",
       "0   Maruti  Swift  Diesel  Individual       Manual   First Owner      5   \n",
       "1    Skoda  Rapid  Diesel  Individual       Manual  Second Owner      5   \n",
       "2    Honda   City  Petrol  Individual       Manual   Third Owner      5   \n",
       "3  Hyundai    i20  Diesel  Individual       Manual   First Owner      5   \n",
       "4   Maruti  Swift  Petrol  Individual       Manual   First Owner      5   \n",
       "\n",
       "   num_year  km_driven  mileage  engine  max_power      potencia  \\\n",
       "0         7     145500    23.40  1248.0      74.00  19896.753473   \n",
       "1         7     120000    21.14  1498.0     103.52  26179.938780   \n",
       "2        15     140000    17.70  1497.0      78.00  17602.158838   \n",
       "3        11     127000    23.00  1396.0      90.00  25871.939500   \n",
       "4        14     120000    16.10  1298.0      88.20  26564.937880   \n",
       "\n",
       "   selling_price  \n",
       "0         450000  \n",
       "1         370000  \n",
       "2         158000  \n",
       "3         225000  \n",
       "4         130000  "
      ]
     },
     "execution_count": 25,
     "metadata": {},
     "output_type": "execute_result"
    }
   ],
   "source": [
    "df_pure = df_filter.copy()\n",
    "df_pure.head()"
   ]
  },
  {
   "cell_type": "code",
   "execution_count": 26,
   "metadata": {},
   "outputs": [
    {
     "name": "stdout",
     "output_type": "stream",
     "text": [
      "['Diesel' 'Petrol' 'LPG' 'CNG']\n",
      "['Individual' 'Dealer' 'Trustmark Dealer']\n",
      "['Manual' 'Automatic']\n",
      "['First Owner' 'Second Owner' 'Third Owner' 'Fourth & Above Owner'\n",
      " 'Test Drive Car']\n"
     ]
    }
   ],
   "source": [
    "for cat in df_pure.columns[2:6]:\n",
    "    print(df[cat].unique())"
   ]
  },
  {
   "cell_type": "markdown",
   "metadata": {},
   "source": [
    "Seguimos trabajando con el DataFrame anterior para ver como se distribuirian los datos bajo la premisa de agrupar las marcas según su estrato"
   ]
  },
  {
   "cell_type": "code",
   "execution_count": 27,
   "metadata": {
    "collapsed": true
   },
   "outputs": [
    {
     "data": {
      "text/plain": [
       "array([['Opel'],\n",
       "       ['Jeep'],\n",
       "       ['Tata']], dtype=object)"
      ]
     },
     "metadata": {},
     "output_type": "display_data"
    },
    {
     "data": {
      "text/plain": [
       "0        (5, 15]\n",
       "1       (15, 25]\n",
       "2       (15, 25]\n",
       "3       (15, 25]\n",
       "4        (5, 15]\n",
       "5       (15, 25]\n",
       "6        (5, 15]\n",
       "7        (5, 15]\n",
       "8       (15, 25]\n",
       "9       (15, 25]\n",
       "10       (5, 15]\n",
       "11       (5, 15]\n",
       "12       (5, 15]\n",
       "14       (5, 15]\n",
       "15       (5, 15]\n",
       "16       (5, 15]\n",
       "17      (15, 25]\n",
       "18       (5, 15]\n",
       "19      (15, 25]\n",
       "20       (5, 15]\n",
       "21      (15, 25]\n",
       "22       (5, 15]\n",
       "23       (5, 15]\n",
       "24       (5, 15]\n",
       "25       (5, 15]\n",
       "26       (5, 15]\n",
       "27       (5, 15]\n",
       "28       (5, 15]\n",
       "29       (5, 15]\n",
       "30       (5, 15]\n",
       "          ...   \n",
       "8097    (15, 25]\n",
       "8098     (5, 15]\n",
       "8099     (5, 15]\n",
       "8100     (5, 15]\n",
       "8101     (-1, 5]\n",
       "8102    (15, 25]\n",
       "8104    (15, 25]\n",
       "8105    (15, 25]\n",
       "8106    (15, 25]\n",
       "8107     (5, 15]\n",
       "8108     (5, 15]\n",
       "8109    (15, 25]\n",
       "8110     (5, 15]\n",
       "8111    (15, 25]\n",
       "8112    (15, 25]\n",
       "8113    (15, 25]\n",
       "8114     (5, 15]\n",
       "8115     (5, 15]\n",
       "8116     (5, 15]\n",
       "8117     (5, 15]\n",
       "8118    (15, 25]\n",
       "8119     (5, 15]\n",
       "8120    (15, 25]\n",
       "8121     (5, 15]\n",
       "8122    (15, 25]\n",
       "8123    (15, 25]\n",
       "8124    (15, 25]\n",
       "8125     (5, 15]\n",
       "8126     (5, 15]\n",
       "8127     (5, 15]\n",
       "Name: marca_label, Length: 7686, dtype: category\n",
       "Categories (4, interval[int64]): [(-1, 5] < (5, 15] < (15, 25] < (25, 31]]"
      ]
     },
     "metadata": {},
     "output_type": "display_data"
    }
   ],
   "source": [
    "categories = np.array(marcas_max.index)\n",
    "ordinal = OrdinalEncoder(categories=[categories]) # Colocar en corchetes\n",
    "ordinal.fit(df_filter[['marca']])\n",
    "df_filter['marca_label'] = ordinal.transform(df_filter[['marca']])\n",
    "display(ordinal.inverse_transform([[0], [25], [12]]) , pd.cut(df_filter['marca_label'], bins=[-1, 5, 15, 25, 31]))"
   ]
  },
  {
   "cell_type": "code",
   "execution_count": 121,
   "metadata": {},
   "outputs": [
    {
     "data": {
      "text/plain": [
       "True"
      ]
     },
     "execution_count": 121,
     "metadata": {},
     "output_type": "execute_result"
    }
   ],
   "source": [
    "\"Opel\" in categories"
   ]
  },
  {
   "cell_type": "code",
   "execution_count": 28,
   "metadata": {},
   "outputs": [
    {
     "data": {
      "text/plain": [
       "7686"
      ]
     },
     "metadata": {},
     "output_type": "display_data"
    },
    {
     "data": {
      "text/plain": [
       "7686"
      ]
     },
     "metadata": {},
     "output_type": "display_data"
    }
   ],
   "source": [
    "marcat = pd.cut(df_filter['marca_label'], bins=[-1, 5, 15, 25, 32], labels=['Cheaper', 'Afordable', 'Normal', 'Expensive'])\n",
    "display(len(df_filter[['marca']]),len(marcat))"
   ]
  },
  {
   "cell_type": "code",
   "execution_count": 29,
   "metadata": {},
   "outputs": [
    {
     "data": {
      "text/html": [
       "<div>\n",
       "<style scoped>\n",
       "    .dataframe tbody tr th:only-of-type {\n",
       "        vertical-align: middle;\n",
       "    }\n",
       "\n",
       "    .dataframe tbody tr th {\n",
       "        vertical-align: top;\n",
       "    }\n",
       "\n",
       "    .dataframe thead th {\n",
       "        text-align: right;\n",
       "    }\n",
       "</style>\n",
       "<table border=\"1\" class=\"dataframe\">\n",
       "  <thead>\n",
       "    <tr style=\"text-align: right;\">\n",
       "      <th></th>\n",
       "      <th>marca</th>\n",
       "      <th>model</th>\n",
       "      <th>fuel</th>\n",
       "      <th>seller_type</th>\n",
       "      <th>transmission</th>\n",
       "      <th>owner</th>\n",
       "      <th>seats</th>\n",
       "      <th>num_year</th>\n",
       "      <th>km_driven</th>\n",
       "      <th>mileage</th>\n",
       "      <th>engine</th>\n",
       "      <th>max_power</th>\n",
       "      <th>potencia</th>\n",
       "      <th>selling_price</th>\n",
       "      <th>marca_label</th>\n",
       "      <th>marca_group</th>\n",
       "    </tr>\n",
       "  </thead>\n",
       "  <tbody>\n",
       "    <tr>\n",
       "      <th>4372</th>\n",
       "      <td>Opel</td>\n",
       "      <td>Astra</td>\n",
       "      <td>Petrol</td>\n",
       "      <td>Individual</td>\n",
       "      <td>Manual</td>\n",
       "      <td>Third Owner</td>\n",
       "      <td>5</td>\n",
       "      <td>23</td>\n",
       "      <td>110000</td>\n",
       "      <td>13.1</td>\n",
       "      <td>1598.0</td>\n",
       "      <td>77.0</td>\n",
       "      <td>17739.526517</td>\n",
       "      <td>68000</td>\n",
       "      <td>0.0</td>\n",
       "      <td>Cheaper</td>\n",
       "    </tr>\n",
       "  </tbody>\n",
       "</table>\n",
       "</div>"
      ],
      "text/plain": [
       "     marca  model    fuel seller_type transmission        owner  seats  \\\n",
       "4372  Opel  Astra  Petrol  Individual       Manual  Third Owner      5   \n",
       "\n",
       "      num_year  km_driven  mileage  engine  max_power      potencia  \\\n",
       "4372        23     110000     13.1  1598.0       77.0  17739.526517   \n",
       "\n",
       "      selling_price  marca_label marca_group  \n",
       "4372          68000          0.0     Cheaper  "
      ]
     },
     "execution_count": 29,
     "metadata": {},
     "output_type": "execute_result"
    }
   ],
   "source": [
    "df_filter['marca_group'] = pd.cut(df_filter['marca_label'], bins=[-1, 5, 15, 25, 31], labels=['Cheaper', 'Afordable', 'Normal', 'Expensive'])\n",
    "df_filter[df_filter.marca == 'Opel']"
   ]
  },
  {
   "cell_type": "code",
   "execution_count": 30,
   "metadata": {
    "collapsed": true
   },
   "outputs": [
    {
     "data": {
      "image/png": "[encoded data removed]",
      "text/plain": [
       "<Figure size 456.75x1440 with 4 Axes>"
      ]
     },
     "metadata": {
      "needs_background": "light"
     },
     "output_type": "display_data"
    }
   ],
   "source": [
    "p = sns.relplot(data=df_filter, x='selling_price', y='potencia', row='marca_group', size='marca_label')"
   ]
  },
  {
   "cell_type": "code",
   "execution_count": 125,
   "metadata": {
    "scrolled": true
   },
   "outputs": [
    {
     "data": {
      "text/plain": [
       "<seaborn.axisgrid.PairGrid at 0x14adafc8>"
      ]
     },
     "execution_count": 125,
     "metadata": {},
     "output_type": "execute_result"
    },
    {
     "data": {
      "image/png": "[encoded data removed]",
      "text/plain": [
       "<Figure size 360x1080 with 4 Axes>"
      ]
     },
     "metadata": {},
     "output_type": "display_data"
    }
   ],
   "source": [
    "p2 = sns.PairGrid(data=df_filter, x_vars=['selling_price'], y_vars=['selling_price','marca_label','potencia'], hue='marca_group', height=5)\n",
    "p2.map_diag(sns.histplot, color='.3')\n",
    "p2.map_offdiag(sns.scatterplot)"
   ]
  },
  {
   "cell_type": "code",
   "execution_count": 126,
   "metadata": {},
   "outputs": [
    {
     "data": {
      "text/plain": [
       "<seaborn.axisgrid.FacetGrid at 0x17fdd3c8>"
      ]
     },
     "execution_count": 126,
     "metadata": {},
     "output_type": "execute_result"
    },
    {
     "data": {
      "image/png": "[encoded data removed]",
      "text/plain": [
       "<Figure size 576x576 with 1 Axes>"
      ]
     },
     "metadata": {},
     "output_type": "display_data"
    }
   ],
   "source": [
    "sns.set_style('whitegrid')\n",
    "vi = sns.catplot(data=df_filter, x='marca_group', y='selling_price', kind='boxen', height=8)\n",
    "vi.set_axis_labels('Clasificacion de Marca', 'Precio (M)')\n",
    "vi.set_titles('Distribucion de precios por Categoria de Marcas')\n",
    "vi.set(ylim=(0,7000000))"
   ]
  },
  {
   "cell_type": "markdown",
   "metadata": {},
   "source": [
    "No sé si estare haciendo algun daño al modelo de entrenamiento al dejar una diferencia tan alta entre la clase \"Expensive\", con respecto a las demas. Baso esta decision en que hay marcas de autos que son muchisimo mas caras que el resto. (BMW, Audi, Lexus, Mercedes-Benz)"
   ]
  },
  {
   "cell_type": "markdown",
   "metadata": {},
   "source": [
    "## Boceto de creacion de Pipeline's"
   ]
  },
  {
   "cell_type": "code",
   "execution_count": 31,
   "metadata": {},
   "outputs": [],
   "source": [
    "from sklearn.pipeline import make_pipeline\n",
    "from sklearn.compose import make_column_transformer, make_column_selector\n",
    "from sklearn.preprocessing import FunctionTransformer\n",
    "from sklearn.model_selection import RandomizedSearchCV, train_test_split, cross_validate, cross_val_predict\n",
    "from sklearn.svm import SVR\n",
    "from sklearn.linear_model import RidgeCV\n",
    "from sklearn.tree import ExtraTreeRegressor"
   ]
  },
  {
   "cell_type": "markdown",
   "metadata": {},
   "source": [
    "## Escenarios\n",
    "* Manejaremos los datos con la vaiable de Marca_label, para acelerar el proceso en conseguir resultado de los modelos\n",
    "* Manejaremos los datos de marca directamente, y nos forzaremos a construir un Pipeline que realice el procesado de la variable de igual manera que el escenario A"
   ]
  },
  {
   "cell_type": "code",
   "execution_count": 32,
   "metadata": {},
   "outputs": [],
   "source": [
    "df_final = df_filter.copy() #A"
   ]
  },
  {
   "cell_type": "code",
   "execution_count": 58,
   "metadata": {},
   "outputs": [],
   "source": [
    "df_marca = df_pure.copy() #B"
   ]
  },
  {
   "cell_type": "code",
   "execution_count": 34,
   "metadata": {},
   "outputs": [],
   "source": [
    "df_final.drop(labels=['marca', 'model','marca_label', 'potencia', 'engine',], axis='columns', inplace=True) #A"
   ]
  },
  {
   "cell_type": "code",
   "execution_count": 59,
   "metadata": {},
   "outputs": [],
   "source": [
    "df_marca.drop(labels=['model', 'potencia', 'engine'], axis='columns', inplace=True) #B"
   ]
  },
  {
   "cell_type": "code",
   "execution_count": 36,
   "metadata": {},
   "outputs": [],
   "source": [
    "#A\n",
    "X_A = df_final.drop(labels='selling_price', axis=1)\n",
    "y_A= df_final.selling_price"
   ]
  },
  {
   "cell_type": "code",
   "execution_count": 60,
   "metadata": {},
   "outputs": [],
   "source": [
    "#B\n",
    "X_B = df_marca.drop('selling_price', axis=1)\n",
    "y_B = df_marca['selling_price']"
   ]
  },
  {
   "cell_type": "code",
   "execution_count": 38,
   "metadata": {},
   "outputs": [],
   "source": [
    "# Para evitar que la distribucion de las marcas esten desproporcianada, dado que es importante la desproporcion entre la marca\n",
    "# Expensive con respecto a las demas\n",
    "X_train, X_test, y_train, y_test = train_test_split(X_A, y_A, test_size=0.2, stratify=df_final[['marca_group']]) #A"
   ]
  },
  {
   "cell_type": "markdown",
   "metadata": {},
   "source": [
    "Dejare la misma estratificacion del model A para asegurar que tendre la misma cantidad de labels en ambas muestras"
   ]
  },
  {
   "cell_type": "code",
   "execution_count": 61,
   "metadata": {},
   "outputs": [],
   "source": [
    "X_train_B, X_test_B, y_train_B, y_test_B = train_test_split(X_B, y_B, test_size=0.2, stratify=df_final[['marca_group']]) #B"
   ]
  },
  {
   "cell_type": "markdown",
   "metadata": {},
   "source": [
    "## Comparacion de las muestras de ambos escenarios"
   ]
  },
  {
   "cell_type": "code",
   "execution_count": 40,
   "metadata": {},
   "outputs": [
    {
     "data": {
      "text/html": [
       "<div>\n",
       "<style scoped>\n",
       "    .dataframe tbody tr th:only-of-type {\n",
       "        vertical-align: middle;\n",
       "    }\n",
       "\n",
       "    .dataframe tbody tr th {\n",
       "        vertical-align: top;\n",
       "    }\n",
       "\n",
       "    .dataframe thead th {\n",
       "        text-align: right;\n",
       "    }\n",
       "</style>\n",
       "<table border=\"1\" class=\"dataframe\">\n",
       "  <thead>\n",
       "    <tr style=\"text-align: right;\">\n",
       "      <th></th>\n",
       "      <th>fuel</th>\n",
       "      <th>seller_type</th>\n",
       "      <th>transmission</th>\n",
       "      <th>owner</th>\n",
       "      <th>seats</th>\n",
       "      <th>num_year</th>\n",
       "      <th>km_driven</th>\n",
       "      <th>mileage</th>\n",
       "      <th>max_power</th>\n",
       "      <th>marca_group</th>\n",
       "    </tr>\n",
       "  </thead>\n",
       "  <tbody>\n",
       "    <tr>\n",
       "      <th>2134</th>\n",
       "      <td>Petrol</td>\n",
       "      <td>Individual</td>\n",
       "      <td>Automatic</td>\n",
       "      <td>Second Owner</td>\n",
       "      <td>5</td>\n",
       "      <td>16</td>\n",
       "      <td>80000</td>\n",
       "      <td>9.00</td>\n",
       "      <td>218.0</td>\n",
       "      <td>Normal</td>\n",
       "    </tr>\n",
       "    <tr>\n",
       "      <th>1653</th>\n",
       "      <td>Petrol</td>\n",
       "      <td>Individual</td>\n",
       "      <td>Manual</td>\n",
       "      <td>Second Owner</td>\n",
       "      <td>5</td>\n",
       "      <td>12</td>\n",
       "      <td>90000</td>\n",
       "      <td>20.36</td>\n",
       "      <td>78.9</td>\n",
       "      <td>Normal</td>\n",
       "    </tr>\n",
       "    <tr>\n",
       "      <th>3080</th>\n",
       "      <td>Diesel</td>\n",
       "      <td>Dealer</td>\n",
       "      <td>Automatic</td>\n",
       "      <td>First Owner</td>\n",
       "      <td>5</td>\n",
       "      <td>4</td>\n",
       "      <td>45000</td>\n",
       "      <td>19.33</td>\n",
       "      <td>177.0</td>\n",
       "      <td>Normal</td>\n",
       "    </tr>\n",
       "    <tr>\n",
       "      <th>1049</th>\n",
       "      <td>Petrol</td>\n",
       "      <td>Individual</td>\n",
       "      <td>Manual</td>\n",
       "      <td>First Owner</td>\n",
       "      <td>5</td>\n",
       "      <td>5</td>\n",
       "      <td>22000</td>\n",
       "      <td>25.17</td>\n",
       "      <td>53.3</td>\n",
       "      <td>Afordable</td>\n",
       "    </tr>\n",
       "    <tr>\n",
       "      <th>439</th>\n",
       "      <td>Diesel</td>\n",
       "      <td>Individual</td>\n",
       "      <td>Manual</td>\n",
       "      <td>Second Owner</td>\n",
       "      <td>5</td>\n",
       "      <td>6</td>\n",
       "      <td>110000</td>\n",
       "      <td>20.14</td>\n",
       "      <td>88.8</td>\n",
       "      <td>Afordable</td>\n",
       "    </tr>\n",
       "  </tbody>\n",
       "</table>\n",
       "</div>"
      ],
      "text/plain": [
       "        fuel seller_type transmission         owner  seats  num_year  \\\n",
       "2134  Petrol  Individual    Automatic  Second Owner      5        16   \n",
       "1653  Petrol  Individual       Manual  Second Owner      5        12   \n",
       "3080  Diesel      Dealer    Automatic   First Owner      5         4   \n",
       "1049  Petrol  Individual       Manual   First Owner      5         5   \n",
       "439   Diesel  Individual       Manual  Second Owner      5         6   \n",
       "\n",
       "      km_driven  mileage  max_power marca_group  \n",
       "2134      80000     9.00      218.0      Normal  \n",
       "1653      90000    20.36       78.9      Normal  \n",
       "3080      45000    19.33      177.0      Normal  \n",
       "1049      22000    25.17       53.3   Afordable  \n",
       "439      110000    20.14       88.8   Afordable  "
      ]
     },
     "metadata": {},
     "output_type": "display_data"
    },
    {
     "data": {
      "text/plain": [
       "2134     285000\n",
       "1653     170000\n",
       "3080    3200000\n",
       "1049     250000\n",
       "439      520000\n",
       "Name: selling_price, dtype: int64"
      ]
     },
     "metadata": {},
     "output_type": "display_data"
    },
    {
     "data": {
      "text/plain": [
       "(6148, 10)"
      ]
     },
     "metadata": {},
     "output_type": "display_data"
    },
    {
     "data": {
      "text/plain": [
       "(1538, 10)"
      ]
     },
     "metadata": {},
     "output_type": "display_data"
    }
   ],
   "source": [
    "display(X_train.head(), y_train.head(), X_train.shape, X_test.shape)"
   ]
  },
  {
   "cell_type": "code",
   "execution_count": 41,
   "metadata": {},
   "outputs": [
    {
     "data": {
      "text/html": [
       "<div>\n",
       "<style scoped>\n",
       "    .dataframe tbody tr th:only-of-type {\n",
       "        vertical-align: middle;\n",
       "    }\n",
       "\n",
       "    .dataframe tbody tr th {\n",
       "        vertical-align: top;\n",
       "    }\n",
       "\n",
       "    .dataframe thead th {\n",
       "        text-align: right;\n",
       "    }\n",
       "</style>\n",
       "<table border=\"1\" class=\"dataframe\">\n",
       "  <thead>\n",
       "    <tr style=\"text-align: right;\">\n",
       "      <th></th>\n",
       "      <th>marca</th>\n",
       "      <th>fuel</th>\n",
       "      <th>seller_type</th>\n",
       "      <th>transmission</th>\n",
       "      <th>owner</th>\n",
       "      <th>seats</th>\n",
       "      <th>num_year</th>\n",
       "      <th>km_driven</th>\n",
       "      <th>mileage</th>\n",
       "      <th>max_power</th>\n",
       "    </tr>\n",
       "  </thead>\n",
       "  <tbody>\n",
       "    <tr>\n",
       "      <th>5154</th>\n",
       "      <td>Volkswagen</td>\n",
       "      <td>Diesel</td>\n",
       "      <td>Individual</td>\n",
       "      <td>Manual</td>\n",
       "      <td>First Owner</td>\n",
       "      <td>5</td>\n",
       "      <td>3</td>\n",
       "      <td>18000</td>\n",
       "      <td>21.66</td>\n",
       "      <td>108.62</td>\n",
       "    </tr>\n",
       "    <tr>\n",
       "      <th>3646</th>\n",
       "      <td>Mahindra</td>\n",
       "      <td>Diesel</td>\n",
       "      <td>Individual</td>\n",
       "      <td>Manual</td>\n",
       "      <td>First Owner</td>\n",
       "      <td>9</td>\n",
       "      <td>6</td>\n",
       "      <td>90000</td>\n",
       "      <td>15.40</td>\n",
       "      <td>75.00</td>\n",
       "    </tr>\n",
       "    <tr>\n",
       "      <th>7861</th>\n",
       "      <td>Tata</td>\n",
       "      <td>Diesel</td>\n",
       "      <td>Individual</td>\n",
       "      <td>Manual</td>\n",
       "      <td>First Owner</td>\n",
       "      <td>7</td>\n",
       "      <td>6</td>\n",
       "      <td>110000</td>\n",
       "      <td>14.10</td>\n",
       "      <td>147.94</td>\n",
       "    </tr>\n",
       "    <tr>\n",
       "      <th>3715</th>\n",
       "      <td>Maruti</td>\n",
       "      <td>Diesel</td>\n",
       "      <td>Individual</td>\n",
       "      <td>Manual</td>\n",
       "      <td>Second Owner</td>\n",
       "      <td>5</td>\n",
       "      <td>12</td>\n",
       "      <td>100000</td>\n",
       "      <td>17.80</td>\n",
       "      <td>75.00</td>\n",
       "    </tr>\n",
       "    <tr>\n",
       "      <th>6487</th>\n",
       "      <td>Chevrolet</td>\n",
       "      <td>Diesel</td>\n",
       "      <td>Individual</td>\n",
       "      <td>Manual</td>\n",
       "      <td>First Owner</td>\n",
       "      <td>5</td>\n",
       "      <td>8</td>\n",
       "      <td>80000</td>\n",
       "      <td>22.10</td>\n",
       "      <td>76.90</td>\n",
       "    </tr>\n",
       "  </tbody>\n",
       "</table>\n",
       "</div>"
      ],
      "text/plain": [
       "           marca    fuel seller_type transmission         owner  seats  \\\n",
       "5154  Volkswagen  Diesel  Individual       Manual   First Owner      5   \n",
       "3646    Mahindra  Diesel  Individual       Manual   First Owner      9   \n",
       "7861        Tata  Diesel  Individual       Manual   First Owner      7   \n",
       "3715      Maruti  Diesel  Individual       Manual  Second Owner      5   \n",
       "6487   Chevrolet  Diesel  Individual       Manual   First Owner      5   \n",
       "\n",
       "      num_year  km_driven  mileage  max_power  \n",
       "5154         3      18000    21.66     108.62  \n",
       "3646         6      90000    15.40      75.00  \n",
       "7861         6     110000    14.10     147.94  \n",
       "3715        12     100000    17.80      75.00  \n",
       "6487         8      80000    22.10      76.90  "
      ]
     },
     "metadata": {},
     "output_type": "display_data"
    },
    {
     "data": {
      "text/plain": [
       "5154    560000\n",
       "3646    720000\n",
       "7861    503000\n",
       "3715    221000\n",
       "6487    200000\n",
       "Name: selling_price, dtype: int64"
      ]
     },
     "metadata": {},
     "output_type": "display_data"
    },
    {
     "data": {
      "text/plain": [
       "(6148, 10)"
      ]
     },
     "metadata": {},
     "output_type": "display_data"
    },
    {
     "data": {
      "text/plain": [
       "(1538, 10)"
      ]
     },
     "metadata": {},
     "output_type": "display_data"
    }
   ],
   "source": [
    "display(X_train_B.head(), y_train_B.head(), X_train_B.shape, X_test_B.shape)"
   ]
  },
  {
   "cell_type": "code",
   "execution_count": 51,
   "metadata": {},
   "outputs": [
    {
     "data": {
      "text/plain": [
       "Afordable    0.578584\n",
       "Normal       0.374187\n",
       "Expensive    0.032266\n",
       "Cheaper      0.014962\n",
       "Name: marca_group, dtype: float64"
      ]
     },
     "metadata": {},
     "output_type": "display_data"
    },
    {
     "data": {
      "text/plain": [
       "Afordable    0.578562\n",
       "Normal       0.374268\n",
       "Expensive    0.032206\n",
       "Cheaper      0.014964\n",
       "Name: marca_group, dtype: float64"
      ]
     },
     "metadata": {},
     "output_type": "display_data"
    }
   ],
   "source": [
    "display(df_filter.marca_group.value_counts()/df_filter.shape[0], X_train.marca_group.value_counts()/X_train.shape[0])"
   ]
  },
  {
   "cell_type": "markdown",
   "metadata": {},
   "source": [
    "## Comenzaremos con el escenario B"
   ]
  },
  {
   "cell_type": "code",
   "execution_count": 191,
   "metadata": {},
   "outputs": [],
   "source": [
    "segment_marca= FunctionTransformer(lambda x: pd.DataFrame((pd.cut(list(map(int,x)), bins=[0, 5, 15, 25, 31], include_lowest=True, labels=[0, 1, 2, 3])), columns=['marca'] ))"
   ]
  },
  {
   "cell_type": "markdown",
   "metadata": {},
   "source": [
    "El valor de lamda tiene que estar encerrado bajo esa estructura, dado que el resultado del OrdinalEncoder es una lista de array, asi como se muestra a continuacion:"
   ]
  },
  {
   "cell_type": "code",
   "execution_count": 192,
   "metadata": {},
   "outputs": [
    {
     "data": {
      "text/plain": [
       "array([[ 8.],\n",
       "       [22.],\n",
       "       [19.],\n",
       "       ...,\n",
       "       [ 8.],\n",
       "       [12.],\n",
       "       [12.]])"
      ]
     },
     "execution_count": 192,
     "metadata": {},
     "output_type": "execute_result"
    }
   ],
   "source": [
    "ordinal.transform(df_marca[['marca']])"
   ]
  },
  {
   "cell_type": "code",
   "execution_count": 193,
   "metadata": {},
   "outputs": [
    {
     "data": {
      "text/html": [
       "<div>\n",
       "<style scoped>\n",
       "    .dataframe tbody tr th:only-of-type {\n",
       "        vertical-align: middle;\n",
       "    }\n",
       "\n",
       "    .dataframe tbody tr th {\n",
       "        vertical-align: top;\n",
       "    }\n",
       "\n",
       "    .dataframe thead th {\n",
       "        text-align: right;\n",
       "    }\n",
       "</style>\n",
       "<table border=\"1\" class=\"dataframe\">\n",
       "  <thead>\n",
       "    <tr style=\"text-align: right;\">\n",
       "      <th></th>\n",
       "      <th>marca</th>\n",
       "    </tr>\n",
       "  </thead>\n",
       "  <tbody>\n",
       "    <tr>\n",
       "      <th>0</th>\n",
       "      <td>3</td>\n",
       "    </tr>\n",
       "    <tr>\n",
       "      <th>1</th>\n",
       "      <td>3</td>\n",
       "    </tr>\n",
       "    <tr>\n",
       "      <th>2</th>\n",
       "      <td>3</td>\n",
       "    </tr>\n",
       "    <tr>\n",
       "      <th>3</th>\n",
       "      <td>0</td>\n",
       "    </tr>\n",
       "  </tbody>\n",
       "</table>\n",
       "</div>"
      ],
      "text/plain": [
       "   marca\n",
       "0      3\n",
       "1      3\n",
       "2      3\n",
       "3      0"
      ]
     },
     "execution_count": 193,
     "metadata": {},
     "output_type": "execute_result"
    }
   ],
   "source": [
    "segment_marca.fit_transform([26, 27, 28, 0])"
   ]
  },
  {
   "cell_type": "code",
   "execution_count": 194,
   "metadata": {
    "scrolled": true
   },
   "outputs": [],
   "source": [
    "categories = np.array(marcas_max.index)\n",
    "marca_prep = make_pipeline(OrdinalEncoder(categories=[categories]), segment_marca)"
   ]
  },
  {
   "cell_type": "code",
   "execution_count": 195,
   "metadata": {
    "collapsed": true
   },
   "outputs": [
    {
     "data": {
      "text/html": [
       "<div>\n",
       "<style scoped>\n",
       "    .dataframe tbody tr th:only-of-type {\n",
       "        vertical-align: middle;\n",
       "    }\n",
       "\n",
       "    .dataframe tbody tr th {\n",
       "        vertical-align: top;\n",
       "    }\n",
       "\n",
       "    .dataframe thead th {\n",
       "        text-align: right;\n",
       "    }\n",
       "</style>\n",
       "<table border=\"1\" class=\"dataframe\">\n",
       "  <thead>\n",
       "    <tr style=\"text-align: right;\">\n",
       "      <th></th>\n",
       "      <th>marca</th>\n",
       "    </tr>\n",
       "  </thead>\n",
       "  <tbody>\n",
       "    <tr>\n",
       "      <th>0</th>\n",
       "      <td>1</td>\n",
       "    </tr>\n",
       "    <tr>\n",
       "      <th>1</th>\n",
       "      <td>2</td>\n",
       "    </tr>\n",
       "    <tr>\n",
       "      <th>2</th>\n",
       "      <td>2</td>\n",
       "    </tr>\n",
       "    <tr>\n",
       "      <th>3</th>\n",
       "      <td>2</td>\n",
       "    </tr>\n",
       "    <tr>\n",
       "      <th>4</th>\n",
       "      <td>1</td>\n",
       "    </tr>\n",
       "    <tr>\n",
       "      <th>5</th>\n",
       "      <td>2</td>\n",
       "    </tr>\n",
       "    <tr>\n",
       "      <th>6</th>\n",
       "      <td>1</td>\n",
       "    </tr>\n",
       "    <tr>\n",
       "      <th>7</th>\n",
       "      <td>1</td>\n",
       "    </tr>\n",
       "    <tr>\n",
       "      <th>8</th>\n",
       "      <td>2</td>\n",
       "    </tr>\n",
       "    <tr>\n",
       "      <th>9</th>\n",
       "      <td>2</td>\n",
       "    </tr>\n",
       "    <tr>\n",
       "      <th>10</th>\n",
       "      <td>1</td>\n",
       "    </tr>\n",
       "    <tr>\n",
       "      <th>11</th>\n",
       "      <td>1</td>\n",
       "    </tr>\n",
       "    <tr>\n",
       "      <th>12</th>\n",
       "      <td>1</td>\n",
       "    </tr>\n",
       "    <tr>\n",
       "      <th>13</th>\n",
       "      <td>1</td>\n",
       "    </tr>\n",
       "    <tr>\n",
       "      <th>14</th>\n",
       "      <td>1</td>\n",
       "    </tr>\n",
       "    <tr>\n",
       "      <th>15</th>\n",
       "      <td>1</td>\n",
       "    </tr>\n",
       "    <tr>\n",
       "      <th>16</th>\n",
       "      <td>2</td>\n",
       "    </tr>\n",
       "    <tr>\n",
       "      <th>17</th>\n",
       "      <td>1</td>\n",
       "    </tr>\n",
       "    <tr>\n",
       "      <th>18</th>\n",
       "      <td>2</td>\n",
       "    </tr>\n",
       "    <tr>\n",
       "      <th>19</th>\n",
       "      <td>1</td>\n",
       "    </tr>\n",
       "    <tr>\n",
       "      <th>20</th>\n",
       "      <td>2</td>\n",
       "    </tr>\n",
       "    <tr>\n",
       "      <th>21</th>\n",
       "      <td>1</td>\n",
       "    </tr>\n",
       "    <tr>\n",
       "      <th>22</th>\n",
       "      <td>1</td>\n",
       "    </tr>\n",
       "    <tr>\n",
       "      <th>23</th>\n",
       "      <td>1</td>\n",
       "    </tr>\n",
       "    <tr>\n",
       "      <th>24</th>\n",
       "      <td>1</td>\n",
       "    </tr>\n",
       "    <tr>\n",
       "      <th>25</th>\n",
       "      <td>1</td>\n",
       "    </tr>\n",
       "    <tr>\n",
       "      <th>26</th>\n",
       "      <td>1</td>\n",
       "    </tr>\n",
       "    <tr>\n",
       "      <th>27</th>\n",
       "      <td>1</td>\n",
       "    </tr>\n",
       "    <tr>\n",
       "      <th>28</th>\n",
       "      <td>1</td>\n",
       "    </tr>\n",
       "    <tr>\n",
       "      <th>29</th>\n",
       "      <td>1</td>\n",
       "    </tr>\n",
       "    <tr>\n",
       "      <th>...</th>\n",
       "      <td>...</td>\n",
       "    </tr>\n",
       "    <tr>\n",
       "      <th>7656</th>\n",
       "      <td>2</td>\n",
       "    </tr>\n",
       "    <tr>\n",
       "      <th>7657</th>\n",
       "      <td>1</td>\n",
       "    </tr>\n",
       "    <tr>\n",
       "      <th>7658</th>\n",
       "      <td>1</td>\n",
       "    </tr>\n",
       "    <tr>\n",
       "      <th>7659</th>\n",
       "      <td>1</td>\n",
       "    </tr>\n",
       "    <tr>\n",
       "      <th>7660</th>\n",
       "      <td>0</td>\n",
       "    </tr>\n",
       "    <tr>\n",
       "      <th>7661</th>\n",
       "      <td>2</td>\n",
       "    </tr>\n",
       "    <tr>\n",
       "      <th>7662</th>\n",
       "      <td>2</td>\n",
       "    </tr>\n",
       "    <tr>\n",
       "      <th>7663</th>\n",
       "      <td>2</td>\n",
       "    </tr>\n",
       "    <tr>\n",
       "      <th>7664</th>\n",
       "      <td>2</td>\n",
       "    </tr>\n",
       "    <tr>\n",
       "      <th>7665</th>\n",
       "      <td>1</td>\n",
       "    </tr>\n",
       "    <tr>\n",
       "      <th>7666</th>\n",
       "      <td>1</td>\n",
       "    </tr>\n",
       "    <tr>\n",
       "      <th>7667</th>\n",
       "      <td>2</td>\n",
       "    </tr>\n",
       "    <tr>\n",
       "      <th>7668</th>\n",
       "      <td>1</td>\n",
       "    </tr>\n",
       "    <tr>\n",
       "      <th>7669</th>\n",
       "      <td>2</td>\n",
       "    </tr>\n",
       "    <tr>\n",
       "      <th>7670</th>\n",
       "      <td>2</td>\n",
       "    </tr>\n",
       "    <tr>\n",
       "      <th>7671</th>\n",
       "      <td>2</td>\n",
       "    </tr>\n",
       "    <tr>\n",
       "      <th>7672</th>\n",
       "      <td>1</td>\n",
       "    </tr>\n",
       "    <tr>\n",
       "      <th>7673</th>\n",
       "      <td>1</td>\n",
       "    </tr>\n",
       "    <tr>\n",
       "      <th>7674</th>\n",
       "      <td>1</td>\n",
       "    </tr>\n",
       "    <tr>\n",
       "      <th>7675</th>\n",
       "      <td>1</td>\n",
       "    </tr>\n",
       "    <tr>\n",
       "      <th>7676</th>\n",
       "      <td>2</td>\n",
       "    </tr>\n",
       "    <tr>\n",
       "      <th>7677</th>\n",
       "      <td>1</td>\n",
       "    </tr>\n",
       "    <tr>\n",
       "      <th>7678</th>\n",
       "      <td>2</td>\n",
       "    </tr>\n",
       "    <tr>\n",
       "      <th>7679</th>\n",
       "      <td>1</td>\n",
       "    </tr>\n",
       "    <tr>\n",
       "      <th>7680</th>\n",
       "      <td>2</td>\n",
       "    </tr>\n",
       "    <tr>\n",
       "      <th>7681</th>\n",
       "      <td>2</td>\n",
       "    </tr>\n",
       "    <tr>\n",
       "      <th>7682</th>\n",
       "      <td>2</td>\n",
       "    </tr>\n",
       "    <tr>\n",
       "      <th>7683</th>\n",
       "      <td>1</td>\n",
       "    </tr>\n",
       "    <tr>\n",
       "      <th>7684</th>\n",
       "      <td>1</td>\n",
       "    </tr>\n",
       "    <tr>\n",
       "      <th>7685</th>\n",
       "      <td>1</td>\n",
       "    </tr>\n",
       "  </tbody>\n",
       "</table>\n",
       "<p>7686 rows × 1 columns</p>\n",
       "</div>"
      ],
      "text/plain": [
       "      marca\n",
       "0         1\n",
       "1         2\n",
       "2         2\n",
       "3         2\n",
       "4         1\n",
       "5         2\n",
       "6         1\n",
       "7         1\n",
       "8         2\n",
       "9         2\n",
       "10        1\n",
       "11        1\n",
       "12        1\n",
       "13        1\n",
       "14        1\n",
       "15        1\n",
       "16        2\n",
       "17        1\n",
       "18        2\n",
       "19        1\n",
       "20        2\n",
       "21        1\n",
       "22        1\n",
       "23        1\n",
       "24        1\n",
       "25        1\n",
       "26        1\n",
       "27        1\n",
       "28        1\n",
       "29        1\n",
       "...     ...\n",
       "7656      2\n",
       "7657      1\n",
       "7658      1\n",
       "7659      1\n",
       "7660      0\n",
       "7661      2\n",
       "7662      2\n",
       "7663      2\n",
       "7664      2\n",
       "7665      1\n",
       "7666      1\n",
       "7667      2\n",
       "7668      1\n",
       "7669      2\n",
       "7670      2\n",
       "7671      2\n",
       "7672      1\n",
       "7673      1\n",
       "7674      1\n",
       "7675      1\n",
       "7676      2\n",
       "7677      1\n",
       "7678      2\n",
       "7679      1\n",
       "7680      2\n",
       "7681      2\n",
       "7682      2\n",
       "7683      1\n",
       "7684      1\n",
       "7685      1\n",
       "\n",
       "[7686 rows x 1 columns]"
      ]
     },
     "execution_count": 195,
     "metadata": {},
     "output_type": "execute_result"
    }
   ],
   "source": [
    "marca_prep.fit_transform(df_marca[['marca']])"
   ]
  },
  {
   "cell_type": "code",
   "execution_count": 196,
   "metadata": {},
   "outputs": [],
   "source": [
    "marca_trans = make_column_transformer((marca_prep, ['marca']),\n",
    "                                      (OneHotEncoder(drop='first'), ['fuel', 'seller_type', 'transmission', 'owner']),\n",
    "                                     remainder='passthrough')\n",
    "prueba = marca_trans.fit_transform(X_train_B)"
   ]
  },
  {
   "cell_type": "code",
   "execution_count": 197,
   "metadata": {},
   "outputs": [
    {
     "data": {
      "text/plain": [
       "array([[1.000e+00, 1.000e+00, 0.000e+00, ..., 1.300e+05, 1.745e+01,\n",
       "        1.000e+02],\n",
       "       [1.000e+00, 0.000e+00, 0.000e+00, ..., 7.720e+03, 2.000e+01,\n",
       "        7.100e+01],\n",
       "       [2.000e+00, 0.000e+00, 0.000e+00, ..., 5.000e+03, 1.719e+01,\n",
       "        8.186e+01],\n",
       "       ...,\n",
       "       [1.000e+00, 1.000e+00, 0.000e+00, ..., 7.000e+04, 2.520e+01,\n",
       "        7.400e+01],\n",
       "       [3.000e+00, 1.000e+00, 0.000e+00, ..., 7.500e+03, 1.678e+01,\n",
       "        1.900e+02],\n",
       "       [2.000e+00, 0.000e+00, 0.000e+00, ..., 5.000e+03, 1.890e+01,\n",
       "        8.186e+01]])"
      ]
     },
     "execution_count": 197,
     "metadata": {},
     "output_type": "execute_result"
    }
   ],
   "source": [
    "prueba"
   ]
  },
  {
   "cell_type": "code",
   "execution_count": 198,
   "metadata": {},
   "outputs": [
    {
     "data": {
      "text/plain": [
       "ExtraTreeRegressor(ccp_alpha=0.0, criterion='mse', max_depth=None,\n",
       "                   max_features='auto', max_leaf_nodes=None,\n",
       "                   min_impurity_decrease=0.0, min_impurity_split=None,\n",
       "                   min_samples_leaf=1, min_samples_split=2,\n",
       "                   min_weight_fraction_leaf=0.0, random_state=None,\n",
       "                   splitter='random')"
      ]
     },
     "execution_count": 198,
     "metadata": {},
     "output_type": "execute_result"
    }
   ],
   "source": [
    "ETR = ExtraTreeRegressor()\n",
    "ETR.fit(prueba, y_train_B)"
   ]
  },
  {
   "cell_type": "code",
   "execution_count": 78,
   "metadata": {},
   "outputs": [
    {
     "data": {
      "text/html": [
       "<div>\n",
       "<style scoped>\n",
       "    .dataframe tbody tr th:only-of-type {\n",
       "        vertical-align: middle;\n",
       "    }\n",
       "\n",
       "    .dataframe tbody tr th {\n",
       "        vertical-align: top;\n",
       "    }\n",
       "\n",
       "    .dataframe thead th {\n",
       "        text-align: right;\n",
       "    }\n",
       "</style>\n",
       "<table border=\"1\" class=\"dataframe\">\n",
       "  <thead>\n",
       "    <tr style=\"text-align: right;\">\n",
       "      <th></th>\n",
       "      <th>marca</th>\n",
       "      <th>fuel</th>\n",
       "      <th>seller_type</th>\n",
       "      <th>transmission</th>\n",
       "      <th>owner</th>\n",
       "      <th>seats</th>\n",
       "      <th>num_year</th>\n",
       "      <th>km_driven</th>\n",
       "      <th>mileage</th>\n",
       "      <th>max_power</th>\n",
       "    </tr>\n",
       "  </thead>\n",
       "  <tbody>\n",
       "    <tr>\n",
       "      <th>3960</th>\n",
       "      <td>Mahindra</td>\n",
       "      <td>Diesel</td>\n",
       "      <td>Individual</td>\n",
       "      <td>Manual</td>\n",
       "      <td>First Owner</td>\n",
       "      <td>7</td>\n",
       "      <td>5</td>\n",
       "      <td>130000</td>\n",
       "      <td>17.45</td>\n",
       "      <td>100.00</td>\n",
       "    </tr>\n",
       "    <tr>\n",
       "      <th>4718</th>\n",
       "      <td>Renault</td>\n",
       "      <td>Petrol</td>\n",
       "      <td>Individual</td>\n",
       "      <td>Manual</td>\n",
       "      <td>First Owner</td>\n",
       "      <td>7</td>\n",
       "      <td>2</td>\n",
       "      <td>7720</td>\n",
       "      <td>20.00</td>\n",
       "      <td>71.00</td>\n",
       "    </tr>\n",
       "    <tr>\n",
       "      <th>1736</th>\n",
       "      <td>Hyundai</td>\n",
       "      <td>Petrol</td>\n",
       "      <td>Individual</td>\n",
       "      <td>Manual</td>\n",
       "      <td>First Owner</td>\n",
       "      <td>5</td>\n",
       "      <td>2</td>\n",
       "      <td>5000</td>\n",
       "      <td>17.19</td>\n",
       "      <td>81.86</td>\n",
       "    </tr>\n",
       "    <tr>\n",
       "      <th>632</th>\n",
       "      <td>Mahindra</td>\n",
       "      <td>Diesel</td>\n",
       "      <td>Individual</td>\n",
       "      <td>Manual</td>\n",
       "      <td>First Owner</td>\n",
       "      <td>7</td>\n",
       "      <td>5</td>\n",
       "      <td>60000</td>\n",
       "      <td>15.40</td>\n",
       "      <td>120.00</td>\n",
       "    </tr>\n",
       "    <tr>\n",
       "      <th>5938</th>\n",
       "      <td>Skoda</td>\n",
       "      <td>Diesel</td>\n",
       "      <td>Individual</td>\n",
       "      <td>Manual</td>\n",
       "      <td>Second Owner</td>\n",
       "      <td>5</td>\n",
       "      <td>10</td>\n",
       "      <td>140000</td>\n",
       "      <td>20.00</td>\n",
       "      <td>108.50</td>\n",
       "    </tr>\n",
       "  </tbody>\n",
       "</table>\n",
       "</div>"
      ],
      "text/plain": [
       "         marca    fuel seller_type transmission         owner  seats  \\\n",
       "3960  Mahindra  Diesel  Individual       Manual   First Owner      7   \n",
       "4718   Renault  Petrol  Individual       Manual   First Owner      7   \n",
       "1736   Hyundai  Petrol  Individual       Manual   First Owner      5   \n",
       "632   Mahindra  Diesel  Individual       Manual   First Owner      7   \n",
       "5938     Skoda  Diesel  Individual       Manual  Second Owner      5   \n",
       "\n",
       "      num_year  km_driven  mileage  max_power  \n",
       "3960         5     130000    17.45     100.00  \n",
       "4718         2       7720    20.00      71.00  \n",
       "1736         2       5000    17.19      81.86  \n",
       "632          5      60000    15.40     120.00  \n",
       "5938        10     140000    20.00     108.50  "
      ]
     },
     "execution_count": 78,
     "metadata": {},
     "output_type": "execute_result"
    }
   ],
   "source": [
    "X_train_B.head()"
   ]
  },
  {
   "cell_type": "code",
   "execution_count": 199,
   "metadata": {
    "scrolled": true
   },
   "outputs": [],
   "source": [
    "clf_B = make_pipeline(marca_trans, ExtraTreeRegressor())"
   ]
  },
  {
   "cell_type": "code",
   "execution_count": 203,
   "metadata": {},
   "outputs": [
    {
     "data": {
      "text/plain": [
       "Pipeline(memory=None,\n",
       "         steps=[('columntransformer',\n",
       "                 ColumnTransformer(n_jobs=None, remainder='passthrough',\n",
       "                                   sparse_threshold=0.3,\n",
       "                                   transformer_weights=None,\n",
       "                                   transformers=[('pipeline',\n",
       "                                                  Pipeline(memory=None,\n",
       "                                                           steps=[('ordinalencoder',\n",
       "                                                                   OrdinalEncoder(categories=[array(['Opel', 'Daewoo', 'Ambassador', 'Ashok', 'Datsun', 'Fiat', 'Force',\n",
       "       'Nissan', 'Maruti', 'Renault', 'Chevr...\n",
       "                                                  ['fuel', 'seller_type',\n",
       "                                                   'transmission', 'owner'])],\n",
       "                                   verbose=False)),\n",
       "                ('extratreeregressor',\n",
       "                 ExtraTreeRegressor(ccp_alpha=0.0, criterion='mse',\n",
       "                                    max_depth=None, max_features='auto',\n",
       "                                    max_leaf_nodes=None,\n",
       "                                    min_impurity_decrease=0.0,\n",
       "                                    min_impurity_split=None, min_samples_leaf=1,\n",
       "                                    min_samples_split=2,\n",
       "                                    min_weight_fraction_leaf=0.0,\n",
       "                                    random_state=None, splitter='random'))],\n",
       "         verbose=False)"
      ]
     },
     "execution_count": 203,
     "metadata": {},
     "output_type": "execute_result"
    }
   ],
   "source": [
    "clf_B.fit(X_train_B, y_train_B)"
   ]
  },
  {
   "cell_type": "code",
   "execution_count": 302,
   "metadata": {},
   "outputs": [
    {
     "data": {
      "text/plain": [
       "ColumnTransformer(remainder='passthrough',\n",
       "                  transformers=[('pipeline',\n",
       "                                 Pipeline(steps=[('ordinalencoder',\n",
       "                                                  OrdinalEncoder(categories=[array(['Opel', 'Daewoo', 'Ambassador', 'Ashok', 'Datsun', 'Fiat', 'Force',\n",
       "       'Nissan', 'Maruti', 'Renault', 'Chevrolet', 'Volkswagen', 'Tata',\n",
       "       'Mahindra', 'MG', 'Kia', 'Isuzu', 'Hyundai', 'Mitsubishi', 'Honda',\n",
       "       'Volvo', 'Ford', 'Skoda', 'Jaguar', 'Toyota', 'Jeep', 'Land',\n",
       "       'Lexus', 'Mercedes-Benz', 'Audi', 'BMW'], dtype=object)])),\n",
       "                                                 ('functiontransformer',\n",
       "                                                  FunctionTransformer(func=<function <lambda> at 0x00000000193543A8>))]),\n",
       "                                 ['marca']),\n",
       "                                ('onehotencoder', OneHotEncoder(drop='first'),\n",
       "                                 ['fuel', 'seller_type', 'transmission',\n",
       "                                  'owner'])])"
      ]
     },
     "execution_count": 302,
     "metadata": {},
     "output_type": "execute_result"
    }
   ],
   "source": [
    "clf_B.steps[0][1]"
   ]
  },
  {
   "cell_type": "code",
   "execution_count": 204,
   "metadata": {},
   "outputs": [
    {
     "data": {
      "text/plain": [
       "0.9399060137319644"
      ]
     },
     "execution_count": 204,
     "metadata": {},
     "output_type": "execute_result"
    }
   ],
   "source": [
    "clf_B.score(X_test_B, y_test_B)"
   ]
  },
  {
   "cell_type": "code",
   "execution_count": 205,
   "metadata": {},
   "outputs": [],
   "source": [
    "import cloudpickle\n",
    "import pickle\n",
    "import dill"
   ]
  },
  {
   "cell_type": "markdown",
   "metadata": {},
   "source": [
    "> Cloudpickle lo usamos para casos en los que tengamos alguna funcion lambda o algun otra funcion que no pueda serializar el pickle normalmente"
   ]
  },
  {
   "cell_type": "code",
   "execution_count": 208,
   "metadata": {},
   "outputs": [],
   "source": [
    "cloudpickle.dump(clf_B, open('model_carpre_vb.pkl', 'wb'))"
   ]
  },
  {
   "cell_type": "code",
   "execution_count": 206,
   "metadata": {},
   "outputs": [],
   "source": [
    "dill.dump(clf_B, open('model_carpre_vb2.pkl', 'wb'))"
   ]
  },
  {
   "cell_type": "code",
   "execution_count": 86,
   "metadata": {},
   "outputs": [
    {
     "name": "stderr",
     "output_type": "stream",
     "text": [
      "C:\\Users\\usuario\\Anaconda3\\lib\\site-packages\\sklearn\\base.py:318: UserWarning: Trying to unpickle estimator OrdinalEncoder from version 0.23.2 when using version 0.22.2.post1. This might lead to breaking code or invalid results. Use at your own risk.\n",
      "  UserWarning)\n",
      "C:\\Users\\usuario\\Anaconda3\\lib\\site-packages\\sklearn\\base.py:318: UserWarning: Trying to unpickle estimator FunctionTransformer from version 0.23.2 when using version 0.22.2.post1. This might lead to breaking code or invalid results. Use at your own risk.\n",
      "  UserWarning)\n",
      "C:\\Users\\usuario\\Anaconda3\\lib\\site-packages\\sklearn\\base.py:318: UserWarning: Trying to unpickle estimator Pipeline from version 0.23.2 when using version 0.22.2.post1. This might lead to breaking code or invalid results. Use at your own risk.\n",
      "  UserWarning)\n",
      "C:\\Users\\usuario\\Anaconda3\\lib\\site-packages\\sklearn\\base.py:318: UserWarning: Trying to unpickle estimator OneHotEncoder from version 0.23.2 when using version 0.22.2.post1. This might lead to breaking code or invalid results. Use at your own risk.\n",
      "  UserWarning)\n",
      "C:\\Users\\usuario\\Anaconda3\\lib\\site-packages\\sklearn\\base.py:318: UserWarning: Trying to unpickle estimator ColumnTransformer from version 0.23.2 when using version 0.22.2.post1. This might lead to breaking code or invalid results. Use at your own risk.\n",
      "  UserWarning)\n",
      "C:\\Users\\usuario\\Anaconda3\\lib\\site-packages\\sklearn\\base.py:318: UserWarning: Trying to unpickle estimator ExtraTreeRegressor from version 0.23.2 when using version 0.22.2.post1. This might lead to breaking code or invalid results. Use at your own risk.\n",
      "  UserWarning)\n"
     ]
    }
   ],
   "source": [
    "mm = cloudpickle.load(open('model_carpre_vb.pkl', 'rb'))"
   ]
  },
  {
   "cell_type": "code",
   "execution_count": 207,
   "metadata": {},
   "outputs": [
    {
     "data": {
      "text/plain": [
       "array([780000.])"
      ]
     },
     "metadata": {},
     "output_type": "display_data"
    },
    {
     "data": {
      "text/html": [
       "<div>\n",
       "<style scoped>\n",
       "    .dataframe tbody tr th:only-of-type {\n",
       "        vertical-align: middle;\n",
       "    }\n",
       "\n",
       "    .dataframe tbody tr th {\n",
       "        vertical-align: top;\n",
       "    }\n",
       "\n",
       "    .dataframe thead th {\n",
       "        text-align: right;\n",
       "    }\n",
       "</style>\n",
       "<table border=\"1\" class=\"dataframe\">\n",
       "  <thead>\n",
       "    <tr style=\"text-align: right;\">\n",
       "      <th></th>\n",
       "      <th>marca</th>\n",
       "      <th>fuel</th>\n",
       "      <th>seller_type</th>\n",
       "      <th>transmission</th>\n",
       "      <th>owner</th>\n",
       "      <th>seats</th>\n",
       "      <th>num_year</th>\n",
       "      <th>km_driven</th>\n",
       "      <th>mileage</th>\n",
       "      <th>max_power</th>\n",
       "    </tr>\n",
       "  </thead>\n",
       "  <tbody>\n",
       "    <tr>\n",
       "      <th>0</th>\n",
       "      <td>Maruti</td>\n",
       "      <td>Diesel</td>\n",
       "      <td>Individual</td>\n",
       "      <td>Manual</td>\n",
       "      <td>Second Owner</td>\n",
       "      <td>7</td>\n",
       "      <td>5</td>\n",
       "      <td>50000</td>\n",
       "      <td>24.52</td>\n",
       "      <td>88.5</td>\n",
       "    </tr>\n",
       "  </tbody>\n",
       "</table>\n",
       "</div>"
      ],
      "text/plain": [
       "    marca    fuel seller_type transmission         owner  seats  num_year  \\\n",
       "0  Maruti  Diesel  Individual       Manual  Second Owner      7         5   \n",
       "\n",
       "   km_driven  mileage  max_power  \n",
       "0      50000    24.52       88.5  "
      ]
     },
     "metadata": {},
     "output_type": "display_data"
    },
    {
     "data": {
      "text/plain": [
       "['Maruti',\n",
       " 'Diesel',\n",
       " 'Individual',\n",
       " 'Manual',\n",
       " 'Second Owner',\n",
       " 7,\n",
       " 5,\n",
       " 50000,\n",
       " 24.52,\n",
       " 88.5]"
      ]
     },
     "metadata": {},
     "output_type": "display_data"
    }
   ],
   "source": [
    "sample = X_test_B.iloc[0].to_dict()\n",
    "sample_df = pd.DataFrame(sample, index=[0])\n",
    "display(mm.predict(sample_df), sample_df, X_test_B.iloc[0].tolist())"
   ]
  },
  {
   "cell_type": "code",
   "execution_count": 218,
   "metadata": {},
   "outputs": [
    {
     "data": {
      "text/html": [
       "<div>\n",
       "<style scoped>\n",
       "    .dataframe tbody tr th:only-of-type {\n",
       "        vertical-align: middle;\n",
       "    }\n",
       "\n",
       "    .dataframe tbody tr th {\n",
       "        vertical-align: top;\n",
       "    }\n",
       "\n",
       "    .dataframe thead th {\n",
       "        text-align: right;\n",
       "    }\n",
       "</style>\n",
       "<table border=\"1\" class=\"dataframe\">\n",
       "  <thead>\n",
       "    <tr style=\"text-align: right;\">\n",
       "      <th></th>\n",
       "      <th>marca</th>\n",
       "      <th>fuel</th>\n",
       "      <th>seller_type</th>\n",
       "      <th>transmission</th>\n",
       "      <th>owner</th>\n",
       "      <th>seats</th>\n",
       "      <th>num_year</th>\n",
       "      <th>km_driven</th>\n",
       "      <th>mileage</th>\n",
       "      <th>max_power</th>\n",
       "    </tr>\n",
       "  </thead>\n",
       "  <tbody>\n",
       "    <tr>\n",
       "      <th>0</th>\n",
       "      <td>Maruti</td>\n",
       "      <td>Diesel</td>\n",
       "      <td>Individual</td>\n",
       "      <td>Manual</td>\n",
       "      <td>Second Owner</td>\n",
       "      <td>7</td>\n",
       "      <td>5</td>\n",
       "      <td>50000</td>\n",
       "      <td>24.52</td>\n",
       "      <td>88.5</td>\n",
       "    </tr>\n",
       "  </tbody>\n",
       "</table>\n",
       "</div>"
      ],
      "text/plain": [
       "    marca    fuel seller_type transmission         owner seats num_year  \\\n",
       "0  Maruti  Diesel  Individual       Manual  Second Owner     7        5   \n",
       "\n",
       "  km_driven mileage max_power  \n",
       "0     50000   24.52      88.5  "
      ]
     },
     "execution_count": 218,
     "metadata": {},
     "output_type": "execute_result"
    }
   ],
   "source": [
    "col = ['marca','fuel','seller_type','transmission','owner','seats','num_year','km_driven','mileage','max_power']\n",
    "ingreso = ['Maruti', 'Diesel', 'Individual', 'Manual', 'Second Owner', 7, 5, 50000, 24.52, 88.5]\n",
    "paso2 = pd.DataFrame(ingreso).T\n",
    "paso2.columns=col\n",
    "paso2"
   ]
  },
  {
   "cell_type": "code",
   "execution_count": 219,
   "metadata": {},
   "outputs": [
    {
     "data": {
      "text/plain": [
       "array([['Maruti', 'Diesel', 'Individual', ..., 145500, 23.4, 74.0],\n",
       "       ['Skoda', 'Diesel', 'Individual', ..., 120000, 21.14, 103.52],\n",
       "       ['Honda', 'Petrol', 'Individual', ..., 140000, 17.7, 78.0],\n",
       "       ...,\n",
       "       ['Maruti', 'Diesel', 'Individual', ..., 120000, 19.3, 73.9],\n",
       "       ['Tata', 'Diesel', 'Individual', ..., 25000, 23.57, 70.0],\n",
       "       ['Tata', 'Diesel', 'Individual', ..., 25000, 23.57, 70.0]],\n",
       "      dtype=object)"
      ]
     },
     "execution_count": 219,
     "metadata": {},
     "output_type": "execute_result"
    }
   ],
   "source": [
    "df_marca.drop('selling_price', axis=1).values"
   ]
  },
  {
   "cell_type": "markdown",
   "metadata": {},
   "source": [
    "El problema con el metodo de usar valores (sin columnas), es que no sabria como mapear las variables para aplicarles el OntHotEncoding y el FunctionTransformer, etc.\n",
    "\n",
    "Aunque aparentemente puedo utilizar la posicion como numero enteros en lugar de string (nombre de la columna)"
   ]
  },
  {
   "cell_type": "markdown",
   "metadata": {},
   "source": [
    "## Pipeline for linear models"
   ]
  },
  {
   "cell_type": "code",
   "execution_count": 35,
   "metadata": {},
   "outputs": [],
   "source": [
    "norma_ln_svr = make_column_transformer((StandardScaler(), ['num_year', 'km_driven','mileage', 'max_power']),\n",
    "                                        (OneHotEncoder(drop='first'), ['fuel', 'seller_type', 'transmission', 'owner', 'marca_group'])\n",
    "                                       )\n",
    "                                       \n",
    "clf_ln_svr = make_pipeline(normalizacion_svr, SVR())"
   ]
  },
  {
   "cell_type": "code",
   "execution_count": 43,
   "metadata": {},
   "outputs": [
    {
     "data": {
      "text/plain": [
       "<bound method ColumnTransformer.get_feature_names of ColumnTransformer(transformers=[('standardscaler', StandardScaler(),\n",
       "                                 ['num_year', 'km_driven', 'mileage',\n",
       "                                  'max_power']),\n",
       "                                ('onehotencoder', OneHotEncoder(drop='first'),\n",
       "                                 ['fuel', 'seller_type', 'transmission',\n",
       "                                  'owner', 'marca_group'])])>"
      ]
     },
     "execution_count": 43,
     "metadata": {},
     "output_type": "execute_result"
    }
   ],
   "source": [
    "norma_ln_svr.get_feature_names"
   ]
  },
  {
   "cell_type": "markdown",
   "metadata": {},
   "source": [
    "## Pipeline for non linear models"
   ]
  },
  {
   "cell_type": "code",
   "execution_count": 304,
   "metadata": {},
   "outputs": [],
   "source": [
    "norm_nl = make_column_transformer((OneHotEncoder(drop='first'), ['fuel', 'seller_type', 'transmission', 'owner', 'marca_group']), remainder='passthrough')\n",
    "clf_nl = make_pipeline(norm_nl, ExtraTreeRegressor())"
   ]
  },
  {
   "cell_type": "code",
   "execution_count": 305,
   "metadata": {},
   "outputs": [
    {
     "data": {
      "text/plain": [
       "Pipeline(steps=[('columntransformer',\n",
       "                 ColumnTransformer(remainder='passthrough',\n",
       "                                   transformers=[('onehotencoder',\n",
       "                                                  OneHotEncoder(drop='first'),\n",
       "                                                  ['fuel', 'seller_type',\n",
       "                                                   'transmission', 'owner',\n",
       "                                                   'marca_group'])])),\n",
       "                ('extratreeregressor', ExtraTreeRegressor())])"
      ]
     },
     "execution_count": 305,
     "metadata": {},
     "output_type": "execute_result"
    }
   ],
   "source": [
    "clf_nl.fit(X_train, y_train)"
   ]
  },
  {
   "cell_type": "code",
   "execution_count": 88,
   "metadata": {},
   "outputs": [],
   "source": [
    "importances = clf_nl.steps[1][1].feature_importances_\n",
    "#clf_nl['extratreeregressor'].feature_importances_"
   ]
  },
  {
   "cell_type": "code",
   "execution_count": 126,
   "metadata": {},
   "outputs": [],
   "source": [
    "features = clf_nl.steps[0][1].get_feature_names()"
   ]
  },
  {
   "cell_type": "code",
   "execution_count": 130,
   "metadata": {},
   "outputs": [],
   "source": [
    "features_clean = [re.findall('(?<=\\_x\\d\\_)(\\w+)', x)[0] if x.startswith('onehotencoder') else x for x in features ]"
   ]
  },
  {
   "cell_type": "code",
   "execution_count": 120,
   "metadata": {},
   "outputs": [
    {
     "data": {
      "text/plain": [
       "True"
      ]
     },
     "execution_count": 120,
     "metadata": {},
     "output_type": "execute_result"
    }
   ],
   "source": [
    "dd = 'onehotencoder__x0_Diesel'\n",
    "re.findall('(?<=\\_x\\d\\_)(\\w+)', dd)\n",
    "dd.startswith('onehotencoder')"
   ]
  },
  {
   "cell_type": "code",
   "execution_count": 128,
   "metadata": {},
   "outputs": [
    {
     "data": {
      "text/plain": [
       "Expensive     0.497811\n",
       "num_year      0.137608\n",
       "max_power     0.086002\n",
       "Manual        0.076792\n",
       "Individual    0.067969\n",
       "Petrol        0.036133\n",
       "mileage       0.025005\n",
       "Normal        0.019730\n",
       "Diesel        0.016603\n",
       "km_driven     0.014490\n",
       "seats         0.011301\n",
       "Second        0.005419\n",
       "Trustmark     0.004164\n",
       "Third         0.000472\n",
       "Test          0.000245\n",
       "Fourth        0.000135\n",
       "Cheaper       0.000106\n",
       "LPG           0.000015\n",
       "Name: indicator, dtype: float64"
      ]
     },
     "execution_count": 128,
     "metadata": {},
     "output_type": "execute_result"
    }
   ],
   "source": [
    "df_fi = pd.Series(data=importances, index=features_clean, name='indicator').sort_values(ascending=False)\n",
    "df_fi"
   ]
  },
  {
   "cell_type": "code",
   "execution_count": 131,
   "metadata": {},
   "outputs": [
    {
     "data": {
      "image/png": "[encoded data removed]",
      "text/plain": [
       "<Figure size 576x720 with 1 Axes>"
      ]
     },
     "metadata": {},
     "output_type": "display_data"
    }
   ],
   "source": [
    "df_fi.plot(kind='barh', figsize=(8,10), title='Feature Importance', grid=False)\n",
    "plt.show()"
   ]
  },
  {
   "cell_type": "markdown",
   "metadata": {},
   "source": [
    "Necesito buscar la manera de asignar el nombre correspondiente a los valores del _'feature_importances_'_"
   ]
  },
  {
   "cell_type": "code",
   "execution_count": 81,
   "metadata": {},
   "outputs": [
    {
     "data": {
      "text/plain": [
       "0.9589139618073679"
      ]
     },
     "execution_count": 81,
     "metadata": {},
     "output_type": "execute_result"
    }
   ],
   "source": [
    "clf_nl.score(X_test, y_test)"
   ]
  },
  {
   "cell_type": "code",
   "execution_count": 82,
   "metadata": {},
   "outputs": [
    {
     "data": {
      "image/png": "[encoded data removed]",
      "text/plain": [
       "<Figure size 432x288 with 1 Axes>"
      ]
     },
     "metadata": {},
     "output_type": "display_data"
    }
   ],
   "source": [
    "y_pred = clf_nl.predict(X_test)\n",
    "plt.scatter(y_pred, y_test)\n",
    "plt.show()"
   ]
  },
  {
   "cell_type": "code",
   "execution_count": 84,
   "metadata": {},
   "outputs": [
    {
     "name": "stdout",
     "output_type": "stream",
     "text": [
      "0.9457439530542885\n"
     ]
    }
   ],
   "source": [
    "score_xtree = cross_validate(clf_nl, X_train, y_train, scoring=['r2', 'neg_mean_absolute_error'],n_jobs=-1, verbose=0)\n",
    "print(np.mean(score_xtree['test_r2']))"
   ]
  },
  {
   "cell_type": "code",
   "execution_count": 306,
   "metadata": {},
   "outputs": [],
   "source": [
    "pickle.dump(clf_nl, open('model_carpre_va.pkl', 'wb'))"
   ]
  },
  {
   "cell_type": "markdown",
   "metadata": {},
   "source": [
    "## Prueba de SVM seccionado\n",
    "Pasos de prueba dada la alta demanda que exige el kernel del SVM, el preprocessing de StandarScalar y OneHotEncoder lo hice aparte."
   ]
  },
  {
   "cell_type": "code",
   "execution_count": 132,
   "metadata": {
    "scrolled": true
   },
   "outputs": [
    {
     "data": {
      "text/plain": [
       "[('standardscaler',\n",
       "  StandardScaler(),\n",
       "  ['num_year', 'km_driven', 'mileage', 'max_power']),\n",
       " ('onehotencoder',\n",
       "  OneHotEncoder(drop='first'),\n",
       "  ['fuel', 'seller_type', 'transmission', 'owner', 'marca_group'])]"
      ]
     },
     "metadata": {},
     "output_type": "display_data"
    },
    {
     "data": {
      "text/plain": [
       "fuel                 Diesel\n",
       "seller_type      Individual\n",
       "transmission         Manual\n",
       "owner           First Owner\n",
       "seats                     5\n",
       "num_year                  7\n",
       "km_driven            145500\n",
       "mileage                23.4\n",
       "max_power              74.0\n",
       "marca_group       Afordable\n",
       "Name: 0, dtype: object"
      ]
     },
     "metadata": {},
     "output_type": "display_data"
    },
    {
     "data": {
      "text/plain": [
       "array([ 0.01117354, -0.07573403, -1.12665627,  0.34092272,  0.        ,\n",
       "        0.        ,  1.        ,  1.        ,  0.        ,  1.        ,\n",
       "        0.        ,  0.        ,  0.        ,  1.        ,  0.        ,\n",
       "        0.        ,  0.        ])"
      ]
     },
     "metadata": {},
     "output_type": "display_data"
    },
    {
     "data": {
      "text/plain": [
       "fuel                 Diesel\n",
       "seller_type      Individual\n",
       "transmission         Manual\n",
       "owner           Third Owner\n",
       "seats                     5\n",
       "num_year                  4\n",
       "km_driven             35000\n",
       "mileage                22.0\n",
       "max_power             126.2\n",
       "marca_group          Normal\n",
       "Name: 2842, dtype: object"
      ]
     },
     "metadata": {},
     "output_type": "display_data"
    },
    {
     "data": {
      "text/plain": [
       "array([-0.74305668, -0.55313878,  0.65789186,  1.01499472,  1.        ,\n",
       "        0.        ,  0.        ,  1.        ,  0.        ,  1.        ,\n",
       "        0.        ,  0.        ,  0.        ,  1.        ,  0.        ,\n",
       "        0.        ,  1.        ])"
      ]
     },
     "metadata": {},
     "output_type": "display_data"
    }
   ],
   "source": [
    "preprocessing_train = normalizacion_svr.fit_transform(X_train)\n",
    "preprocessing_test = normalizacion_svr.fit_transform(X_test)\n",
    "display(normalizacion_svr.transformers, X_train.loc[0,:], preprocessing_train[0], X_test.iloc[0,:], preprocessing_test[0])"
   ]
  },
  {
   "cell_type": "code",
   "execution_count": 133,
   "metadata": {},
   "outputs": [],
   "source": [
    "svr = SVR()"
   ]
  },
  {
   "cell_type": "code",
   "execution_count": 134,
   "metadata": {},
   "outputs": [],
   "source": [
    "parameters = {}\n",
    "parameters['svr__C'] = [100, 1000]\n",
    "parameters['svr__degree'] = [2, 3, 5, 10]\n",
    "parameters['svr__epsilon'] = [1, 1.5, 2]\n",
    "parameters['svr__gamma'] = ['scale', 'auto']\n",
    "parameters['svr__kernel'] = ['poly', 'rbf', 'sigmoid']"
   ]
  },
  {
   "cell_type": "code",
   "execution_count": 60,
   "metadata": {},
   "outputs": [
    {
     "data": {
      "text/plain": [
       "RandomizedSearchCV(estimator=SVR(), n_jobs=1,\n",
       "                   param_distributions={'svr__C': [100, 1000],\n",
       "                                        'svr__degree': [2, 3, 5, 10],\n",
       "                                        'svr__epsilon': [1, 1.5, 2],\n",
       "                                        'svr__gamma': ['scale', 'auto'],\n",
       "                                        'svr__kernel': ['poly', 'rbf',\n",
       "                                                        'sigmoid']},\n",
       "                   scoring='neg_mean_absolute_error')"
      ]
     },
     "execution_count": 60,
     "metadata": {},
     "output_type": "execute_result"
    }
   ],
   "source": [
    "cv_svr = RandomizedSearchCV(svr, param_distributions=parameters, scoring = 'neg_mean_absolute_error', n_jobs= 1)"
   ]
  },
  {
   "cell_type": "code",
   "execution_count": 138,
   "metadata": {},
   "outputs": [],
   "source": [
    "score_svr = cross_validate(svr, preprocessing_train, y_train, scoring=['r2', 'neg_mean_absolute_error'],n_jobs=-1, verbose=0)"
   ]
  },
  {
   "cell_type": "code",
   "execution_count": 139,
   "metadata": {},
   "outputs": [
    {
     "data": {
      "text/plain": [
       "-0.0569789311131796"
      ]
     },
     "execution_count": 139,
     "metadata": {},
     "output_type": "execute_result"
    }
   ],
   "source": [
    "np.mean(score_svr['test_r2'])"
   ]
  },
  {
   "cell_type": "code",
   "execution_count": 141,
   "metadata": {},
   "outputs": [],
   "source": [
    "y_pred_svr = cross_val_predict(svr, preprocessing_train, y_train, n_jobs=-1, verbose=0)"
   ]
  },
  {
   "cell_type": "code",
   "execution_count": 61,
   "metadata": {},
   "outputs": [],
   "source": [
    "#First try\n",
    "#cv.fit(preprocessing_train, y_train)\n",
    "#print(cv_svr.best_params_)\n",
    "#print(cv_svr.best_score_)"
   ]
  },
  {
   "cell_type": "code",
   "execution_count": 62,
   "metadata": {
    "scrolled": true
   },
   "outputs": [],
   "source": [
    "#y_pred = cv_svr.predict(preprocessing_test)\n",
    "#display(y_pred[:10], y_test[:10])"
   ]
  },
  {
   "cell_type": "markdown",
   "metadata": {},
   "source": [
    "## RidgeRegression "
   ]
  },
  {
   "cell_type": "code",
   "execution_count": 66,
   "metadata": {},
   "outputs": [
    {
     "data": {
      "text/plain": [
       "<AxesSubplot:>"
      ]
     },
     "execution_count": 66,
     "metadata": {},
     "output_type": "execute_result"
    },
    {
     "data": {
      "image/png": "[encoded data removed]",
      "text/plain": [
       "<Figure size 432x288 with 2 Axes>"
      ]
     },
     "metadata": {},
     "output_type": "display_data"
    }
   ],
   "source": [
    "sns.heatmap(df_final.corr(), annot=True, cmap='RdYlGn', square=True)"
   ]
  },
  {
   "cell_type": "code",
   "execution_count": 44,
   "metadata": {},
   "outputs": [
    {
     "data": {
      "text/plain": [
       "Pipeline(steps=[('columntransformer',\n",
       "                 ColumnTransformer(transformers=[('standardscaler',\n",
       "                                                  StandardScaler(),\n",
       "                                                  ['num_year', 'km_driven',\n",
       "                                                   'mileage', 'max_power']),\n",
       "                                                 ('onehotencoder',\n",
       "                                                  OneHotEncoder(drop='first'),\n",
       "                                                  ['fuel', 'seller_type',\n",
       "                                                   'transmission', 'owner',\n",
       "                                                   'marca_group'])])),\n",
       "                ('ridgecv',\n",
       "                 RidgeCV(alphas=array([0.001, 0.01 , 0.1  , 1.   ])))])"
      ]
     },
     "execution_count": 44,
     "metadata": {},
     "output_type": "execute_result"
    }
   ],
   "source": [
    "cv_rd = make_pipeline(norma_ln_svr, RidgeCV(alphas=[1e-3, 1e-2, 1e-1, 1]))\n",
    "cv_rd"
   ]
  },
  {
   "cell_type": "code",
   "execution_count": 46,
   "metadata": {},
   "outputs": [
    {
     "name": "stdout",
     "output_type": "stream",
     "text": [
      "0.7681384872575856 [-1.62585971e+05 -5.36494625e+04 -1.51249271e+04  2.83014310e+05\n",
      "  4.62538766e+04  1.04548729e+05 -7.20113309e+04 -2.01180971e+05\n",
      " -1.51948914e+05 -2.05378449e+05  5.35907412e+04 -4.88223898e+04\n",
      "  1.34953621e+06  1.46897067e+02 -6.64932065e+04  1.78760235e+06\n",
      "  3.02352924e+04] ColumnTransformer(transformers=[('standardscaler', StandardScaler(),\n",
      "                                 ['num_year', 'km_driven', 'mileage',\n",
      "                                  'max_power']),\n",
      "                                ('onehotencoder', OneHotEncoder(drop='first'),\n",
      "                                 ['fuel', 'seller_type', 'transmission',\n",
      "                                  'owner', 'marca_group'])])\n"
     ]
    }
   ],
   "source": [
    "cv_rd.fit(X_train, y_train)\n",
    "score_rd = cross_validate(cv_rd, X_train, y_train,scoring=['r2', 'neg_mean_absolute_error'],n_jobs=-1, verbose=0)\n",
    "y_pred_rd = cross_val_predict(cv_rd, X_test, y_test, n_jobs=-1, verbose=0)\n",
    "print(np.mean(score_rd['test_r2']), cv_rd['ridgecv'].coef_, cv_rd['columntransformer'])\n",
    "#display(y_pred_rd[:10], y_test[:10])"
   ]
  },
  {
   "cell_type": "code",
   "execution_count": 125,
   "metadata": {},
   "outputs": [
    {
     "data": {
      "image/png": "[encoded data removed]",
      "text/plain": [
       "<Figure size 576x576 with 2 Axes>"
      ]
     },
     "metadata": {
      "needs_background": "light"
     },
     "output_type": "display_data"
    }
   ],
   "source": [
    "import matplotlib.gridspec as gridspec\n",
    "\n",
    "fig = plt.figure(figsize=(8,8), constrained_layout=True)\n",
    "gs = gridspec.GridSpec(2,2, figure=fig)\n",
    "fig_1 = fig.add_subplot(gs[0,:])\n",
    "fig_1.hist(y_pred_rd-y_test)\n",
    "fig_2 = fig.add_subplot(gs[1,:])\n",
    "fig_2.scatter(y_pred_rd, y_test)\n",
    "plt.show()"
   ]
  }
 ],
 "metadata": {
  "kernelspec": {
   "display_name": "Python 3",
   "language": "python",
   "name": "python3"
  },
  "language_info": {
   "codemirror_mode": {
    "name": "ipython",
    "version": 3
   },
   "file_extension": ".py",
   "mimetype": "text/x-python",
   "name": "python",
   "nbconvert_exporter": "python",
   "pygments_lexer": "ipython3",
   "version": "3.7.4"
  }
 },
 "nbformat": 4,
 "nbformat_minor": 5
}
